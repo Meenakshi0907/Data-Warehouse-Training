{
 "cells": [
  {
   "cell_type": "code",
   "execution_count": 0,
   "metadata": {
    "application/vnd.databricks.v1+cell": {
     "cellMetadata": {
      "byteLimit": 2048000,
      "rowLimit": 10000
     },
     "inputWidgets": {},
     "nuid": "73d415fa-6738-4548-a5df-f4b7494f0348",
     "showTitle": false,
     "tableResultSettingsMap": {},
     "title": ""
    }
   },
   "outputs": [],
   "source": [
    "spark.conf.set(\n",
    "  \"fs.azure.account.key.meenakshi04.blob.core.windows.net\",\n",
    "  \"FGOU2xJ7nBFGsQ5szV+AStTE4HyQ==\"\n",
    ")\n"
   ]
  },
  {
   "cell_type": "code",
   "execution_count": 0,
   "metadata": {
    "application/vnd.databricks.v1+cell": {
     "cellMetadata": {
      "byteLimit": 2048000,
      "rowLimit": 10000
     },
     "inputWidgets": {},
     "nuid": "d344ffa5-2d8e-4269-81d1-0c684a8f852c",
     "showTitle": false,
     "tableResultSettingsMap": {},
     "title": ""
    }
   },
   "outputs": [],
   "source": [
    "subscriptions_path = \"wasbs://images@meenakshi04.blob.core.windows.net/subscriptions.csv\"\n",
    "activity_path = \"wasbs://images@meenakshi04.blob.core.windows.net/user_activity.csv\"\n",
    "\n",
    "subscriptions = spark.read.option(\"header\", True).option(\"inferSchema\", True).csv(subscriptions_path)\n",
    "activity = spark.read.option(\"header\", True).option(\"inferSchema\", True).csv(activity_path)\n",
    "\n",
    "subscriptions = subscriptions.withColumn(\"StartDate\", to_date(\"StartDate\")) \\\n",
    "                             .withColumn(\"EndDate\", to_date(\"EndDate\")) \\\n",
    "                             .withColumn(\"PriceUSD\", col(\"PriceUSD\").cast(\"double\"))\n",
    "\n",
    "activity = activity.withColumn(\"EventTime\", to_timestamp(\"EventTime\"))\n"
   ]
  },
  {
   "cell_type": "code",
   "execution_count": 0,
   "metadata": {
    "application/vnd.databricks.v1+cell": {
     "cellMetadata": {
      "byteLimit": 2048000,
      "rowLimit": 10000
     },
     "inputWidgets": {},
     "nuid": "7d3fae0f-036f-4746-b04e-4b0877ef25e3",
     "showTitle": false,
     "tableResultSettingsMap": {},
     "title": ""
    }
   },
   "outputs": [
    {
     "name": "stdout",
     "output_type": "stream",
     "text": [
      "+--------------+------+------------------+\n",
      "|SubscriptionID|UserID|  engagement_score|\n",
      "+--------------+------+------------------+\n",
      "|        SUB001|  U001|0.6593406593406594|\n",
      "|        SUB002|  U002|               1.0|\n",
      "|        SUB003|  U003|0.9782608695652174|\n",
      "|        SUB004|  U001|2.6373626373626378|\n",
      "|        SUB005|  U004|0.3296703296703297|\n",
      "+--------------+------+------------------+\n",
      "\n"
     ]
    }
   ],
   "source": [
    "from pyspark.sql.functions import *\n",
    "\n",
    "subscriptions = subscriptions.withColumn(\"active_days\", datediff(\"EndDate\", \"StartDate\"))\n",
    "events_per_user = activity.groupBy(\"UserID\").count().withColumnRenamed(\"count\", \"events_per_user\")\n",
    "\n",
    "engagement_df = subscriptions.join(events_per_user, on=\"UserID\", how=\"left\").fillna(0)\n",
    "engagement_df = engagement_df.withColumn(\"engagement_score\", (col(\"events_per_user\") / col(\"active_days\")) * col(\"PriceUSD\"))\n",
    "\n",
    "engagement_df.select(\"SubscriptionID\", \"UserID\", \"engagement_score\").show()\n"
   ]
  },
  {
   "cell_type": "markdown",
   "metadata": {
    "application/vnd.databricks.v1+cell": {
     "cellMetadata": {},
     "inputWidgets": {},
     "nuid": "da634ca1-322a-4dd8-bea0-01d38f57f79f",
     "showTitle": false,
     "tableResultSettingsMap": {},
     "title": ""
    }
   },
   "source": [
    "##  B. Anomaly Detection via **SQL**"
   ]
  },
  {
   "cell_type": "code",
   "execution_count": 0,
   "metadata": {
    "application/vnd.databricks.v1+cell": {
     "cellMetadata": {
      "byteLimit": 2048000,
      "rowLimit": 10000
     },
     "inputWidgets": {},
     "nuid": "e28312c7-6d1b-444b-b59a-2b23616b8c8b",
     "showTitle": false,
     "tableResultSettingsMap": {},
     "title": ""
    }
   },
   "outputs": [],
   "source": [
    "subscriptions.createOrReplaceTempView(\"subscriptions\")\n",
    "activity.createOrReplaceTempView(\"activity\")\n"
   ]
  },
  {
   "cell_type": "code",
   "execution_count": 0,
   "metadata": {
    "application/vnd.databricks.v1+cell": {
     "cellMetadata": {
      "byteLimit": 2048000,
      "rowLimit": 10000
     },
     "inputWidgets": {},
     "nuid": "c1ae6247-8d02-4ada-b60f-fa6d7f72798a",
     "showTitle": false,
     "tableResultSettingsMap": {},
     "title": ""
    }
   },
   "outputs": [
    {
     "name": "stdout",
     "output_type": "stream",
     "text": [
      "+------+\n",
      "|UserID|\n",
      "+------+\n",
      "+------+\n",
      "\n"
     ]
    }
   ],
   "source": [
    "spark.sql(\"\"\"\n",
    "SELECT DISTINCT a.UserID\n",
    "FROM activity a\n",
    "JOIN subscriptions s ON a.UserID = s.UserID\n",
    "WHERE s.IsActive = 'false' AND to_date(a.EventTime) > s.EndDate\n",
    "\"\"\").show()\n"
   ]
  },
  {
   "cell_type": "code",
   "execution_count": 0,
   "metadata": {
    "application/vnd.databricks.v1+cell": {
     "cellMetadata": {
      "byteLimit": 2048000,
      "rowLimit": 10000
     },
     "inputWidgets": {},
     "nuid": "fa2acc33-6846-4fc3-bc11-4448af81c857",
     "showTitle": false,
     "tableResultSettingsMap": {},
     "title": ""
    }
   },
   "outputs": [
    {
     "name": "stdout",
     "output_type": "stream",
     "text": [
      "+------+\n",
      "|UserID|\n",
      "+------+\n",
      "|  U001|\n",
      "+------+\n",
      "\n"
     ]
    }
   ],
   "source": [
    "spark.sql(\"\"\"\n",
    "SELECT s.UserID\n",
    "FROM subscriptions s\n",
    "LEFT JOIN activity a\n",
    "  ON s.UserID = a.UserID AND to_date(a.EventTime) >= current_date() - 30\n",
    "WHERE s.AutoRenew = 'true'\n",
    "GROUP BY s.UserID\n",
    "HAVING COUNT(a.EventType) = 0\n",
    "\"\"\").show()\n"
   ]
  },
  {
   "cell_type": "markdown",
   "metadata": {
    "application/vnd.databricks.v1+cell": {
     "cellMetadata": {},
     "inputWidgets": {},
     "nuid": "d72cd9a3-5c96-4277-93e9-50cba5a9abef",
     "showTitle": false,
     "tableResultSettingsMap": {},
     "title": ""
    }
   },
   "source": [
    "## C. Delta Lake + Merge Simulation (Billing Fix)****"
   ]
  },
  {
   "cell_type": "code",
   "execution_count": 0,
   "metadata": {
    "application/vnd.databricks.v1+cell": {
     "cellMetadata": {
      "byteLimit": 2048000,
      "rowLimit": 10000
     },
     "inputWidgets": {},
     "nuid": "5f5cec46-03e3-4a03-9647-c47c140b3add",
     "showTitle": false,
     "tableResultSettingsMap": {},
     "title": ""
    }
   },
   "outputs": [],
   "source": [
    "from delta.tables import *\n",
    "\n",
    "subscriptions.write.format(\"delta\").mode(\"overwrite\").save(\"/tmp/delta/subscriptions\")\n",
    "\n",
    "delta_subs = DeltaTable.forPath(spark, \"/tmp/delta/subscriptions\")\n",
    "\n",
    "delta_subs.alias(\"tgt\").merge(\n",
    "    subscriptions.filter(\"PlanType = 'Pro' AND month(StartDate) = 3\").alias(\"src\"),\n",
    "    \"tgt.SubscriptionID = src.SubscriptionID\"\n",
    ").whenMatchedUpdate(set={\"PriceUSD\": \"src.PriceUSD + 5\"}).execute()\n"
   ]
  },
  {
   "cell_type": "markdown",
   "metadata": {
    "application/vnd.databricks.v1+cell": {
     "cellMetadata": {},
     "inputWidgets": {},
     "nuid": "07391926-d63e-4e58-8486-74df11ad38a6",
     "showTitle": false,
     "tableResultSettingsMap": {},
     "title": ""
    }
   },
   "source": [
    "## D. Time Travel **Debugging**"
   ]
  },
  {
   "cell_type": "code",
   "execution_count": 0,
   "metadata": {
    "application/vnd.databricks.v1+cell": {
     "cellMetadata": {
      "byteLimit": 2048000,
      "rowLimit": 10000
     },
     "inputWidgets": {},
     "nuid": "cd6bca47-4605-4f8f-a448-81fee67084e9",
     "showTitle": false,
     "tableResultSettingsMap": {},
     "title": ""
    }
   },
   "outputs": [
    {
     "name": "stdout",
     "output_type": "stream",
     "text": [
      "+-------+-------------------+----------------+----------------------------------+---------+--------------------------------------------------------------------------------------------------------------------------------------------------------------------------------------------------+----+------------------+--------------------+-----------+-----------------+-------------+-------------------------------------------------------------------------------------------------------------------------------------------------------------------------------------------------------------------------------------------------------------------------------------------------------------------------------------------------------------------------------------------------------------------------------------------------------------------------------------------------------------------------------------------------------------------------------------------------------------------------------------------------------------------------------------+------------+------------------------------------------+\n",
      "|version|timestamp          |userId          |userName                          |operation|operationParameters                                                                                                                                                                               |job |notebook          |clusterId           |readVersion|isolationLevel   |isBlindAppend|operationMetrics                                                                                                                                                                                                                                                                                                                                                                                                                                                                                                                                                                                                                                                                     |userMetadata|engineInfo                                |\n",
      "+-------+-------------------+----------------+----------------------------------+---------+--------------------------------------------------------------------------------------------------------------------------------------------------------------------------------------------------+----+------------------+--------------------+-----------+-----------------+-------------+-------------------------------------------------------------------------------------------------------------------------------------------------------------------------------------------------------------------------------------------------------------------------------------------------------------------------------------------------------------------------------------------------------------------------------------------------------------------------------------------------------------------------------------------------------------------------------------------------------------------------------------------------------------------------------------+------------+------------------------------------------+\n",
      "|2      |2025-06-16 10:23:47|5952673429196432|azuser3562_mml.local@techademy.com|OPTIMIZE |{predicate -> [], auto -> true, clusterBy -> [], zOrderBy -> [], batchId -> 0}                                                                                                                    |NULL|{4379764792363495}|0611-055735-l9owj7w1|1          |SnapshotIsolation|false        |{numRemovedFiles -> 2, numRemovedBytes -> 4542, p25FileSize -> 2397, numDeletionVectorsRemoved -> 1, minFileSize -> 2397, numAddedFiles -> 1, maxFileSize -> 2397, p75FileSize -> 2397, p50FileSize -> 2397, numAddedBytes -> 2397}                                                                                                                                                                                                                                                                                                                                                                                                                                                  |NULL        |Databricks-Runtime/15.4.x-photon-scala2.12|\n",
      "|1      |2025-06-16 10:23:43|5952673429196432|azuser3562_mml.local@techademy.com|MERGE    |{predicate -> [\"(SubscriptionID#892 = SubscriptionID#149)\"], matchedPredicates -> [{\"actionType\":\"update\"}], statsOnLoad -> false, notMatchedBySourcePredicates -> [], notMatchedPredicates -> []}|NULL|{4379764792363495}|0611-055735-l9owj7w1|0          |WriteSerializable|false        |{numTargetRowsCopied -> 0, numTargetRowsDeleted -> 0, numTargetFilesAdded -> 1, numTargetBytesAdded -> 2150, numTargetBytesRemoved -> 0, numTargetDeletionVectorsAdded -> 1, numTargetRowsMatchedUpdated -> 1, executionTimeMs -> 6131, materializeSourceTimeMs -> 403, numTargetRowsInserted -> 0, numTargetRowsMatchedDeleted -> 0, numTargetDeletionVectorsUpdated -> 0, scanTimeMs -> 3667, numTargetRowsUpdated -> 1, numOutputRows -> 1, numTargetDeletionVectorsRemoved -> 0, numTargetRowsNotMatchedBySourceUpdated -> 0, numTargetChangeFilesAdded -> 0, numSourceRows -> 1, numTargetFilesRemoved -> 0, numTargetRowsNotMatchedBySourceDeleted -> 0, rewriteTimeMs -> 1975}|NULL        |Databricks-Runtime/15.4.x-photon-scala2.12|\n",
      "|0      |2025-06-16 10:23:32|5952673429196432|azuser3562_mml.local@techademy.com|WRITE    |{mode -> Overwrite, statsOnLoad -> false, partitionBy -> []}                                                                                                                                      |NULL|{4379764792363495}|0611-055735-l9owj7w1|NULL       |WriteSerializable|false        |{numFiles -> 1, numOutputRows -> 5, numOutputBytes -> 2392}                                                                                                                                                                                                                                                                                                                                                                                                                                                                                                                                                                                                                          |NULL        |Databricks-Runtime/15.4.x-photon-scala2.12|\n",
      "+-------+-------------------+----------------+----------------------------------+---------+--------------------------------------------------------------------------------------------------------------------------------------------------------------------------------------------------+----+------------------+--------------------+-----------+-----------------+-------------+-------------------------------------------------------------------------------------------------------------------------------------------------------------------------------------------------------------------------------------------------------------------------------------------------------------------------------------------------------------------------------------------------------------------------------------------------------------------------------------------------------------------------------------------------------------------------------------------------------------------------------------------------------------------------------------+------------+------------------------------------------+\n",
      "\n",
      "+--------------+--------+--------+\n",
      "|SubscriptionID|PlanType|PriceUSD|\n",
      "+--------------+--------+--------+\n",
      "|        SUB001|   Basic|    30.0|\n",
      "|        SUB002|     Pro|    90.0|\n",
      "|        SUB003|     Pro|    90.0|\n",
      "|        SUB004| Premium|   120.0|\n",
      "|        SUB005|   Basic|    30.0|\n",
      "+--------------+--------+--------+\n",
      "\n"
     ]
    }
   ],
   "source": [
    "spark.sql(\"DESCRIBE HISTORY delta.`/tmp/delta/subscriptions`\").show(truncate=False)\n",
    "\n",
    "df_old = spark.read.format(\"delta\").option(\"versionAsOf\", 0).load(\"/tmp/delta/subscriptions\")\n",
    "df_old.select(\"SubscriptionID\", \"PlanType\", \"PriceUSD\").show()\n"
   ]
  },
  {
   "cell_type": "markdown",
   "metadata": {
    "application/vnd.databricks.v1+cell": {
     "cellMetadata": {},
     "inputWidgets": {},
     "nuid": "ad0a50b9-0f23-4f9e-9551-3b7344c94243",
     "showTitle": false,
     "tableResultSettingsMap": {},
     "title": ""
    }
   },
   "source": [
    "## E. Tier Migration Tracking (Basic → Pro → Premium)"
   ]
  },
  {
   "cell_type": "code",
   "execution_count": 0,
   "metadata": {
    "application/vnd.databricks.v1+cell": {
     "cellMetadata": {
      "byteLimit": 2048000,
      "rowLimit": 10000
     },
     "inputWidgets": {},
     "nuid": "b1d34b5f-a774-40d8-8f05-bf74208e75ec",
     "showTitle": false,
     "tableResultSettingsMap": {},
     "title": ""
    }
   },
   "outputs": [
    {
     "name": "stdout",
     "output_type": "stream",
     "text": [
      "+--------------+------+--------+----------+----------+--------+--------+---------+-----------+---------+\n",
      "|SubscriptionID|UserID|PlanType| StartDate|   EndDate|PriceUSD|IsActive|AutoRenew|active_days|prev_plan|\n",
      "+--------------+------+--------+----------+----------+--------+--------+---------+-----------+---------+\n",
      "|        SUB006|  U001|     Pro|2024-03-15|2024-04-05|    90.0|    true|    false|         21|    Basic|\n",
      "+--------------+------+--------+----------+----------+--------+--------+---------+-----------+---------+\n",
      "\n",
      "+--------------+------+--------+----------+----------+--------+--------+---------+-----------+---------+\n",
      "|SubscriptionID|UserID|PlanType| StartDate|   EndDate|PriceUSD|IsActive|AutoRenew|active_days|prev_plan|\n",
      "+--------------+------+--------+----------+----------+--------+--------+---------+-----------+---------+\n",
      "|        SUB004|  U001| Premium|2024-04-05|2024-07-05|   120.0|    true|     true|         91|      Pro|\n",
      "+--------------+------+--------+----------+----------+--------+--------+---------+-----------+---------+\n",
      "\n"
     ]
    }
   ],
   "source": [
    "from pyspark.sql.window import Window\n",
    "from pyspark.sql.functions import lag\n",
    "\n",
    "windowSpec = Window.partitionBy(\"UserID\").orderBy(\"StartDate\")\n",
    "subs_with_lag = subscriptions.withColumn(\"prev_plan\", lag(\"PlanType\").over(windowSpec))\n",
    "\n",
    "subs_with_lag.filter(\"prev_plan = 'Basic' AND PlanType = 'Pro'\").show()\n",
    "subs_with_lag.filter(\"prev_plan = 'Pro' AND PlanType = 'Premium'\").show()\n"
   ]
  },
  {
   "cell_type": "markdown",
   "metadata": {
    "application/vnd.databricks.v1+cell": {
     "cellMetadata": {},
     "inputWidgets": {},
     "nuid": "78ca0363-d82b-4679-9932-2147e8632878",
     "showTitle": false,
     "tableResultSettingsMap": {},
     "title": ""
    }
   },
   "source": [
    "## F. Power Users **Detection**"
   ]
  },
  {
   "cell_type": "code",
   "execution_count": 0,
   "metadata": {
    "application/vnd.databricks.v1+cell": {
     "cellMetadata": {
      "byteLimit": 2048000,
      "rowLimit": 10000
     },
     "inputWidgets": {},
     "nuid": "87ef3607-004e-4d2d-982f-0e32acdb8095",
     "showTitle": false,
     "tableResultSettingsMap": {},
     "title": ""
    }
   },
   "outputs": [
    {
     "name": "stdout",
     "output_type": "stream",
     "text": [
      "+------+-------------+-----------+\n",
      "|UserID|feature_count|login_count|\n",
      "+------+-------------+-----------+\n",
      "+------+-------------+-----------+\n",
      "\n",
      "+------+-------------+\n",
      "|UserID|feature_count|\n",
      "+------+-------------+\n",
      "|  U004|            1|\n",
      "|  U002|            1|\n",
      "|  U003|            1|\n",
      "|  U001|            1|\n",
      "+------+-------------+\n",
      "\n",
      "+------+-----------+\n",
      "|UserID|login_count|\n",
      "+------+-----------+\n",
      "|  U004|          1|\n",
      "|  U001|          2|\n",
      "+------+-----------+\n",
      "\n"
     ]
    }
   ],
   "source": [
    "from pyspark.sql.functions import countDistinct\n",
    "\n",
    "feature_counts = activity.groupBy(\"UserID\").agg(countDistinct(\"FeatureUsed\").alias(\"feature_count\"))\n",
    "login_counts = activity.filter(col(\"EventType\") == \"login\").groupBy(\"UserID\").count().withColumnRenamed(\"count\", \"login_count\")\n",
    "\n",
    "power_users = feature_counts.join(login_counts, \"UserID\") \\\n",
    "                            .filter((col(\"feature_count\") >= 2) & (col(\"login_count\") >= 3))\n",
    "\n",
    "power_users.write.format(\"delta\").mode(\"overwrite\").save(\"/tmp/delta/power_users\")\n",
    "power_users.show()\n",
    "feature_counts.show()\n",
    "login_counts.show()\n"
   ]
  }
 ],
 "metadata": {
  "application/vnd.databricks.v1+notebook": {
   "computePreferences": null,
   "dashboards": [],
   "environmentMetadata": {
    "base_environment": "",
    "environment_version": "2"
   },
   "inputWidgetPreferences": null,
   "language": "python",
   "notebookMetadata": {
    "pythonIndentUnit": 4
   },
   "notebookName": "SaaS Subscription Simulation",
   "widgets": {}
  },
  "language_info": {
   "name": "python"
  }
 },
 "nbformat": 4,
 "nbformat_minor": 0
}
