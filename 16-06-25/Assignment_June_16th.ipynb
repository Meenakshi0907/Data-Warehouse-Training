{
  "nbformat": 4,
  "nbformat_minor": 0,
  "metadata": {
    "colab": {
      "provenance": []
    },
    "kernelspec": {
      "name": "python3",
      "display_name": "Python 3"
    },
    "language_info": {
      "name": "python"
    }
  },
  "cells": [
    {
      "cell_type": "code",
      "execution_count": 1,
      "metadata": {
        "colab": {
          "base_uri": "https://localhost:8080/",
          "height": 219
        },
        "id": "XpgZmkMz5pJI",
        "outputId": "6c2fe13e-0f14-4231-bd99-99e0705d1d1d"
      },
      "outputs": [
        {
          "output_type": "execute_result",
          "data": {
            "text/plain": [
              "<pyspark.sql.session.SparkSession at 0x7db978c0f690>"
            ],
            "text/html": [
              "\n",
              "            <div>\n",
              "                <p><b>SparkSession - in-memory</b></p>\n",
              "                \n",
              "        <div>\n",
              "            <p><b>SparkContext</b></p>\n",
              "\n",
              "            <p><a href=\"http://33025a5bd781:4040\">Spark UI</a></p>\n",
              "\n",
              "            <dl>\n",
              "              <dt>Version</dt>\n",
              "                <dd><code>v3.5.1</code></dd>\n",
              "              <dt>Master</dt>\n",
              "                <dd><code>local[*]</code></dd>\n",
              "              <dt>AppName</dt>\n",
              "                <dd><code>june 16th</code></dd>\n",
              "            </dl>\n",
              "        </div>\n",
              "        \n",
              "            </div>\n",
              "        "
            ]
          },
          "metadata": {},
          "execution_count": 1
        }
      ],
      "source": [
        "\n",
        "from pyspark.sql import SparkSession\n",
        "\n",
        "spark = SparkSession.builder\\\n",
        ".appName(\"june 16th\")\\\n",
        ".getOrCreate()\n",
        "\n",
        "spark"
      ]
    },
    {
      "cell_type": "markdown",
      "source": [
        "**Exercise Set – Online Course Use Case\n",
        "Data Loading**"
      ],
      "metadata": {
        "id": "D5QLtwdy7e8x"
      }
    },
    {
      "cell_type": "code",
      "source": [
        "# 1. Load the data with schema inference enabled.\n",
        "\n",
        "from google.colab import drive\n",
        "drive.mount('/content/drive')\n",
        "\n",
        "df_course = spark.read.csv('/content/drive/MyDrive/course_enrollments.csv',header= True,inferSchema=True)\n",
        "df_course.show()\n",
        "df_course.printSchema()"
      ],
      "metadata": {
        "colab": {
          "base_uri": "https://localhost:8080/"
        },
        "id": "BiHI4VME6S4Y",
        "outputId": "6d65883e-908a-48b4-c64f-556f08d65aea"
      },
      "execution_count": 2,
      "outputs": [
        {
          "output_type": "stream",
          "name": "stdout",
          "text": [
            "Mounted at /content/drive\n",
            "+------------+-----------+--------------------+-----------+----------+---------------+------+---------+\n",
            "|EnrollmentID|StudentName|          CourseName|   Category|EnrollDate|ProgressPercent|Rating|   Status|\n",
            "+------------+-----------+--------------------+-----------+----------+---------------+------+---------+\n",
            "|      ENR001|     Aditya|Python for Beginners|Programming|2024-05-10|             80|   4.5|   Active|\n",
            "|      ENR002|     Simran|Data Analysis wit...|  Analytics|2024-05-12|            100|   4.7|Completed|\n",
            "|      ENR003|     Aakash| Power BI Essentials|  Analytics|2024-05-13|             30|   3.8|   Active|\n",
            "|      ENR004|       Neha|         Java Basics|Programming|2024-05-15|              0|  NULL| Inactive|\n",
            "|      ENR005|       Zara|Machine Learning 101|         AI|2024-05-17|             60|   4.2|   Active|\n",
            "|      ENR006|    Ibrahim|Python for Beginners|Programming|2024-05-18|             90|   4.6|Completed|\n",
            "+------------+-----------+--------------------+-----------+----------+---------------+------+---------+\n",
            "\n",
            "root\n",
            " |-- EnrollmentID: string (nullable = true)\n",
            " |-- StudentName: string (nullable = true)\n",
            " |-- CourseName: string (nullable = true)\n",
            " |-- Category: string (nullable = true)\n",
            " |-- EnrollDate: date (nullable = true)\n",
            " |-- ProgressPercent: integer (nullable = true)\n",
            " |-- Rating: double (nullable = true)\n",
            " |-- Status: string (nullable = true)\n",
            "\n"
          ]
        }
      ]
    },
    {
      "cell_type": "code",
      "source": [
        "# 2. Manually define schema and compare both approaches.\n",
        "\n",
        "from pyspark.sql.types import StringType, StructField, StructType, IntegerType, DoubleType, DateType\n",
        "\n",
        "manual_schema = StructType([\n",
        "    StructField(\"EnrollmentID\",StringType(),True),\n",
        "    StructField(\"StudentName\",StringType(), True),\n",
        "    StructField(\"CourseName\",StringType(), True),\n",
        "    StructField(\"Category\",StringType(), True),\n",
        "    StructField(\"EnrollmentDate\",DateType(), True),\n",
        "    StructField(\"ProgressPercent\",IntegerType(), True),\n",
        "    StructField(\"Rating\",DoubleType(), True),\n",
        "    StructField(\"Status\",StringType(), True)\n",
        "])\n",
        "\n",
        "df_maual = spark.read.csv('/content/drive/MyDrive/course_enrollments.csv',header= True,schema=manual_schema)\n",
        "\n",
        "df_maual.show()\n",
        "df_maual.printSchema()"
      ],
      "metadata": {
        "colab": {
          "base_uri": "https://localhost:8080/"
        },
        "id": "VK89OkvH7Xvu",
        "outputId": "88c647d7-0c3a-47b2-9935-637faea4bd96"
      },
      "execution_count": 4,
      "outputs": [
        {
          "output_type": "stream",
          "name": "stdout",
          "text": [
            "+------------+-----------+--------------------+-----------+--------------+---------------+------+---------+\n",
            "|EnrollmentID|StudentName|          CourseName|   Category|EnrollmentDate|ProgressPercent|Rating|   Status|\n",
            "+------------+-----------+--------------------+-----------+--------------+---------------+------+---------+\n",
            "|      ENR001|     Aditya|Python for Beginners|Programming|    2024-05-10|             80|   4.5|   Active|\n",
            "|      ENR002|     Simran|Data Analysis wit...|  Analytics|    2024-05-12|            100|   4.7|Completed|\n",
            "|      ENR003|     Aakash| Power BI Essentials|  Analytics|    2024-05-13|             30|   3.8|   Active|\n",
            "|      ENR004|       Neha|         Java Basics|Programming|    2024-05-15|              0|  NULL| Inactive|\n",
            "|      ENR005|       Zara|Machine Learning 101|         AI|    2024-05-17|             60|   4.2|   Active|\n",
            "|      ENR006|    Ibrahim|Python for Beginners|Programming|    2024-05-18|             90|   4.6|Completed|\n",
            "+------------+-----------+--------------------+-----------+--------------+---------------+------+---------+\n",
            "\n",
            "root\n",
            " |-- EnrollmentID: string (nullable = true)\n",
            " |-- StudentName: string (nullable = true)\n",
            " |-- CourseName: string (nullable = true)\n",
            " |-- Category: string (nullable = true)\n",
            " |-- EnrollmentDate: date (nullable = true)\n",
            " |-- ProgressPercent: integer (nullable = true)\n",
            " |-- Rating: double (nullable = true)\n",
            " |-- Status: string (nullable = true)\n",
            "\n"
          ]
        }
      ]
    },
    {
      "cell_type": "markdown",
      "source": [
        "**Filtering and Transformation**"
      ],
      "metadata": {
        "id": "KmHQwCH0-YpM"
      }
    },
    {
      "cell_type": "code",
      "source": [
        "# 3. Filter records where ProgressPercent < 50 .\n",
        "\n",
        "df_maual.filter(df_maual['ProgressPercent'] < 50).show()"
      ],
      "metadata": {
        "colab": {
          "base_uri": "https://localhost:8080/"
        },
        "id": "LL_IRccj-UTF",
        "outputId": "a5c169dd-93bd-4162-b112-a5c3fe4137fc"
      },
      "execution_count": 6,
      "outputs": [
        {
          "output_type": "stream",
          "name": "stdout",
          "text": [
            "+------------+-----------+-------------------+-----------+--------------+---------------+------+--------+\n",
            "|EnrollmentID|StudentName|         CourseName|   Category|EnrollmentDate|ProgressPercent|Rating|  Status|\n",
            "+------------+-----------+-------------------+-----------+--------------+---------------+------+--------+\n",
            "|      ENR003|     Aakash|Power BI Essentials|  Analytics|    2024-05-13|             30|   3.8|  Active|\n",
            "|      ENR004|       Neha|        Java Basics|Programming|    2024-05-15|              0|  NULL|Inactive|\n",
            "+------------+-----------+-------------------+-----------+--------------+---------------+------+--------+\n",
            "\n"
          ]
        }
      ]
    },
    {
      "cell_type": "code",
      "source": [
        "# 4. Replace null ratings with average rating.\n",
        "from pyspark.sql.functions import avg\n",
        "\n",
        "avg_rating = df_maual.select(avg(\"Rating\")).first()[0]\n",
        "\n",
        "df_no_null = df_maual.fillna({\"Rating\":avg_rating})\n",
        "df_no_null.show()"
      ],
      "metadata": {
        "colab": {
          "base_uri": "https://localhost:8080/"
        },
        "id": "Bz91Howf-gqV",
        "outputId": "da575c4a-1795-4f35-b3be-eaf513b4f0a9"
      },
      "execution_count": 7,
      "outputs": [
        {
          "output_type": "stream",
          "name": "stdout",
          "text": [
            "+------------+-----------+--------------------+-----------+--------------+---------------+-----------------+---------+\n",
            "|EnrollmentID|StudentName|          CourseName|   Category|EnrollmentDate|ProgressPercent|           Rating|   Status|\n",
            "+------------+-----------+--------------------+-----------+--------------+---------------+-----------------+---------+\n",
            "|      ENR001|     Aditya|Python for Beginners|Programming|    2024-05-10|             80|              4.5|   Active|\n",
            "|      ENR002|     Simran|Data Analysis wit...|  Analytics|    2024-05-12|            100|              4.7|Completed|\n",
            "|      ENR003|     Aakash| Power BI Essentials|  Analytics|    2024-05-13|             30|              3.8|   Active|\n",
            "|      ENR004|       Neha|         Java Basics|Programming|    2024-05-15|              0|4.359999999999999| Inactive|\n",
            "|      ENR005|       Zara|Machine Learning 101|         AI|    2024-05-17|             60|              4.2|   Active|\n",
            "|      ENR006|    Ibrahim|Python for Beginners|Programming|    2024-05-18|             90|              4.6|Completed|\n",
            "+------------+-----------+--------------------+-----------+--------------+---------------+-----------------+---------+\n",
            "\n"
          ]
        }
      ]
    },
    {
      "cell_type": "code",
      "source": [
        "# 5. Add column IsActive → 1 if Status is Active, else 0.\n",
        "from pyspark.sql.functions import when\n",
        "\n",
        "df_no_null = df_no_null.withColumn(\"IsActive\",when(df_no_null[\"Status\"] == \"Active\",1).otherwise(0))\n",
        "df_no_null.show()"
      ],
      "metadata": {
        "colab": {
          "base_uri": "https://localhost:8080/"
        },
        "id": "4X_ij5Gl-jQj",
        "outputId": "143d9aa8-ef40-45fd-b40a-113c11115242"
      },
      "execution_count": 8,
      "outputs": [
        {
          "output_type": "stream",
          "name": "stdout",
          "text": [
            "+------------+-----------+--------------------+-----------+--------------+---------------+-----------------+---------+--------+\n",
            "|EnrollmentID|StudentName|          CourseName|   Category|EnrollmentDate|ProgressPercent|           Rating|   Status|IsActive|\n",
            "+------------+-----------+--------------------+-----------+--------------+---------------+-----------------+---------+--------+\n",
            "|      ENR001|     Aditya|Python for Beginners|Programming|    2024-05-10|             80|              4.5|   Active|       1|\n",
            "|      ENR002|     Simran|Data Analysis wit...|  Analytics|    2024-05-12|            100|              4.7|Completed|       0|\n",
            "|      ENR003|     Aakash| Power BI Essentials|  Analytics|    2024-05-13|             30|              3.8|   Active|       1|\n",
            "|      ENR004|       Neha|         Java Basics|Programming|    2024-05-15|              0|4.359999999999999| Inactive|       0|\n",
            "|      ENR005|       Zara|Machine Learning 101|         AI|    2024-05-17|             60|              4.2|   Active|       1|\n",
            "|      ENR006|    Ibrahim|Python for Beginners|Programming|    2024-05-18|             90|              4.6|Completed|       0|\n",
            "+------------+-----------+--------------------+-----------+--------------+---------------+-----------------+---------+--------+\n",
            "\n"
          ]
        }
      ]
    },
    {
      "cell_type": "markdown",
      "source": [
        "**Aggregations & Metrics**"
      ],
      "metadata": {
        "id": "0YE5WxEEBP1a"
      }
    },
    {
      "cell_type": "code",
      "source": [
        "# 6. Find average progress by course.\n",
        "from pyspark.sql.functions import avg\n",
        "\n",
        "df_no_null.groupBy(\"CourseName\").agg(avg(\"ProgressPercent\").alias(\"AvgProgress\")).show()"
      ],
      "metadata": {
        "colab": {
          "base_uri": "https://localhost:8080/"
        },
        "id": "d4doyk9zBFak",
        "outputId": "285e85db-f06d-4943-9c87-f13906dd4463"
      },
      "execution_count": 9,
      "outputs": [
        {
          "output_type": "stream",
          "name": "stdout",
          "text": [
            "+--------------------+-----------+\n",
            "|          CourseName|AvgProgress|\n",
            "+--------------------+-----------+\n",
            "|Data Analysis wit...|      100.0|\n",
            "|         Java Basics|        0.0|\n",
            "|Machine Learning 101|       60.0|\n",
            "|Python for Beginners|       85.0|\n",
            "| Power BI Essentials|       30.0|\n",
            "+--------------------+-----------+\n",
            "\n"
          ]
        }
      ]
    },
    {
      "cell_type": "code",
      "source": [
        "# 7. Get count of students in each course category.\n",
        "from pyspark.sql.functions import count\n",
        "\n",
        "df_no_null.groupBy(\"category\").agg(count(\"EnrollmentID\").alias(\"CountEnrollment\")).show()"
      ],
      "metadata": {
        "colab": {
          "base_uri": "https://localhost:8080/"
        },
        "id": "XeNpIfHfBWcR",
        "outputId": "77e75be3-f04c-4c88-99a2-8c5e1a871edc"
      },
      "execution_count": 10,
      "outputs": [
        {
          "output_type": "stream",
          "name": "stdout",
          "text": [
            "+-----------+---------------+\n",
            "|   category|CountEnrollment|\n",
            "+-----------+---------------+\n",
            "|Programming|              3|\n",
            "|         AI|              1|\n",
            "|  Analytics|              2|\n",
            "+-----------+---------------+\n",
            "\n"
          ]
        }
      ]
    },
    {
      "cell_type": "code",
      "source": [
        "# 8. Identify the most enrolled course.\n",
        "from pyspark.sql.functions import desc, count\n",
        "\n",
        "df_no_null.groupBy(\"CourseName\").agg(count(\"EnrollmentID\").alias(\"CountEnrollment\")).orderBy(desc(\"CountEnrollment\")).limit(1).show()"
      ],
      "metadata": {
        "colab": {
          "base_uri": "https://localhost:8080/"
        },
        "id": "oxLKG8zEBZjS",
        "outputId": "c31b2f59-c591-4d1f-d1a2-10baf22118f0"
      },
      "execution_count": 13,
      "outputs": [
        {
          "output_type": "stream",
          "name": "stdout",
          "text": [
            "+--------------------+---------------+\n",
            "|          CourseName|CountEnrollment|\n",
            "+--------------------+---------------+\n",
            "|Python for Beginners|              2|\n",
            "+--------------------+---------------+\n",
            "\n"
          ]
        }
      ]
    },
    {
      "cell_type": "markdown",
      "source": [
        "**Joins**"
      ],
      "metadata": {
        "id": "HPF76iUbEsQr"
      }
    },
    {
      "cell_type": "code",
      "source": [
        "# 9. Create second CSV: course_details.csv\n",
        "df_details = spark.read.csv('/content/drive/MyDrive/course_details.csv',header= True,inferSchema=True)\n",
        "\n",
        "df_details.show()"
      ],
      "metadata": {
        "colab": {
          "base_uri": "https://localhost:8080/"
        },
        "id": "0iFxMsn3Ep-2",
        "outputId": "54351278-dd32-4c6c-d169-433ff267f16a"
      },
      "execution_count": 14,
      "outputs": [
        {
          "output_type": "stream",
          "name": "stdout",
          "text": [
            "+--------------------+-------------+----------+\n",
            "|          CourseName|DurationWeeks|Instructor|\n",
            "+--------------------+-------------+----------+\n",
            "|Python for Beginners|            4|    Rakesh|\n",
            "|Data Analysis wit...|            3|    Anjali|\n",
            "| Power BI Essentials|            5|     Rekha|\n",
            "|         Java Basics|            6|     Manoj|\n",
            "|Machine Learning 101|            8|     Samir|\n",
            "+--------------------+-------------+----------+\n",
            "\n"
          ]
        }
      ]
    },
    {
      "cell_type": "code",
      "source": [
        "# 10. Join course_enrollments with course_details to include duration and instructor.\n",
        "\n",
        "joined_df = df_no_null.join(df_details, on = \"CourseName\",how = \"inner\")\n",
        "joined_df.show()"
      ],
      "metadata": {
        "colab": {
          "base_uri": "https://localhost:8080/"
        },
        "id": "y2GaQXNXFI3X",
        "outputId": "9f172f8f-39a9-4594-c9ad-c24ba0cf1c60"
      },
      "execution_count": 15,
      "outputs": [
        {
          "output_type": "stream",
          "name": "stdout",
          "text": [
            "+--------------------+------------+-----------+-----------+--------------+---------------+-----------------+---------+--------+-------------+----------+\n",
            "|          CourseName|EnrollmentID|StudentName|   Category|EnrollmentDate|ProgressPercent|           Rating|   Status|IsActive|DurationWeeks|Instructor|\n",
            "+--------------------+------------+-----------+-----------+--------------+---------------+-----------------+---------+--------+-------------+----------+\n",
            "|Python for Beginners|      ENR001|     Aditya|Programming|    2024-05-10|             80|              4.5|   Active|       1|            4|    Rakesh|\n",
            "|Data Analysis wit...|      ENR002|     Simran|  Analytics|    2024-05-12|            100|              4.7|Completed|       0|            3|    Anjali|\n",
            "| Power BI Essentials|      ENR003|     Aakash|  Analytics|    2024-05-13|             30|              3.8|   Active|       1|            5|     Rekha|\n",
            "|         Java Basics|      ENR004|       Neha|Programming|    2024-05-15|              0|4.359999999999999| Inactive|       0|            6|     Manoj|\n",
            "|Machine Learning 101|      ENR005|       Zara|         AI|    2024-05-17|             60|              4.2|   Active|       1|            8|     Samir|\n",
            "|Python for Beginners|      ENR006|    Ibrahim|Programming|    2024-05-18|             90|              4.6|Completed|       0|            4|    Rakesh|\n",
            "+--------------------+------------+-----------+-----------+--------------+---------------+-----------------+---------+--------+-------------+----------+\n",
            "\n"
          ]
        }
      ]
    },
    {
      "cell_type": "markdown",
      "source": [
        "**Window Functions**"
      ],
      "metadata": {
        "id": "m2KKS8oYF_28"
      }
    },
    {
      "cell_type": "code",
      "source": [
        "# 11. Rank students in each course based on ProgressPercent .\n",
        "from pyspark.sql.window import Window\n",
        "from pyspark.sql.functions import rank\n",
        "\n",
        "course_window = Window.partitionBy(\"CourseName\").orderBy(df_no_null[\"ProgressPercent\"].desc())\n",
        "\n",
        "df_ranked = df_no_null.withColumn(\"ProgressPercent\",rank().over(course_window))\n",
        "df_ranked.show()"
      ],
      "metadata": {
        "colab": {
          "base_uri": "https://localhost:8080/"
        },
        "id": "V3Xk03CSF8Mm",
        "outputId": "ff5d1193-857a-4abb-e05d-eaf37afa6ddb"
      },
      "execution_count": 16,
      "outputs": [
        {
          "output_type": "stream",
          "name": "stdout",
          "text": [
            "+------------+-----------+--------------------+-----------+--------------+---------------+-----------------+---------+--------+\n",
            "|EnrollmentID|StudentName|          CourseName|   Category|EnrollmentDate|ProgressPercent|           Rating|   Status|IsActive|\n",
            "+------------+-----------+--------------------+-----------+--------------+---------------+-----------------+---------+--------+\n",
            "|      ENR002|     Simran|Data Analysis wit...|  Analytics|    2024-05-12|              1|              4.7|Completed|       0|\n",
            "|      ENR004|       Neha|         Java Basics|Programming|    2024-05-15|              1|4.359999999999999| Inactive|       0|\n",
            "|      ENR005|       Zara|Machine Learning 101|         AI|    2024-05-17|              1|              4.2|   Active|       1|\n",
            "|      ENR003|     Aakash| Power BI Essentials|  Analytics|    2024-05-13|              1|              3.8|   Active|       1|\n",
            "|      ENR006|    Ibrahim|Python for Beginners|Programming|    2024-05-18|              1|              4.6|Completed|       0|\n",
            "|      ENR001|     Aditya|Python for Beginners|Programming|    2024-05-10|              2|              4.5|   Active|       1|\n",
            "+------------+-----------+--------------------+-----------+--------------+---------------+-----------------+---------+--------+\n",
            "\n"
          ]
        }
      ]
    },
    {
      "cell_type": "code",
      "source": [
        "# 12. Get lead and lag of EnrollDate by Category.\n",
        "from pyspark.sql.functions import lead,lag\n",
        "\n",
        "date_window = Window.partitionBy(\"Category\").orderBy(\"EnrollmentDate\")\n",
        "\n",
        "df_leg_lag = df_no_null.withColumn(\"NextEnrollmentDate\", lead(\"EnrollmentDate\").over(date_window))\\\n",
        ".withColumn(\"PrevEnrollmentDate\",lag(\"EnrollmentDate\").over(date_window))\n",
        "\n",
        "df_leg_lag.show()"
      ],
      "metadata": {
        "colab": {
          "base_uri": "https://localhost:8080/"
        },
        "id": "t3dNqiqlGLJe",
        "outputId": "82f7df12-f1c8-44e2-f006-548d3823dab7"
      },
      "execution_count": 17,
      "outputs": [
        {
          "output_type": "stream",
          "name": "stdout",
          "text": [
            "+------------+-----------+--------------------+-----------+--------------+---------------+-----------------+---------+--------+------------------+------------------+\n",
            "|EnrollmentID|StudentName|          CourseName|   Category|EnrollmentDate|ProgressPercent|           Rating|   Status|IsActive|NextEnrollmentDate|PrevEnrollmentDate|\n",
            "+------------+-----------+--------------------+-----------+--------------+---------------+-----------------+---------+--------+------------------+------------------+\n",
            "|      ENR005|       Zara|Machine Learning 101|         AI|    2024-05-17|             60|              4.2|   Active|       1|              NULL|              NULL|\n",
            "|      ENR002|     Simran|Data Analysis wit...|  Analytics|    2024-05-12|            100|              4.7|Completed|       0|        2024-05-13|              NULL|\n",
            "|      ENR003|     Aakash| Power BI Essentials|  Analytics|    2024-05-13|             30|              3.8|   Active|       1|              NULL|        2024-05-12|\n",
            "|      ENR001|     Aditya|Python for Beginners|Programming|    2024-05-10|             80|              4.5|   Active|       1|        2024-05-15|              NULL|\n",
            "|      ENR004|       Neha|         Java Basics|Programming|    2024-05-15|              0|4.359999999999999| Inactive|       0|        2024-05-18|        2024-05-10|\n",
            "|      ENR006|    Ibrahim|Python for Beginners|Programming|    2024-05-18|             90|              4.6|Completed|       0|              NULL|        2024-05-15|\n",
            "+------------+-----------+--------------------+-----------+--------------+---------------+-----------------+---------+--------+------------------+------------------+\n",
            "\n"
          ]
        }
      ]
    },
    {
      "cell_type": "markdown",
      "source": [
        "**Pivoting & Formatting**"
      ],
      "metadata": {
        "id": "Jkym8jbAK0N9"
      }
    },
    {
      "cell_type": "code",
      "source": [
        "# 13. Pivot data to show total enrollments by Category and Status.\n",
        "\n",
        "pivot_df = df_no_null.groupBy(\"Category\").pivot(\"Status\").count()\n",
        "pivot_df.show()"
      ],
      "metadata": {
        "colab": {
          "base_uri": "https://localhost:8080/"
        },
        "id": "MGC_wMZHKqvJ",
        "outputId": "b5c8cefc-958f-4fef-c81b-b64d38d9108b"
      },
      "execution_count": 18,
      "outputs": [
        {
          "output_type": "stream",
          "name": "stdout",
          "text": [
            "+-----------+------+---------+--------+\n",
            "|   Category|Active|Completed|Inactive|\n",
            "+-----------+------+---------+--------+\n",
            "|Programming|     1|        1|       1|\n",
            "|         AI|     1|     NULL|    NULL|\n",
            "|  Analytics|     1|        1|    NULL|\n",
            "+-----------+------+---------+--------+\n",
            "\n"
          ]
        }
      ]
    },
    {
      "cell_type": "code",
      "source": [
        "# 14. Extract year and month from EnrollDate .\n",
        "from pyspark.sql.functions import year, month\n",
        "\n",
        "extract_date = df_no_null.withColumn(\"EnrollYear\", year(\"EnrollmentDate\")) \\\n",
        "                         .withColumn(\"EnrollMonth\", month(\"EnrollmentDate\"))\n",
        "\n",
        "extract_date.show()"
      ],
      "metadata": {
        "colab": {
          "base_uri": "https://localhost:8080/"
        },
        "id": "CrkscWrWK7Y1",
        "outputId": "3cd8ad97-9174-486e-e4e3-0faf474bcf64"
      },
      "execution_count": 21,
      "outputs": [
        {
          "output_type": "stream",
          "name": "stdout",
          "text": [
            "+------------+-----------+--------------------+-----------+--------------+---------------+-----------------+---------+--------+----------+-----------+\n",
            "|EnrollmentID|StudentName|          CourseName|   Category|EnrollmentDate|ProgressPercent|           Rating|   Status|IsActive|EnrollYear|EnrollMonth|\n",
            "+------------+-----------+--------------------+-----------+--------------+---------------+-----------------+---------+--------+----------+-----------+\n",
            "|      ENR001|     Aditya|Python for Beginners|Programming|    2024-05-10|             80|              4.5|   Active|       1|      2024|          5|\n",
            "|      ENR002|     Simran|Data Analysis wit...|  Analytics|    2024-05-12|            100|              4.7|Completed|       0|      2024|          5|\n",
            "|      ENR003|     Aakash| Power BI Essentials|  Analytics|    2024-05-13|             30|              3.8|   Active|       1|      2024|          5|\n",
            "|      ENR004|       Neha|         Java Basics|Programming|    2024-05-15|              0|4.359999999999999| Inactive|       0|      2024|          5|\n",
            "|      ENR005|       Zara|Machine Learning 101|         AI|    2024-05-17|             60|              4.2|   Active|       1|      2024|          5|\n",
            "|      ENR006|    Ibrahim|Python for Beginners|Programming|    2024-05-18|             90|              4.6|Completed|       0|      2024|          5|\n",
            "+------------+-----------+--------------------+-----------+--------------+---------------+-----------------+---------+--------+----------+-----------+\n",
            "\n"
          ]
        }
      ]
    },
    {
      "cell_type": "markdown",
      "source": [
        "**Cleaning and Deduplication**"
      ],
      "metadata": {
        "id": "FhkYbCirNqlc"
      }
    },
    {
      "cell_type": "code",
      "source": [
        "# 15. Drop rows where Status is null or empty.\n",
        "from pyspark.sql.functions import col, trim\n",
        "\n",
        "df_cleaned = df_maual.filter((col(\"Status\").isNotNull()) & (trim(col(\"Status\")) != \"\"))\n",
        "df_cleaned.show()"
      ],
      "metadata": {
        "colab": {
          "base_uri": "https://localhost:8080/"
        },
        "id": "rbRxhAvaNkVV",
        "outputId": "538e00ca-ce59-409f-bf81-9c6112459542"
      },
      "execution_count": 22,
      "outputs": [
        {
          "output_type": "stream",
          "name": "stdout",
          "text": [
            "+------------+-----------+--------------------+-----------+--------------+---------------+------+---------+\n",
            "|EnrollmentID|StudentName|          CourseName|   Category|EnrollmentDate|ProgressPercent|Rating|   Status|\n",
            "+------------+-----------+--------------------+-----------+--------------+---------------+------+---------+\n",
            "|      ENR001|     Aditya|Python for Beginners|Programming|    2024-05-10|             80|   4.5|   Active|\n",
            "|      ENR002|     Simran|Data Analysis wit...|  Analytics|    2024-05-12|            100|   4.7|Completed|\n",
            "|      ENR003|     Aakash| Power BI Essentials|  Analytics|    2024-05-13|             30|   3.8|   Active|\n",
            "|      ENR004|       Neha|         Java Basics|Programming|    2024-05-15|              0|  NULL| Inactive|\n",
            "|      ENR005|       Zara|Machine Learning 101|         AI|    2024-05-17|             60|   4.2|   Active|\n",
            "|      ENR006|    Ibrahim|Python for Beginners|Programming|    2024-05-18|             90|   4.6|Completed|\n",
            "+------------+-----------+--------------------+-----------+--------------+---------------+------+---------+\n",
            "\n"
          ]
        }
      ]
    },
    {
      "cell_type": "code",
      "source": [
        "# 16. Remove duplicate enrollments using dropDuplicates() .\n",
        "\n",
        "df_remove_duplicate = df_cleaned.dropDuplicates([\"EnrollmentID\"])\n",
        "df_remove_duplicate.show()"
      ],
      "metadata": {
        "colab": {
          "base_uri": "https://localhost:8080/"
        },
        "id": "DJHdTXzANxqd",
        "outputId": "793d5426-7b35-42cf-ffdb-81a393660c88"
      },
      "execution_count": 24,
      "outputs": [
        {
          "output_type": "stream",
          "name": "stdout",
          "text": [
            "+------------+-----------+--------------------+-----------+--------------+---------------+------+---------+\n",
            "|EnrollmentID|StudentName|          CourseName|   Category|EnrollmentDate|ProgressPercent|Rating|   Status|\n",
            "+------------+-----------+--------------------+-----------+--------------+---------------+------+---------+\n",
            "|      ENR001|     Aditya|Python for Beginners|Programming|    2024-05-10|             80|   4.5|   Active|\n",
            "|      ENR002|     Simran|Data Analysis wit...|  Analytics|    2024-05-12|            100|   4.7|Completed|\n",
            "|      ENR003|     Aakash| Power BI Essentials|  Analytics|    2024-05-13|             30|   3.8|   Active|\n",
            "|      ENR004|       Neha|         Java Basics|Programming|    2024-05-15|              0|  NULL| Inactive|\n",
            "|      ENR005|       Zara|Machine Learning 101|         AI|    2024-05-17|             60|   4.2|   Active|\n",
            "|      ENR006|    Ibrahim|Python for Beginners|Programming|    2024-05-18|             90|   4.6|Completed|\n",
            "+------------+-----------+--------------------+-----------+--------------+---------------+------+---------+\n",
            "\n"
          ]
        }
      ]
    },
    {
      "cell_type": "markdown",
      "source": [
        "**Export**"
      ],
      "metadata": {
        "id": "l4Toj5aoPfl1"
      }
    },
    {
      "cell_type": "code",
      "source": [
        "# 17. Write the final cleaned DataFrame to:\n",
        "# CSV (overwrite mode)\n",
        "# JSON (overwrite mode)\n",
        "# Parquet (snappy compression)\n",
        "\n",
        "df_remove_duplicate.write.mode(\"overwrite\").csv('/content/drive/MyDrive/final_output_csv')\n",
        "\n",
        "df_remove_duplicate.write.mode(\"overwrite\").json('/content/drive/MyDrive/final_output_json')\n",
        "\n",
        "df_remove_duplicate.write.mode(\"overwrite\").option(\"compression\",\"snappy\").parquet('/content/drive/MyDrive/final_output_parquet')"
      ],
      "metadata": {
        "id": "3YlmsraiPUgr"
      },
      "execution_count": 25,
      "outputs": []
    }
  ]
}