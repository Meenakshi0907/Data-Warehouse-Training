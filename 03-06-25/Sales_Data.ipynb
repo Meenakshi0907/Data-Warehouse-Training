{
  "nbformat": 4,
  "nbformat_minor": 0,
  "metadata": {
    "colab": {
      "provenance": []
    },
    "kernelspec": {
      "name": "python3",
      "display_name": "Python 3"
    },
    "language_info": {
      "name": "python"
    }
  },
  "cells": [
    {
      "cell_type": "code",
      "execution_count": 1,
      "metadata": {
        "colab": {
          "base_uri": "https://localhost:8080/",
          "height": 219
        },
        "id": "IoTcwT_fAmPi",
        "outputId": "836f76c0-8ce8-401b-dee8-1e937abd625d"
      },
      "outputs": [
        {
          "output_type": "execute_result",
          "data": {
            "text/plain": [
              "<pyspark.sql.session.SparkSession at 0x7da9b1066a90>"
            ],
            "text/html": [
              "\n",
              "            <div>\n",
              "                <p><b>SparkSession - in-memory</b></p>\n",
              "                \n",
              "        <div>\n",
              "            <p><b>SparkContext</b></p>\n",
              "\n",
              "            <p><a href=\"http://ad609b137f58:4040\">Spark UI</a></p>\n",
              "\n",
              "            <dl>\n",
              "              <dt>Version</dt>\n",
              "                <dd><code>v3.5.1</code></dd>\n",
              "              <dt>Master</dt>\n",
              "                <dd><code>local[*]</code></dd>\n",
              "              <dt>AppName</dt>\n",
              "                <dd><code>Sales Data</code></dd>\n",
              "            </dl>\n",
              "        </div>\n",
              "        \n",
              "            </div>\n",
              "        "
            ]
          },
          "metadata": {},
          "execution_count": 1
        }
      ],
      "source": [
        "from pyspark.sql import SparkSession\n",
        "\n",
        "spark = SparkSession.builder\\\n",
        ".appName(\"Sales Data\")\\\n",
        ".getOrCreate()\n",
        "\n",
        "spark"
      ]
    },
    {
      "cell_type": "code",
      "source": [
        "from google.colab import drive\n",
        "drive.mount('/content/drive')\n",
        "\n",
        "df = spark.read.csv('/content/drive/MyDrive/Sales_Dataset__500_Records_.csv',header= True,inferSchema=True)\n",
        "df.show(5)\n",
        "df.tail(5)"
      ],
      "metadata": {
        "colab": {
          "base_uri": "https://localhost:8080/"
        },
        "id": "eBrXc6xEBK7V",
        "outputId": "3f1cc546-4366-4584-9916-e8f32773ee4c"
      },
      "execution_count": 26,
      "outputs": [
        {
          "output_type": "stream",
          "name": "stdout",
          "text": [
            "Drive already mounted at /content/drive; to attempt to forcibly remount, call drive.mount(\"/content/drive\", force_remount=True).\n",
            "+-------+--------------+---------------+------+----------+--------------+--------+----------------+-----------+-------------+\n",
            "|OrderID|  CustomerName|ProductCategory|Amount| OrderDate|DeliveryStatus|Discount|            City|PaymentMode|CustomerSince|\n",
            "+-------+--------------+---------------+------+----------+--------------+--------+----------------+-----------+-------------+\n",
            "|   2824| Donald Walker|          Books|783.04|2024-12-26|      Returned|    0.15|    Lake Joyside|Credit Card|   2020-10-15|\n",
            "|   7912|  Brandon Hall|      Groceries| 905.0|2024-09-12|     Cancelled|    0.03|   New Jamesside|     Wallet|   2022-03-15|\n",
            "|   4611|  Donald Booth|        Fashion|657.96|2025-01-12|      Returned|    0.01|    Lake Roberto|     Wallet|   2021-08-07|\n",
            "|   3547|Phillip Garcia|        Fashion|606.89|2024-03-24|      Returned|    0.15|West Melanieview|     Wallet|   2020-08-08|\n",
            "|   8527|  Valerie Gray|           Toys| 77.87|2024-08-04|     Delivered|    0.17|       Mariastad|       Cash|   2022-11-15|\n",
            "+-------+--------------+---------------+------+----------+--------------+--------+----------------+-----------+-------------+\n",
            "only showing top 5 rows\n",
            "\n"
          ]
        },
        {
          "output_type": "execute_result",
          "data": {
            "text/plain": [
              "[Row(OrderID=2930, CustomerName='Jaime Harris', ProductCategory='Fashion', Amount=680.0, OrderDate=datetime.date(2025, 2, 16), DeliveryStatus='Returned', Discount=0.2, City='Robertville', PaymentMode='Cash', CustomerSince=datetime.date(2021, 1, 28)),\n",
              " Row(OrderID=7980, CustomerName='Dawn Wyatt', ProductCategory='Fashion', Amount=285.32, OrderDate=datetime.date(2024, 4, 26), DeliveryStatus='Cancelled', Discount=0.06, City='Cherylfurt', PaymentMode='UPI', CustomerSince=datetime.date(2021, 4, 14)),\n",
              " Row(OrderID=7770, CustomerName='Kristin White', ProductCategory='Groceries', Amount=792.11, OrderDate=datetime.date(2024, 8, 10), DeliveryStatus='Returned', Discount=0.07, City='Kingport', PaymentMode='UPI', CustomerSince=datetime.date(2022, 11, 16)),\n",
              " Row(OrderID=6641, CustomerName='Jennifer Taylor', ProductCategory='Toys', Amount=578.49, OrderDate=datetime.date(2025, 4, 3), DeliveryStatus='Delivered', Discount=0.1, City='Lake Jerryburgh', PaymentMode='Cash', CustomerSince=datetime.date(2020, 11, 4)),\n",
              " Row(OrderID=4513, CustomerName='Rachel Owen', ProductCategory='Electronics', Amount=904.97, OrderDate=datetime.date(2024, 9, 21), DeliveryStatus='Delivered', Discount=0.12, City='East Paultown', PaymentMode='Cash', CustomerSince=datetime.date(2020, 10, 21))]"
            ]
          },
          "metadata": {},
          "execution_count": 26
        }
      ]
    },
    {
      "cell_type": "code",
      "source": [
        "print(\"Data types:\", df.dtypes)"
      ],
      "metadata": {
        "colab": {
          "base_uri": "https://localhost:8080/"
        },
        "id": "-1fplMqkFTD_",
        "outputId": "ce1b4ea4-bdb9-4e33-9bf9-e00a2a7977ef"
      },
      "execution_count": 13,
      "outputs": [
        {
          "output_type": "stream",
          "name": "stdout",
          "text": [
            "Data types: [('OrderID', 'int'), ('CustomerName', 'string'), ('ProductCategory', 'string'), ('Amount', 'double'), ('OrderDate', 'date'), ('DeliveryStatus', 'string'), ('Discount', 'double'), ('City', 'string'), ('PaymentMode', 'string'), ('CustomerSince', 'date')]\n"
          ]
        }
      ]
    },
    {
      "cell_type": "code",
      "source": [
        "import pandas as pd\n",
        "df_pandas = pd.read_csv(\"/content/drive/MyDrive/Sales_Dataset__500_Records_.csv\")\n",
        "print(\"First 5\", df_pandas.head())\n",
        "print(\"Last 5:\", df_pandas.tail())\n",
        "print(\"Data types\", df_pandas.dtypes)"
      ],
      "metadata": {
        "colab": {
          "base_uri": "https://localhost:8080/"
        },
        "id": "43mgaJ7eEZlv",
        "outputId": "dc2b7e24-17ce-4058-8983-c505b95dd8d1"
      },
      "execution_count": 10,
      "outputs": [
        {
          "output_type": "stream",
          "name": "stdout",
          "text": [
            "First 5    OrderID    CustomerName ProductCategory  Amount   OrderDate DeliveryStatus  \\\n",
            "0     2824   Donald Walker           Books  783.04  2024-12-26       Returned   \n",
            "1     7912    Brandon Hall       Groceries  905.00  2024-09-12      Cancelled   \n",
            "2     4611    Donald Booth         Fashion  657.96  2025-01-12       Returned   \n",
            "3     3547  Phillip Garcia         Fashion  606.89  2024-03-24       Returned   \n",
            "4     8527    Valerie Gray            Toys   77.87  2024-08-04      Delivered   \n",
            "\n",
            "   Discount              City  PaymentMode CustomerSince  \n",
            "0      0.15      Lake Joyside  Credit Card    2020-10-15  \n",
            "1      0.03     New Jamesside       Wallet    2022-03-15  \n",
            "2      0.01      Lake Roberto       Wallet    2021-08-07  \n",
            "3      0.15  West Melanieview       Wallet    2020-08-08  \n",
            "4      0.17         Mariastad         Cash    2022-11-15  \n",
            "Last 5:      OrderID     CustomerName ProductCategory  Amount   OrderDate  \\\n",
            "495     2930     Jaime Harris         Fashion  680.00  2025-02-16   \n",
            "496     7980       Dawn Wyatt         Fashion  285.32  2024-04-26   \n",
            "497     7770    Kristin White       Groceries  792.11  2024-08-10   \n",
            "498     6641  Jennifer Taylor            Toys  578.49  2025-04-03   \n",
            "499     4513      Rachel Owen     Electronics  904.97  2024-09-21   \n",
            "\n",
            "    DeliveryStatus  Discount             City PaymentMode CustomerSince  \n",
            "495       Returned      0.20      Robertville        Cash    2021-01-28  \n",
            "496      Cancelled      0.06       Cherylfurt         UPI    2021-04-14  \n",
            "497       Returned      0.07         Kingport         UPI    2022-11-16  \n",
            "498      Delivered      0.10  Lake Jerryburgh        Cash    2020-11-04  \n",
            "499      Delivered      0.12    East Paultown        Cash    2020-10-21  \n",
            "Data types OrderID              int64\n",
            "CustomerName        object\n",
            "ProductCategory     object\n",
            "Amount             float64\n",
            "OrderDate           object\n",
            "DeliveryStatus      object\n",
            "Discount           float64\n",
            "City                object\n",
            "PaymentMode         object\n",
            "CustomerSince       object\n",
            "dtype: object\n"
          ]
        }
      ]
    },
    {
      "cell_type": "code",
      "source": [
        "import dask.dataframe as dd\n",
        "df_dask = dd.read_csv(\"/content/drive/MyDrive/Sales_Dataset__500_Records_.csv\")\n",
        "print(\"First 5 rows:\\n\", df_dask.head())\n",
        "print(\"Last 5 rows:\\n\", df_dask.tail())\n",
        "print(\"Data types:\\n\", df_dask.dtypes)"
      ],
      "metadata": {
        "colab": {
          "base_uri": "https://localhost:8080/"
        },
        "id": "Zn0yD-PJFVyR",
        "outputId": "7a9e34a6-550d-4fd2-b109-a7a00cf0d1a7"
      },
      "execution_count": 14,
      "outputs": [
        {
          "output_type": "stream",
          "name": "stdout",
          "text": [
            "First 5 rows:\n",
            "    OrderID    CustomerName ProductCategory  Amount   OrderDate DeliveryStatus  \\\n",
            "0     2824   Donald Walker           Books  783.04  2024-12-26       Returned   \n",
            "1     7912    Brandon Hall       Groceries  905.00  2024-09-12      Cancelled   \n",
            "2     4611    Donald Booth         Fashion  657.96  2025-01-12       Returned   \n",
            "3     3547  Phillip Garcia         Fashion  606.89  2024-03-24       Returned   \n",
            "4     8527    Valerie Gray            Toys   77.87  2024-08-04      Delivered   \n",
            "\n",
            "   Discount              City  PaymentMode CustomerSince  \n",
            "0      0.15      Lake Joyside  Credit Card    2020-10-15  \n",
            "1      0.03     New Jamesside       Wallet    2022-03-15  \n",
            "2      0.01      Lake Roberto       Wallet    2021-08-07  \n",
            "3      0.15  West Melanieview       Wallet    2020-08-08  \n",
            "4      0.17         Mariastad         Cash    2022-11-15  \n",
            "Last 5 rows:\n",
            "      OrderID     CustomerName ProductCategory  Amount   OrderDate  \\\n",
            "495     2930     Jaime Harris         Fashion  680.00  2025-02-16   \n",
            "496     7980       Dawn Wyatt         Fashion  285.32  2024-04-26   \n",
            "497     7770    Kristin White       Groceries  792.11  2024-08-10   \n",
            "498     6641  Jennifer Taylor            Toys  578.49  2025-04-03   \n",
            "499     4513      Rachel Owen     Electronics  904.97  2024-09-21   \n",
            "\n",
            "    DeliveryStatus  Discount             City PaymentMode CustomerSince  \n",
            "495       Returned      0.20      Robertville        Cash    2021-01-28  \n",
            "496      Cancelled      0.06       Cherylfurt         UPI    2021-04-14  \n",
            "497       Returned      0.07         Kingport         UPI    2022-11-16  \n",
            "498      Delivered      0.10  Lake Jerryburgh        Cash    2020-11-04  \n",
            "499      Delivered      0.12    East Paultown        Cash    2020-10-21  \n",
            "Data types:\n",
            " OrderID                      int64\n",
            "CustomerName       string[pyarrow]\n",
            "ProductCategory    string[pyarrow]\n",
            "Amount                     float64\n",
            "OrderDate          string[pyarrow]\n",
            "DeliveryStatus     string[pyarrow]\n",
            "Discount                   float64\n",
            "City               string[pyarrow]\n",
            "PaymentMode        string[pyarrow]\n",
            "CustomerSince      string[pyarrow]\n",
            "dtype: object\n"
          ]
        }
      ]
    },
    {
      "cell_type": "code",
      "source": [
        "# Selection, Renaming, and Filtering\n",
        "# Select only OrderID , CustomerName , and Amount .\n",
        "df_select = df.select(\"OrderID\",\"CustomerName\",\"Amount\")\n",
        "df_select.show()\n",
        "# Rename Amount to OrderAmount .\n",
        "df_rename = df.withColumnRenamed(\"Amount\",\"OrderAmount\")\n",
        "df_rename.show(5)\n",
        "# Filter orders where Amount > 500 .\n",
        "df_amt = df.filter(df[\"Amount\"] > 500)\n",
        "df_amt.show()\n",
        "# Filter orders from a specific city using .query() or .filter()\n",
        "df_city = df.filter(df[\"City\"] == \"Lake Joyside\")\n",
        "df_city.show()"
      ],
      "metadata": {
        "colab": {
          "base_uri": "https://localhost:8080/"
        },
        "id": "kwRWoP_3F9Xj",
        "outputId": "0c2f48ef-822c-4461-be11-ed849e2c447b"
      },
      "execution_count": 27,
      "outputs": [
        {
          "output_type": "stream",
          "name": "stdout",
          "text": [
            "+-------+------------------+------+\n",
            "|OrderID|      CustomerName|Amount|\n",
            "+-------+------------------+------+\n",
            "|   2824|     Donald Walker|783.04|\n",
            "|   7912|      Brandon Hall| 905.0|\n",
            "|   4611|      Donald Booth|657.96|\n",
            "|   3547|    Phillip Garcia|606.89|\n",
            "|   8527|      Valerie Gray| 77.87|\n",
            "|   4150|       Amber Perez|352.37|\n",
            "|   5554|        Roy Martin|148.33|\n",
            "|   2169|    Carolyn Daniel| 14.09|\n",
            "|   6313|       Patty Perez| 79.83|\n",
            "|   6155|Jonathan Wilkerson|882.68|\n",
            "|   9830|       Kevin Hurst|870.55|\n",
            "|   9085| Anthony Rodriguez|921.73|\n",
            "|   2040|     Kyle Mcdonald|327.52|\n",
            "|   6573|    Jeffrey Chavez|676.02|\n",
            "|   2743|  Elizabeth Fowler| 47.06|\n",
            "|   9837|     Tammy Sellers| 46.15|\n",
            "|   6038|     David Bradley|348.51|\n",
            "|   3060|       John Pierce|362.09|\n",
            "|   4295|   Jennifer Powers|684.26|\n",
            "|   5061|    George Chapman|251.89|\n",
            "+-------+------------------+------+\n",
            "only showing top 20 rows\n",
            "\n",
            "+-------+--------------+---------------+-----------+----------+--------------+--------+----------------+-----------+-------------+\n",
            "|OrderID|  CustomerName|ProductCategory|OrderAmount| OrderDate|DeliveryStatus|Discount|            City|PaymentMode|CustomerSince|\n",
            "+-------+--------------+---------------+-----------+----------+--------------+--------+----------------+-----------+-------------+\n",
            "|   2824| Donald Walker|          Books|     783.04|2024-12-26|      Returned|    0.15|    Lake Joyside|Credit Card|   2020-10-15|\n",
            "|   7912|  Brandon Hall|      Groceries|      905.0|2024-09-12|     Cancelled|    0.03|   New Jamesside|     Wallet|   2022-03-15|\n",
            "|   4611|  Donald Booth|        Fashion|     657.96|2025-01-12|      Returned|    0.01|    Lake Roberto|     Wallet|   2021-08-07|\n",
            "|   3547|Phillip Garcia|        Fashion|     606.89|2024-03-24|      Returned|    0.15|West Melanieview|     Wallet|   2020-08-08|\n",
            "|   8527|  Valerie Gray|           Toys|      77.87|2024-08-04|     Delivered|    0.17|       Mariastad|       Cash|   2022-11-15|\n",
            "+-------+--------------+---------------+-----------+----------+--------------+--------+----------------+-----------+-------------+\n",
            "only showing top 5 rows\n",
            "\n",
            "+-------+------------------+---------------+------+----------+--------------+--------+-----------------+-----------+-------------+\n",
            "|OrderID|      CustomerName|ProductCategory|Amount| OrderDate|DeliveryStatus|Discount|             City|PaymentMode|CustomerSince|\n",
            "+-------+------------------+---------------+------+----------+--------------+--------+-----------------+-----------+-------------+\n",
            "|   2824|     Donald Walker|          Books|783.04|2024-12-26|      Returned|    0.15|     Lake Joyside|Credit Card|   2020-10-15|\n",
            "|   7912|      Brandon Hall|      Groceries| 905.0|2024-09-12|     Cancelled|    0.03|    New Jamesside|     Wallet|   2022-03-15|\n",
            "|   4611|      Donald Booth|        Fashion|657.96|2025-01-12|      Returned|    0.01|     Lake Roberto|     Wallet|   2021-08-07|\n",
            "|   3547|    Phillip Garcia|        Fashion|606.89|2024-03-24|      Returned|    0.15| West Melanieview|     Wallet|   2020-08-08|\n",
            "|   6155|Jonathan Wilkerson|        Fashion|882.68|2024-10-14|     Cancelled|    0.27|       Thomasberg|       Cash|   2021-06-20|\n",
            "|   9830|       Kevin Hurst|          Books|870.55|2024-04-08|     Delivered|    0.22|      Jeffreyberg|     Wallet|   2022-08-02|\n",
            "|   9085| Anthony Rodriguez|      Groceries|921.73|2024-10-02|     Cancelled|    0.03|        Port Erin|        UPI|   2022-12-15|\n",
            "|   6573|    Jeffrey Chavez|          Books|676.02|2024-12-14|     Cancelled|    0.19|      Teresaburgh|     Wallet|   2022-07-30|\n",
            "|   4295|   Jennifer Powers|    Electronics|684.26|2024-03-19|     Cancelled|    0.21|         Lammouth|        UPI|   2020-12-06|\n",
            "|   1964|      Taylor Heath|           Toys| 578.5|2023-07-28|     Cancelled|    0.01|   West Elizabeth|       Cash|   2021-04-30|\n",
            "|   9834|    Timothy Duncan|    Electronics|944.55|2024-06-04|     Cancelled|    0.07|      Port Thomas|     Wallet|   2022-02-24|\n",
            "|   3296|     Donald Wright|        Fashion|579.99|2025-05-20|     Cancelled|    0.25|South Lindseyside|     Wallet|   2020-11-01|\n",
            "|   4502|  Stephanie Martin|    Electronics|656.32|2023-06-04|       Pending|     0.2|       Bakermouth|Credit Card|   2021-08-19|\n",
            "|   1931|      Angela Lopez|    Electronics|686.21|2024-09-07|     Cancelled|    0.17|Lake Michellefurt|        UPI|   2020-12-05|\n",
            "|   5033|     Amanda Miller|           Toys|552.76|2024-10-25|       Pending|    0.21|     Sarahborough|     Wallet|   2023-04-08|\n",
            "|   6147|      James Powers|           Toys|561.91|2024-01-22|     Cancelled|    0.05|      Stewartland|Credit Card|   2020-06-16|\n",
            "|   2127|      Jaclyn Moore|      Groceries|933.32|2025-03-11|      Returned|    0.01|      Cherylhaven|       Cash|   2020-06-14|\n",
            "|   5905|   Ashley Humphrey|          Books|844.87|2023-12-25|       Pending|    0.28|  North Juliaberg|       Cash|   2021-07-30|\n",
            "|   2512|   Sandra Williams|           Toys|630.21|2024-02-17|       Pending|    0.08|        Lake Tina|        UPI|   2021-02-08|\n",
            "|   8239|     Jessica Smith|          Books|610.08|2023-07-31|     Delivered|    0.09|        New Barry|        UPI|   2021-12-27|\n",
            "+-------+------------------+---------------+------+----------+--------------+--------+-----------------+-----------+-------------+\n",
            "only showing top 20 rows\n",
            "\n",
            "+-------+-------------+---------------+------+----------+--------------+--------+------------+-----------+-------------+\n",
            "|OrderID| CustomerName|ProductCategory|Amount| OrderDate|DeliveryStatus|Discount|        City|PaymentMode|CustomerSince|\n",
            "+-------+-------------+---------------+------+----------+--------------+--------+------------+-----------+-------------+\n",
            "|   2824|Donald Walker|          Books|783.04|2024-12-26|      Returned|    0.15|Lake Joyside|Credit Card|   2020-10-15|\n",
            "+-------+-------------+---------------+------+----------+--------------+--------+------------+-----------+-------------+\n",
            "\n"
          ]
        }
      ]
    },
    {
      "cell_type": "code",
      "source": [
        "# Data Manipulation\n",
        "from pyspark.sql.functions import when\n",
        "# Drop CustomerSince column.\n",
        "df_drop = df.drop(\"CustomerSince\")\n",
        "# Add a new column FinalAmount = Amount - (Amount * Discount) .\n",
        "df = df.withColumn(\"FinalAmount\",df[\"Amount\"] - (df[\"Amount\"]*df[\"Discount\"]))\n",
        "df.show()\n",
        "# Sort by FinalAmount descending.\n",
        "df_sort = df.orderBy(df[\"FinalAmount\"].desc())\n",
        "df_sort.show()\n",
        "# Replace all “Cancelled” status with “Order Cancelled”.\n",
        "df = df.withColumn(\"DeliveryStatus\",when(df[\"DeliveryStatus\"] == \"Cancelled\",\"Order Cancelled\").otherwise(\"DeliveryStatus\"))\n",
        "df.show()"
      ],
      "metadata": {
        "colab": {
          "base_uri": "https://localhost:8080/"
        },
        "id": "iB_jGJn6K0NB",
        "outputId": "b529cbbf-bd47-499f-9ea2-7e8fc1b5ef46"
      },
      "execution_count": 28,
      "outputs": [
        {
          "output_type": "stream",
          "name": "stdout",
          "text": [
            "+-------+------------------+---------------+------+----------+--------------+--------+-----------------+-----------+-------------+------------------+\n",
            "|OrderID|      CustomerName|ProductCategory|Amount| OrderDate|DeliveryStatus|Discount|             City|PaymentMode|CustomerSince|       FinalAmount|\n",
            "+-------+------------------+---------------+------+----------+--------------+--------+-----------------+-----------+-------------+------------------+\n",
            "|   2824|     Donald Walker|          Books|783.04|2024-12-26|      Returned|    0.15|     Lake Joyside|Credit Card|   2020-10-15|           665.584|\n",
            "|   7912|      Brandon Hall|      Groceries| 905.0|2024-09-12|     Cancelled|    0.03|    New Jamesside|     Wallet|   2022-03-15|            877.85|\n",
            "|   4611|      Donald Booth|        Fashion|657.96|2025-01-12|      Returned|    0.01|     Lake Roberto|     Wallet|   2021-08-07|          651.3804|\n",
            "|   3547|    Phillip Garcia|        Fashion|606.89|2024-03-24|      Returned|    0.15| West Melanieview|     Wallet|   2020-08-08|          515.8565|\n",
            "|   8527|      Valerie Gray|           Toys| 77.87|2024-08-04|     Delivered|    0.17|        Mariastad|       Cash|   2022-11-15| 64.63210000000001|\n",
            "|   4150|       Amber Perez|          Books|352.37|2024-01-13|     Cancelled|    0.24|  Port Jesseville|       Cash|   2022-01-13|          267.8012|\n",
            "|   5554|        Roy Martin|           Toys|148.33|2024-03-04|     Cancelled|    0.27|      Lake Joseph|       Cash|   2023-04-29|          108.2809|\n",
            "|   2169|    Carolyn Daniel|    Electronics| 14.09|2023-10-07|     Delivered|    0.25|         Grayside|Credit Card|   2021-05-09|10.567499999999999|\n",
            "|   6313|       Patty Perez|      Groceries| 79.83|2023-06-27|     Cancelled|    0.12|      Richardland|Credit Card|   2021-04-25|           70.2504|\n",
            "|   6155|Jonathan Wilkerson|        Fashion|882.68|2024-10-14|     Cancelled|    0.27|       Thomasberg|       Cash|   2021-06-20| 644.3563999999999|\n",
            "|   9830|       Kevin Hurst|          Books|870.55|2024-04-08|     Delivered|    0.22|      Jeffreyberg|     Wallet|   2022-08-02|           679.029|\n",
            "|   9085| Anthony Rodriguez|      Groceries|921.73|2024-10-02|     Cancelled|    0.03|        Port Erin|        UPI|   2022-12-15| 894.0781000000001|\n",
            "|   2040|     Kyle Mcdonald|           Toys|327.52|2023-12-15|      Returned|    0.06|Lake Jenniferside|     Wallet|   2021-07-21|307.86879999999996|\n",
            "|   6573|    Jeffrey Chavez|          Books|676.02|2024-12-14|     Cancelled|    0.19|      Teresaburgh|     Wallet|   2022-07-30|          547.5762|\n",
            "|   2743|  Elizabeth Fowler|    Electronics| 47.06|2024-09-18|     Delivered|    0.13|   East Nathaniel|       Cash|   2021-02-07|           40.9422|\n",
            "|   9837|     Tammy Sellers|          Books| 46.15|2024-09-10|     Cancelled|    0.05|       Tracyville|        UPI|   2021-12-17|           43.8425|\n",
            "|   6038|     David Bradley|        Fashion|348.51|2023-08-03|      Returned|    0.23|    Lake Toddland|        UPI|   2022-09-07|268.35269999999997|\n",
            "|   3060|       John Pierce|           Toys|362.09|2023-12-25|      Returned|    0.03|       Brandtside|       Cash|   2023-05-09|351.22729999999996|\n",
            "|   4295|   Jennifer Powers|    Electronics|684.26|2024-03-19|     Cancelled|    0.21|         Lammouth|        UPI|   2020-12-06|          540.5654|\n",
            "|   5061|    George Chapman|    Electronics|251.89|2023-11-28|       Pending|    0.27|       North Chad|       Cash|   2023-02-07|183.87969999999999|\n",
            "+-------+------------------+---------------+------+----------+--------------+--------+-----------------+-----------+-------------+------------------+\n",
            "only showing top 20 rows\n",
            "\n",
            "+-------+-----------------+---------------+------+----------+--------------+--------+-----------------+-----------+-------------+-----------------+\n",
            "|OrderID|     CustomerName|ProductCategory|Amount| OrderDate|DeliveryStatus|Discount|             City|PaymentMode|CustomerSince|      FinalAmount|\n",
            "+-------+-----------------+---------------+------+----------+--------------+--------+-----------------+-----------+-------------+-----------------+\n",
            "|   5573|   Jordan Frazier|          Books|981.05|2025-03-19|     Cancelled|    0.02|      Sheilaville|       Cash|   2021-07-12|          961.429|\n",
            "|   8474|      Heidi Brown|    Electronics|968.91|2023-11-23|     Cancelled|    0.02|       Riverafort|       Cash|   2023-03-19|         949.5318|\n",
            "|   8889|      Karen Garza|          Books| 998.3|2024-10-17|     Cancelled|    0.06|       Johnsonton|Credit Card|   2020-12-17|938.4019999999999|\n",
            "|   2127|     Jaclyn Moore|      Groceries|933.32|2025-03-11|      Returned|    0.01|      Cherylhaven|       Cash|   2020-06-14|         923.9868|\n",
            "|   9806|    Samantha Gill|      Groceries|993.17|2024-11-12|     Cancelled|    0.07|     New Seanstad|     Wallet|   2020-10-01|         923.6481|\n",
            "|   5593|   Kristy Johnson|        Fashion|961.35|2025-05-24|      Returned|    0.05|    Alexisborough|       Cash|   2022-11-30|         913.2825|\n",
            "|   2120| Alejandra Santos|    Electronics|948.84|2024-05-09|      Returned|    0.04|     Jenniferberg|     Wallet|   2022-03-03|         910.8864|\n",
            "|   5949|Dr. Michael Evans|           Toys|918.14|2023-07-29|       Pending|    0.01|   East Scottfort|     Wallet|   2022-05-24|908.9585999999999|\n",
            "|   1422|    Hunter Kramer|          Books| 973.2|2024-09-02|      Returned|    0.07|       Alfredview|       Cash|   2020-08-22|          905.076|\n",
            "|   2904|   Michelle Burns|        Fashion|922.29|2025-05-01|      Returned|    0.02|      Stokesmouth|Credit Card|   2020-12-23|         903.8442|\n",
            "|   7566|    Jesus Houston|        Fashion|899.31|2024-11-19|     Delivered|     0.0|       Marshburgh|Credit Card|   2020-11-24|           899.31|\n",
            "|   7511|      Regina Diaz|           Toys|932.21|2025-02-06|     Cancelled|    0.04|        Smithside|       Cash|   2020-12-10|         894.9216|\n",
            "|   9085|Anthony Rodriguez|      Groceries|921.73|2024-10-02|     Cancelled|    0.03|        Port Erin|        UPI|   2022-12-15|894.0781000000001|\n",
            "|   1436|     James Brooks|      Groceries|978.96|2024-03-28|     Cancelled|    0.09|West Jeffreymouth|Credit Card|   2020-11-02|         890.8536|\n",
            "|   6008|  Brittany Knight|          Books|903.71|2025-02-19|       Pending|    0.02|       Susanburgh|       Cash|   2020-06-09|         885.6358|\n",
            "|   9834|   Timothy Duncan|    Electronics|944.55|2024-06-04|     Cancelled|    0.07|      Port Thomas|     Wallet|   2022-02-24|878.4314999999999|\n",
            "|   8253|  Kevin Patterson|          Books|998.21|2024-08-17|     Cancelled|    0.12|   New Susanville|        UPI|   2021-04-20|         878.4248|\n",
            "|   7912|     Brandon Hall|      Groceries| 905.0|2024-09-12|     Cancelled|    0.03|    New Jamesside|     Wallet|   2022-03-15|           877.85|\n",
            "|   1654|   Frank Williams|          Books|903.78|2025-05-27|     Cancelled|    0.03|       Tracyshire|     Wallet|   2022-10-04|         876.6666|\n",
            "|   9239|    Tracy Montoya|    Electronics|897.41|2025-02-14|     Cancelled|    0.04|        Port John|     Wallet|   2023-02-23|         861.5136|\n",
            "+-------+-----------------+---------------+------+----------+--------------+--------+-----------------+-----------+-------------+-----------------+\n",
            "only showing top 20 rows\n",
            "\n",
            "+-------+------------------+---------------+------+----------+---------------+--------+-----------------+-----------+-------------+------------------+\n",
            "|OrderID|      CustomerName|ProductCategory|Amount| OrderDate| DeliveryStatus|Discount|             City|PaymentMode|CustomerSince|       FinalAmount|\n",
            "+-------+------------------+---------------+------+----------+---------------+--------+-----------------+-----------+-------------+------------------+\n",
            "|   2824|     Donald Walker|          Books|783.04|2024-12-26| DeliveryStatus|    0.15|     Lake Joyside|Credit Card|   2020-10-15|           665.584|\n",
            "|   7912|      Brandon Hall|      Groceries| 905.0|2024-09-12|Order Cancelled|    0.03|    New Jamesside|     Wallet|   2022-03-15|            877.85|\n",
            "|   4611|      Donald Booth|        Fashion|657.96|2025-01-12| DeliveryStatus|    0.01|     Lake Roberto|     Wallet|   2021-08-07|          651.3804|\n",
            "|   3547|    Phillip Garcia|        Fashion|606.89|2024-03-24| DeliveryStatus|    0.15| West Melanieview|     Wallet|   2020-08-08|          515.8565|\n",
            "|   8527|      Valerie Gray|           Toys| 77.87|2024-08-04| DeliveryStatus|    0.17|        Mariastad|       Cash|   2022-11-15| 64.63210000000001|\n",
            "|   4150|       Amber Perez|          Books|352.37|2024-01-13|Order Cancelled|    0.24|  Port Jesseville|       Cash|   2022-01-13|          267.8012|\n",
            "|   5554|        Roy Martin|           Toys|148.33|2024-03-04|Order Cancelled|    0.27|      Lake Joseph|       Cash|   2023-04-29|          108.2809|\n",
            "|   2169|    Carolyn Daniel|    Electronics| 14.09|2023-10-07| DeliveryStatus|    0.25|         Grayside|Credit Card|   2021-05-09|10.567499999999999|\n",
            "|   6313|       Patty Perez|      Groceries| 79.83|2023-06-27|Order Cancelled|    0.12|      Richardland|Credit Card|   2021-04-25|           70.2504|\n",
            "|   6155|Jonathan Wilkerson|        Fashion|882.68|2024-10-14|Order Cancelled|    0.27|       Thomasberg|       Cash|   2021-06-20| 644.3563999999999|\n",
            "|   9830|       Kevin Hurst|          Books|870.55|2024-04-08| DeliveryStatus|    0.22|      Jeffreyberg|     Wallet|   2022-08-02|           679.029|\n",
            "|   9085| Anthony Rodriguez|      Groceries|921.73|2024-10-02|Order Cancelled|    0.03|        Port Erin|        UPI|   2022-12-15| 894.0781000000001|\n",
            "|   2040|     Kyle Mcdonald|           Toys|327.52|2023-12-15| DeliveryStatus|    0.06|Lake Jenniferside|     Wallet|   2021-07-21|307.86879999999996|\n",
            "|   6573|    Jeffrey Chavez|          Books|676.02|2024-12-14|Order Cancelled|    0.19|      Teresaburgh|     Wallet|   2022-07-30|          547.5762|\n",
            "|   2743|  Elizabeth Fowler|    Electronics| 47.06|2024-09-18| DeliveryStatus|    0.13|   East Nathaniel|       Cash|   2021-02-07|           40.9422|\n",
            "|   9837|     Tammy Sellers|          Books| 46.15|2024-09-10|Order Cancelled|    0.05|       Tracyville|        UPI|   2021-12-17|           43.8425|\n",
            "|   6038|     David Bradley|        Fashion|348.51|2023-08-03| DeliveryStatus|    0.23|    Lake Toddland|        UPI|   2022-09-07|268.35269999999997|\n",
            "|   3060|       John Pierce|           Toys|362.09|2023-12-25| DeliveryStatus|    0.03|       Brandtside|       Cash|   2023-05-09|351.22729999999996|\n",
            "|   4295|   Jennifer Powers|    Electronics|684.26|2024-03-19|Order Cancelled|    0.21|         Lammouth|        UPI|   2020-12-06|          540.5654|\n",
            "|   5061|    George Chapman|    Electronics|251.89|2023-11-28| DeliveryStatus|    0.27|       North Chad|       Cash|   2023-02-07|183.87969999999999|\n",
            "+-------+------------------+---------------+------+----------+---------------+--------+-----------------+-----------+-------------+------------------+\n",
            "only showing top 20 rows\n",
            "\n"
          ]
        }
      ]
    },
    {
      "cell_type": "code",
      "source": [
        "# Aggregations and GroupBy\n",
        "from pyspark.sql.functions import avg, sum\n",
        "# Count of orders by DeliveryStatus .\n",
        "count_orders = df.groupBy(\"DeliveryStatus\").count()\n",
        "count_orders.show()\n",
        "# Average Amount by ProductCategory .\n",
        "avg_amt = df.groupBy(\"ProductCategory\").agg(avg(\"Amount\").alias(\"Average Amount\"))\n",
        "avg_amt.show()\n",
        "# Group by City and show total sales.\n",
        "sum_sales = df.groupBy(\"City\").agg(sum(\"Amount\").alias(\"Total Sales\"))\n",
        "sum_sales.show()"
      ],
      "metadata": {
        "colab": {
          "base_uri": "https://localhost:8080/"
        },
        "id": "mNtLw1kzN5D-",
        "outputId": "c9ac20a5-e23b-4954-d73e-c44e60915720"
      },
      "execution_count": 29,
      "outputs": [
        {
          "output_type": "stream",
          "name": "stdout",
          "text": [
            "+---------------+-----+\n",
            "| DeliveryStatus|count|\n",
            "+---------------+-----+\n",
            "| DeliveryStatus|  351|\n",
            "|Order Cancelled|  149|\n",
            "+---------------+-----+\n",
            "\n",
            "+---------------+------------------+\n",
            "|ProductCategory|    Average Amount|\n",
            "+---------------+------------------+\n",
            "|        Fashion| 500.6308235294116|\n",
            "|      Groceries|459.51786407766957|\n",
            "|    Electronics|           551.745|\n",
            "|          Books| 568.6003773584907|\n",
            "|           Toys| 534.2837499999999|\n",
            "+---------------+------------------+\n",
            "\n",
            "+----------------+-----------+\n",
            "|            City|Total Sales|\n",
            "+----------------+-----------+\n",
            "|     Ramseymouth|     761.06|\n",
            "|East Edwardshire|     291.26|\n",
            "|      Thomasberg|     882.68|\n",
            "|     Laurenville|     383.26|\n",
            "| South Colinstad|     786.27|\n",
            "|    Lake Douglas|     975.09|\n",
            "|   Williamsmouth|      10.78|\n",
            "|      Gordonport|     514.99|\n",
            "|  West Dawnmouth|       12.8|\n",
            "|        Seanbury|     814.39|\n",
            "|     Sheilaville|     981.05|\n",
            "|       Mollybury|     222.02|\n",
            "|       Lisaville|      45.69|\n",
            "| Lake Jerrymouth|     404.01|\n",
            "|       Perezfort|     917.55|\n",
            "|Port Nicoleshire|     133.78|\n",
            "|  South Samantha|     229.46|\n",
            "|     Port Willie|     788.13|\n",
            "|     Waltersfort|     552.81|\n",
            "|       Youngbury|     372.95|\n",
            "+----------------+-----------+\n",
            "only showing top 20 rows\n",
            "\n"
          ]
        }
      ]
    },
    {
      "cell_type": "code",
      "source": [
        "# Null Handling & Update\n",
        "from pyspark.sql.functions import when\n",
        "# Intentionally inject nulls in City column and handle them using fillna() ,dropna() .\n",
        "df_null = df.withColumn(\"City\",when(df[\"Amount\"] < 200 , None).otherwise(df[\"City\"]))\n",
        "\n",
        "df_fillna = df_null.fillna({\"City\":\"Unknown\"})\n",
        "df_fillna.show()\n",
        "\n",
        "df_dropna = df_null.dropna(subset = [\"City\"])\n",
        "df_dropna.show()"
      ],
      "metadata": {
        "colab": {
          "base_uri": "https://localhost:8080/"
        },
        "id": "cAEgZfOKPpNB",
        "outputId": "050e36aa-49de-40d3-ea80-8f2345625e26"
      },
      "execution_count": 30,
      "outputs": [
        {
          "output_type": "stream",
          "name": "stdout",
          "text": [
            "+-------+------------------+---------------+------+----------+---------------+--------+-----------------+-----------+-------------+------------------+\n",
            "|OrderID|      CustomerName|ProductCategory|Amount| OrderDate| DeliveryStatus|Discount|             City|PaymentMode|CustomerSince|       FinalAmount|\n",
            "+-------+------------------+---------------+------+----------+---------------+--------+-----------------+-----------+-------------+------------------+\n",
            "|   2824|     Donald Walker|          Books|783.04|2024-12-26| DeliveryStatus|    0.15|     Lake Joyside|Credit Card|   2020-10-15|           665.584|\n",
            "|   7912|      Brandon Hall|      Groceries| 905.0|2024-09-12|Order Cancelled|    0.03|    New Jamesside|     Wallet|   2022-03-15|            877.85|\n",
            "|   4611|      Donald Booth|        Fashion|657.96|2025-01-12| DeliveryStatus|    0.01|     Lake Roberto|     Wallet|   2021-08-07|          651.3804|\n",
            "|   3547|    Phillip Garcia|        Fashion|606.89|2024-03-24| DeliveryStatus|    0.15| West Melanieview|     Wallet|   2020-08-08|          515.8565|\n",
            "|   8527|      Valerie Gray|           Toys| 77.87|2024-08-04| DeliveryStatus|    0.17|          Unknown|       Cash|   2022-11-15| 64.63210000000001|\n",
            "|   4150|       Amber Perez|          Books|352.37|2024-01-13|Order Cancelled|    0.24|  Port Jesseville|       Cash|   2022-01-13|          267.8012|\n",
            "|   5554|        Roy Martin|           Toys|148.33|2024-03-04|Order Cancelled|    0.27|          Unknown|       Cash|   2023-04-29|          108.2809|\n",
            "|   2169|    Carolyn Daniel|    Electronics| 14.09|2023-10-07| DeliveryStatus|    0.25|          Unknown|Credit Card|   2021-05-09|10.567499999999999|\n",
            "|   6313|       Patty Perez|      Groceries| 79.83|2023-06-27|Order Cancelled|    0.12|          Unknown|Credit Card|   2021-04-25|           70.2504|\n",
            "|   6155|Jonathan Wilkerson|        Fashion|882.68|2024-10-14|Order Cancelled|    0.27|       Thomasberg|       Cash|   2021-06-20| 644.3563999999999|\n",
            "|   9830|       Kevin Hurst|          Books|870.55|2024-04-08| DeliveryStatus|    0.22|      Jeffreyberg|     Wallet|   2022-08-02|           679.029|\n",
            "|   9085| Anthony Rodriguez|      Groceries|921.73|2024-10-02|Order Cancelled|    0.03|        Port Erin|        UPI|   2022-12-15| 894.0781000000001|\n",
            "|   2040|     Kyle Mcdonald|           Toys|327.52|2023-12-15| DeliveryStatus|    0.06|Lake Jenniferside|     Wallet|   2021-07-21|307.86879999999996|\n",
            "|   6573|    Jeffrey Chavez|          Books|676.02|2024-12-14|Order Cancelled|    0.19|      Teresaburgh|     Wallet|   2022-07-30|          547.5762|\n",
            "|   2743|  Elizabeth Fowler|    Electronics| 47.06|2024-09-18| DeliveryStatus|    0.13|          Unknown|       Cash|   2021-02-07|           40.9422|\n",
            "|   9837|     Tammy Sellers|          Books| 46.15|2024-09-10|Order Cancelled|    0.05|          Unknown|        UPI|   2021-12-17|           43.8425|\n",
            "|   6038|     David Bradley|        Fashion|348.51|2023-08-03| DeliveryStatus|    0.23|    Lake Toddland|        UPI|   2022-09-07|268.35269999999997|\n",
            "|   3060|       John Pierce|           Toys|362.09|2023-12-25| DeliveryStatus|    0.03|       Brandtside|       Cash|   2023-05-09|351.22729999999996|\n",
            "|   4295|   Jennifer Powers|    Electronics|684.26|2024-03-19|Order Cancelled|    0.21|         Lammouth|        UPI|   2020-12-06|          540.5654|\n",
            "|   5061|    George Chapman|    Electronics|251.89|2023-11-28| DeliveryStatus|    0.27|       North Chad|       Cash|   2023-02-07|183.87969999999999|\n",
            "+-------+------------------+---------------+------+----------+---------------+--------+-----------------+-----------+-------------+------------------+\n",
            "only showing top 20 rows\n",
            "\n",
            "+-------+------------------+---------------+------+----------+---------------+--------+-----------------+-----------+-------------+------------------+\n",
            "|OrderID|      CustomerName|ProductCategory|Amount| OrderDate| DeliveryStatus|Discount|             City|PaymentMode|CustomerSince|       FinalAmount|\n",
            "+-------+------------------+---------------+------+----------+---------------+--------+-----------------+-----------+-------------+------------------+\n",
            "|   2824|     Donald Walker|          Books|783.04|2024-12-26| DeliveryStatus|    0.15|     Lake Joyside|Credit Card|   2020-10-15|           665.584|\n",
            "|   7912|      Brandon Hall|      Groceries| 905.0|2024-09-12|Order Cancelled|    0.03|    New Jamesside|     Wallet|   2022-03-15|            877.85|\n",
            "|   4611|      Donald Booth|        Fashion|657.96|2025-01-12| DeliveryStatus|    0.01|     Lake Roberto|     Wallet|   2021-08-07|          651.3804|\n",
            "|   3547|    Phillip Garcia|        Fashion|606.89|2024-03-24| DeliveryStatus|    0.15| West Melanieview|     Wallet|   2020-08-08|          515.8565|\n",
            "|   4150|       Amber Perez|          Books|352.37|2024-01-13|Order Cancelled|    0.24|  Port Jesseville|       Cash|   2022-01-13|          267.8012|\n",
            "|   6155|Jonathan Wilkerson|        Fashion|882.68|2024-10-14|Order Cancelled|    0.27|       Thomasberg|       Cash|   2021-06-20| 644.3563999999999|\n",
            "|   9830|       Kevin Hurst|          Books|870.55|2024-04-08| DeliveryStatus|    0.22|      Jeffreyberg|     Wallet|   2022-08-02|           679.029|\n",
            "|   9085| Anthony Rodriguez|      Groceries|921.73|2024-10-02|Order Cancelled|    0.03|        Port Erin|        UPI|   2022-12-15| 894.0781000000001|\n",
            "|   2040|     Kyle Mcdonald|           Toys|327.52|2023-12-15| DeliveryStatus|    0.06|Lake Jenniferside|     Wallet|   2021-07-21|307.86879999999996|\n",
            "|   6573|    Jeffrey Chavez|          Books|676.02|2024-12-14|Order Cancelled|    0.19|      Teresaburgh|     Wallet|   2022-07-30|          547.5762|\n",
            "|   6038|     David Bradley|        Fashion|348.51|2023-08-03| DeliveryStatus|    0.23|    Lake Toddland|        UPI|   2022-09-07|268.35269999999997|\n",
            "|   3060|       John Pierce|           Toys|362.09|2023-12-25| DeliveryStatus|    0.03|       Brandtside|       Cash|   2023-05-09|351.22729999999996|\n",
            "|   4295|   Jennifer Powers|    Electronics|684.26|2024-03-19|Order Cancelled|    0.21|         Lammouth|        UPI|   2020-12-06|          540.5654|\n",
            "|   5061|    George Chapman|    Electronics|251.89|2023-11-28| DeliveryStatus|    0.27|       North Chad|       Cash|   2023-02-07|183.87969999999999|\n",
            "|   1964|      Taylor Heath|           Toys| 578.5|2023-07-28|Order Cancelled|    0.01|   West Elizabeth|       Cash|   2021-04-30|           572.715|\n",
            "|   9834|    Timothy Duncan|    Electronics|944.55|2024-06-04|Order Cancelled|    0.07|      Port Thomas|     Wallet|   2022-02-24| 878.4314999999999|\n",
            "|   4119|     Matthew Gomez|          Books|326.67|2024-04-17| DeliveryStatus|    0.09|       Shieldston|       Cash|   2023-04-14|          297.2697|\n",
            "|   2612|  Nicholas Mcbride|        Fashion|219.05|2023-08-26| DeliveryStatus|    0.27|       East James|        UPI|   2022-04-29|          159.9065|\n",
            "|   3296|     Donald Wright|        Fashion|579.99|2025-05-20|Order Cancelled|    0.25|South Lindseyside|     Wallet|   2020-11-01|          434.9925|\n",
            "|   4502|  Stephanie Martin|    Electronics|656.32|2023-06-04| DeliveryStatus|     0.2|       Bakermouth|Credit Card|   2021-08-19|           525.056|\n",
            "+-------+------------------+---------------+------+----------+---------------+--------+-----------------+-----------+-------------+------------------+\n",
            "only showing top 20 rows\n",
            "\n"
          ]
        }
      ]
    },
    {
      "cell_type": "code",
      "source": [
        "# Use .when().otherwise() in PySpark to tag high-value customers ( Amount >800 ).\n",
        "from pyspark.sql.functions import when\n",
        "df = df.withColumn(\"CustomerType\",when(df[\"Amount\"] > 800,\"High Value\").otherwise(df[\"Amount\"]))\n",
        "df.show()"
      ],
      "metadata": {
        "colab": {
          "base_uri": "https://localhost:8080/"
        },
        "id": "pYAYN8mzSPTT",
        "outputId": "da210963-68ae-4b04-8e4e-90181b4c8a13"
      },
      "execution_count": 31,
      "outputs": [
        {
          "output_type": "stream",
          "name": "stdout",
          "text": [
            "+-------+------------------+---------------+------+----------+---------------+--------+-----------------+-----------+-------------+------------------+------------+\n",
            "|OrderID|      CustomerName|ProductCategory|Amount| OrderDate| DeliveryStatus|Discount|             City|PaymentMode|CustomerSince|       FinalAmount|CustomerType|\n",
            "+-------+------------------+---------------+------+----------+---------------+--------+-----------------+-----------+-------------+------------------+------------+\n",
            "|   2824|     Donald Walker|          Books|783.04|2024-12-26| DeliveryStatus|    0.15|     Lake Joyside|Credit Card|   2020-10-15|           665.584|      783.04|\n",
            "|   7912|      Brandon Hall|      Groceries| 905.0|2024-09-12|Order Cancelled|    0.03|    New Jamesside|     Wallet|   2022-03-15|            877.85|  High Value|\n",
            "|   4611|      Donald Booth|        Fashion|657.96|2025-01-12| DeliveryStatus|    0.01|     Lake Roberto|     Wallet|   2021-08-07|          651.3804|      657.96|\n",
            "|   3547|    Phillip Garcia|        Fashion|606.89|2024-03-24| DeliveryStatus|    0.15| West Melanieview|     Wallet|   2020-08-08|          515.8565|      606.89|\n",
            "|   8527|      Valerie Gray|           Toys| 77.87|2024-08-04| DeliveryStatus|    0.17|        Mariastad|       Cash|   2022-11-15| 64.63210000000001|       77.87|\n",
            "|   4150|       Amber Perez|          Books|352.37|2024-01-13|Order Cancelled|    0.24|  Port Jesseville|       Cash|   2022-01-13|          267.8012|      352.37|\n",
            "|   5554|        Roy Martin|           Toys|148.33|2024-03-04|Order Cancelled|    0.27|      Lake Joseph|       Cash|   2023-04-29|          108.2809|      148.33|\n",
            "|   2169|    Carolyn Daniel|    Electronics| 14.09|2023-10-07| DeliveryStatus|    0.25|         Grayside|Credit Card|   2021-05-09|10.567499999999999|       14.09|\n",
            "|   6313|       Patty Perez|      Groceries| 79.83|2023-06-27|Order Cancelled|    0.12|      Richardland|Credit Card|   2021-04-25|           70.2504|       79.83|\n",
            "|   6155|Jonathan Wilkerson|        Fashion|882.68|2024-10-14|Order Cancelled|    0.27|       Thomasberg|       Cash|   2021-06-20| 644.3563999999999|  High Value|\n",
            "|   9830|       Kevin Hurst|          Books|870.55|2024-04-08| DeliveryStatus|    0.22|      Jeffreyberg|     Wallet|   2022-08-02|           679.029|  High Value|\n",
            "|   9085| Anthony Rodriguez|      Groceries|921.73|2024-10-02|Order Cancelled|    0.03|        Port Erin|        UPI|   2022-12-15| 894.0781000000001|  High Value|\n",
            "|   2040|     Kyle Mcdonald|           Toys|327.52|2023-12-15| DeliveryStatus|    0.06|Lake Jenniferside|     Wallet|   2021-07-21|307.86879999999996|      327.52|\n",
            "|   6573|    Jeffrey Chavez|          Books|676.02|2024-12-14|Order Cancelled|    0.19|      Teresaburgh|     Wallet|   2022-07-30|          547.5762|      676.02|\n",
            "|   2743|  Elizabeth Fowler|    Electronics| 47.06|2024-09-18| DeliveryStatus|    0.13|   East Nathaniel|       Cash|   2021-02-07|           40.9422|       47.06|\n",
            "|   9837|     Tammy Sellers|          Books| 46.15|2024-09-10|Order Cancelled|    0.05|       Tracyville|        UPI|   2021-12-17|           43.8425|       46.15|\n",
            "|   6038|     David Bradley|        Fashion|348.51|2023-08-03| DeliveryStatus|    0.23|    Lake Toddland|        UPI|   2022-09-07|268.35269999999997|      348.51|\n",
            "|   3060|       John Pierce|           Toys|362.09|2023-12-25| DeliveryStatus|    0.03|       Brandtside|       Cash|   2023-05-09|351.22729999999996|      362.09|\n",
            "|   4295|   Jennifer Powers|    Electronics|684.26|2024-03-19|Order Cancelled|    0.21|         Lammouth|        UPI|   2020-12-06|          540.5654|      684.26|\n",
            "|   5061|    George Chapman|    Electronics|251.89|2023-11-28| DeliveryStatus|    0.27|       North Chad|       Cash|   2023-02-07|183.87969999999999|      251.89|\n",
            "+-------+------------------+---------------+------+----------+---------------+--------+-----------------+-----------+-------------+------------------+------------+\n",
            "only showing top 20 rows\n",
            "\n"
          ]
        }
      ]
    },
    {
      "cell_type": "code",
      "source": [
        "# Date & Time Functions\n",
        "from pyspark.sql.functions import year, month, current_date, datediff, round\n",
        "# Extract year and month from OrderDate .\n",
        "df = df.withColumn(\"OrderDate\", df[\"OrderDate\"].cast(\"date\"))\n",
        "df = df.withColumn(\"CustomerSince\", df[\"CustomerSince\"].cast(\"date\"))\n",
        "\n",
        "df = df.withColumn(\"OrderYear\", year(df[\"OrderDate\"]))\n",
        "df = df.withColumn(\"OrderMonth\", month(df[\"OrderDate\"]))\n",
        "# Calculate customer loyalty in years = today - CustomerSince\n",
        "df = df.withColumn(\"LoyaltyDays\", datediff(current_date(), df[\"CustomerSince\"]))\n",
        "df = df.withColumn(\"LoyaltyYears\", round(df[\"LoyaltyDays\"] / 365, 2))\n",
        "\n",
        "df.show()"
      ],
      "metadata": {
        "colab": {
          "base_uri": "https://localhost:8080/"
        },
        "id": "rwZZNbrCUPsz",
        "outputId": "9ac1a55a-3e34-40e4-e345-959b7055c5ac"
      },
      "execution_count": 32,
      "outputs": [
        {
          "output_type": "stream",
          "name": "stdout",
          "text": [
            "+-------+------------------+---------------+------+----------+---------------+--------+-----------------+-----------+-------------+------------------+------------+---------+----------+-----------+------------+\n",
            "|OrderID|      CustomerName|ProductCategory|Amount| OrderDate| DeliveryStatus|Discount|             City|PaymentMode|CustomerSince|       FinalAmount|CustomerType|OrderYear|OrderMonth|LoyaltyDays|LoyaltyYears|\n",
            "+-------+------------------+---------------+------+----------+---------------+--------+-----------------+-----------+-------------+------------------+------------+---------+----------+-----------+------------+\n",
            "|   2824|     Donald Walker|          Books|783.04|2024-12-26| DeliveryStatus|    0.15|     Lake Joyside|Credit Card|   2020-10-15|           665.584|      783.04|     2024|        12|       1692|        4.64|\n",
            "|   7912|      Brandon Hall|      Groceries| 905.0|2024-09-12|Order Cancelled|    0.03|    New Jamesside|     Wallet|   2022-03-15|            877.85|  High Value|     2024|         9|       1176|        3.22|\n",
            "|   4611|      Donald Booth|        Fashion|657.96|2025-01-12| DeliveryStatus|    0.01|     Lake Roberto|     Wallet|   2021-08-07|          651.3804|      657.96|     2025|         1|       1396|        3.82|\n",
            "|   3547|    Phillip Garcia|        Fashion|606.89|2024-03-24| DeliveryStatus|    0.15| West Melanieview|     Wallet|   2020-08-08|          515.8565|      606.89|     2024|         3|       1760|        4.82|\n",
            "|   8527|      Valerie Gray|           Toys| 77.87|2024-08-04| DeliveryStatus|    0.17|        Mariastad|       Cash|   2022-11-15| 64.63210000000001|       77.87|     2024|         8|        931|        2.55|\n",
            "|   4150|       Amber Perez|          Books|352.37|2024-01-13|Order Cancelled|    0.24|  Port Jesseville|       Cash|   2022-01-13|          267.8012|      352.37|     2024|         1|       1237|        3.39|\n",
            "|   5554|        Roy Martin|           Toys|148.33|2024-03-04|Order Cancelled|    0.27|      Lake Joseph|       Cash|   2023-04-29|          108.2809|      148.33|     2024|         3|        766|         2.1|\n",
            "|   2169|    Carolyn Daniel|    Electronics| 14.09|2023-10-07| DeliveryStatus|    0.25|         Grayside|Credit Card|   2021-05-09|10.567499999999999|       14.09|     2023|        10|       1486|        4.07|\n",
            "|   6313|       Patty Perez|      Groceries| 79.83|2023-06-27|Order Cancelled|    0.12|      Richardland|Credit Card|   2021-04-25|           70.2504|       79.83|     2023|         6|       1500|        4.11|\n",
            "|   6155|Jonathan Wilkerson|        Fashion|882.68|2024-10-14|Order Cancelled|    0.27|       Thomasberg|       Cash|   2021-06-20| 644.3563999999999|  High Value|     2024|        10|       1444|        3.96|\n",
            "|   9830|       Kevin Hurst|          Books|870.55|2024-04-08| DeliveryStatus|    0.22|      Jeffreyberg|     Wallet|   2022-08-02|           679.029|  High Value|     2024|         4|       1036|        2.84|\n",
            "|   9085| Anthony Rodriguez|      Groceries|921.73|2024-10-02|Order Cancelled|    0.03|        Port Erin|        UPI|   2022-12-15| 894.0781000000001|  High Value|     2024|        10|        901|        2.47|\n",
            "|   2040|     Kyle Mcdonald|           Toys|327.52|2023-12-15| DeliveryStatus|    0.06|Lake Jenniferside|     Wallet|   2021-07-21|307.86879999999996|      327.52|     2023|        12|       1413|        3.87|\n",
            "|   6573|    Jeffrey Chavez|          Books|676.02|2024-12-14|Order Cancelled|    0.19|      Teresaburgh|     Wallet|   2022-07-30|          547.5762|      676.02|     2024|        12|       1039|        2.85|\n",
            "|   2743|  Elizabeth Fowler|    Electronics| 47.06|2024-09-18| DeliveryStatus|    0.13|   East Nathaniel|       Cash|   2021-02-07|           40.9422|       47.06|     2024|         9|       1577|        4.32|\n",
            "|   9837|     Tammy Sellers|          Books| 46.15|2024-09-10|Order Cancelled|    0.05|       Tracyville|        UPI|   2021-12-17|           43.8425|       46.15|     2024|         9|       1264|        3.46|\n",
            "|   6038|     David Bradley|        Fashion|348.51|2023-08-03| DeliveryStatus|    0.23|    Lake Toddland|        UPI|   2022-09-07|268.35269999999997|      348.51|     2023|         8|       1000|        2.74|\n",
            "|   3060|       John Pierce|           Toys|362.09|2023-12-25| DeliveryStatus|    0.03|       Brandtside|       Cash|   2023-05-09|351.22729999999996|      362.09|     2023|        12|        756|        2.07|\n",
            "|   4295|   Jennifer Powers|    Electronics|684.26|2024-03-19|Order Cancelled|    0.21|         Lammouth|        UPI|   2020-12-06|          540.5654|      684.26|     2024|         3|       1640|        4.49|\n",
            "|   5061|    George Chapman|    Electronics|251.89|2023-11-28| DeliveryStatus|    0.27|       North Chad|       Cash|   2023-02-07|183.87969999999999|      251.89|     2023|        11|        847|        2.32|\n",
            "+-------+------------------+---------------+------+----------+---------------+--------+-----------------+-----------+-------------+------------------+------------+---------+----------+-----------+------------+\n",
            "only showing top 20 rows\n",
            "\n"
          ]
        }
      ]
    },
    {
      "cell_type": "code",
      "source": [
        "# Joins and Unions\n",
        "from pyspark.sql.functions import year\n",
        "# Create a second DataFrame with city-wise region mapping.\n",
        "city_region = [[\"Lake Joyside\",\"East\"],[\"New Jamesside\",\"West\"],[\"West Melanieview\",\"Midwest\"],[\"Mariastad\",\"South\"],[\"Port Jesseville\",\"West\"],[\"Tracyville\",\"East\"]]\n",
        "data = [\"City\",\"Region\"]\n",
        "city_region_df = spark.createDataFrame(city_region,data)\n",
        "city_region_df.show()\n",
        "# Perform inner and left joins with the main dataset.\n",
        "inner_join_df = df.join(city_region_df, on=\"City\", how=\"inner\")\n",
        "inner_join_df.select(\"OrderID\", \"CustomerName\", \"City\", \"Region\").show()\n",
        "\n",
        "left_join_df = df.join(city_region_df, on=\"City\", how=\"left\")\n",
        "left_join_df.select(\"OrderID\", \"CustomerName\", \"City\", \"Region\").show()\n",
        "# Union two datasets: e.g., orders from 2023 and 2024.\n",
        "df = df.withColumn(\"OrderDate\", df[\"OrderDate\"].cast(\"date\"))\n",
        "\n",
        "orders_2023 = df.filter(year(\"OrderDate\") == 2023)\n",
        "orders_2024 = df.filter(year(\"OrderDate\") == 2024)\n",
        "\n",
        "orders_2023 = orders_2023.select(df.columns)\n",
        "orders_2024 = orders_2024.select(df.columns)\n",
        "\n",
        "combined_orders = orders_2023.union(orders_2024)\n",
        "combined_orders.select(\"OrderID\", \"OrderDate\").show()"
      ],
      "metadata": {
        "colab": {
          "base_uri": "https://localhost:8080/"
        },
        "id": "MZ0ZDu1WXRTX",
        "outputId": "59639a16-2e2e-4f92-edbe-9a63a4087024"
      },
      "execution_count": 33,
      "outputs": [
        {
          "output_type": "stream",
          "name": "stdout",
          "text": [
            "+----------------+-------+\n",
            "|            City| Region|\n",
            "+----------------+-------+\n",
            "|    Lake Joyside|   East|\n",
            "|   New Jamesside|   West|\n",
            "|West Melanieview|Midwest|\n",
            "|       Mariastad|  South|\n",
            "| Port Jesseville|   West|\n",
            "|      Tracyville|   East|\n",
            "+----------------+-------+\n",
            "\n",
            "+-------+--------------+----------------+-------+\n",
            "|OrderID|  CustomerName|            City| Region|\n",
            "+-------+--------------+----------------+-------+\n",
            "|   2824| Donald Walker|    Lake Joyside|   East|\n",
            "|   7912|  Brandon Hall|   New Jamesside|   West|\n",
            "|   3547|Phillip Garcia|West Melanieview|Midwest|\n",
            "|   8527|  Valerie Gray|       Mariastad|  South|\n",
            "|   4150|   Amber Perez| Port Jesseville|   West|\n",
            "|   9837| Tammy Sellers|      Tracyville|   East|\n",
            "+-------+--------------+----------------+-------+\n",
            "\n",
            "+-------+------------------+-----------------+-------+\n",
            "|OrderID|      CustomerName|             City| Region|\n",
            "+-------+------------------+-----------------+-------+\n",
            "|   6155|Jonathan Wilkerson|       Thomasberg|   NULL|\n",
            "|   2743|  Elizabeth Fowler|   East Nathaniel|   NULL|\n",
            "|   4150|       Amber Perez|  Port Jesseville|   West|\n",
            "|   5061|    George Chapman|       North Chad|   NULL|\n",
            "|   6038|     David Bradley|    Lake Toddland|   NULL|\n",
            "|   2824|     Donald Walker|     Lake Joyside|   East|\n",
            "|   3060|       John Pierce|       Brandtside|   NULL|\n",
            "|   1964|      Taylor Heath|   West Elizabeth|   NULL|\n",
            "|   2040|     Kyle Mcdonald|Lake Jenniferside|   NULL|\n",
            "|   9085| Anthony Rodriguez|        Port Erin|   NULL|\n",
            "|   6573|    Jeffrey Chavez|      Teresaburgh|   NULL|\n",
            "|   4611|      Donald Booth|     Lake Roberto|   NULL|\n",
            "|   9837|     Tammy Sellers|       Tracyville|   East|\n",
            "|   9830|       Kevin Hurst|      Jeffreyberg|   NULL|\n",
            "|   5554|        Roy Martin|      Lake Joseph|   NULL|\n",
            "|   3547|    Phillip Garcia| West Melanieview|Midwest|\n",
            "|   7912|      Brandon Hall|    New Jamesside|   West|\n",
            "|   2169|    Carolyn Daniel|         Grayside|   NULL|\n",
            "|   8527|      Valerie Gray|        Mariastad|  South|\n",
            "|   6313|       Patty Perez|      Richardland|   NULL|\n",
            "+-------+------------------+-----------------+-------+\n",
            "only showing top 20 rows\n",
            "\n",
            "+-------+----------+\n",
            "|OrderID| OrderDate|\n",
            "+-------+----------+\n",
            "|   2169|2023-10-07|\n",
            "|   6313|2023-06-27|\n",
            "|   2040|2023-12-15|\n",
            "|   6038|2023-08-03|\n",
            "|   3060|2023-12-25|\n",
            "|   5061|2023-11-28|\n",
            "|   1964|2023-07-28|\n",
            "|   2612|2023-08-26|\n",
            "|   1828|2023-08-14|\n",
            "|   4502|2023-06-04|\n",
            "|   1958|2023-07-17|\n",
            "|   5905|2023-12-25|\n",
            "|   8239|2023-07-31|\n",
            "|   9379|2023-07-07|\n",
            "|   3851|2023-06-03|\n",
            "|   1757|2023-07-29|\n",
            "|   9486|2023-09-05|\n",
            "|   3607|2023-12-12|\n",
            "|   4919|2023-12-31|\n",
            "|   3267|2023-11-16|\n",
            "+-------+----------+\n",
            "only showing top 20 rows\n",
            "\n"
          ]
        }
      ]
    },
    {
      "cell_type": "code",
      "source": [
        "# Complex JSON Simulation (Advanced)\n",
        "# Convert each order to a JSON string and load it back into a DataFrame.\n",
        "from pyspark.sql.types import StructType, StructField, StringType, DoubleType, IntegerType, DateType\n",
        "from pyspark.sql.functions import to_json, struct,from_json,get_json_object,explode, array, lit,col\n",
        "df_json = df.withColumn(\"json_str\", to_json(struct([col(c) for c in df.columns])))\n",
        "df_json.select(\"json_str\").show(2, truncate=False)\n",
        "\n",
        "schema = df.schema\n",
        "parsed_df = df_json.withColumn(\"parsed\", from_json(col(\"json_str\"), schema))\n",
        "parsed_df.select(\"parsed.*\").show(2)\n",
        "\n",
        "# Access nested fields using explode() and get_json_object() .\n",
        "parsed_df.select(\n",
        "    get_json_object(col(\"json_str\"), \"$.CustomerName\").alias(\"CustomerName\"),\n",
        "    get_json_object(col(\"json_str\"), \"$.City\").alias(\"City\"),\n",
        ").show(5)\n",
        "\n",
        "orders_with_array = df.withColumn(\"Products\", array(lit(\"Phone\"), lit(\"Laptop\"), lit(\"Tablet\")))\n",
        "\n",
        "exploded = orders_with_array.select(\"OrderID\", \"CustomerName\", explode(col(\"Products\")).alias(\"Product\"))\n",
        "exploded.show(5)"
      ],
      "metadata": {
        "colab": {
          "base_uri": "https://localhost:8080/"
        },
        "id": "vsJE_KegZSSU",
        "outputId": "cffc1c39-dbe7-4fcd-a8e3-763664ba43d9"
      },
      "execution_count": 35,
      "outputs": [
        {
          "output_type": "stream",
          "name": "stdout",
          "text": [
            "+--------------------------------------------------------------------------------------------------------------------------------------------------------------------------------------------------------------------------------------------------------------------------------------------------------------------------------------------------------------------------+\n",
            "|json_str                                                                                                                                                                                                                                                                                                                                                                  |\n",
            "+--------------------------------------------------------------------------------------------------------------------------------------------------------------------------------------------------------------------------------------------------------------------------------------------------------------------------------------------------------------------------+\n",
            "|{\"OrderID\":2824,\"CustomerName\":\"Donald Walker\",\"ProductCategory\":\"Books\",\"Amount\":783.04,\"OrderDate\":\"2024-12-26\",\"DeliveryStatus\":\"DeliveryStatus\",\"Discount\":0.15,\"City\":\"Lake Joyside\",\"PaymentMode\":\"Credit Card\",\"CustomerSince\":\"2020-10-15\",\"FinalAmount\":665.584,\"CustomerType\":\"783.04\",\"OrderYear\":2024,\"OrderMonth\":12,\"LoyaltyDays\":1692,\"LoyaltyYears\":4.64} |\n",
            "|{\"OrderID\":7912,\"CustomerName\":\"Brandon Hall\",\"ProductCategory\":\"Groceries\",\"Amount\":905.0,\"OrderDate\":\"2024-09-12\",\"DeliveryStatus\":\"Order Cancelled\",\"Discount\":0.03,\"City\":\"New Jamesside\",\"PaymentMode\":\"Wallet\",\"CustomerSince\":\"2022-03-15\",\"FinalAmount\":877.85,\"CustomerType\":\"High Value\",\"OrderYear\":2024,\"OrderMonth\":9,\"LoyaltyDays\":1176,\"LoyaltyYears\":3.22}|\n",
            "+--------------------------------------------------------------------------------------------------------------------------------------------------------------------------------------------------------------------------------------------------------------------------------------------------------------------------------------------------------------------------+\n",
            "only showing top 2 rows\n",
            "\n",
            "+-------+-------------+---------------+------+----------+---------------+--------+-------------+-----------+-------------+-----------+------------+---------+----------+-----------+------------+\n",
            "|OrderID| CustomerName|ProductCategory|Amount| OrderDate| DeliveryStatus|Discount|         City|PaymentMode|CustomerSince|FinalAmount|CustomerType|OrderYear|OrderMonth|LoyaltyDays|LoyaltyYears|\n",
            "+-------+-------------+---------------+------+----------+---------------+--------+-------------+-----------+-------------+-----------+------------+---------+----------+-----------+------------+\n",
            "|   2824|Donald Walker|          Books|783.04|2024-12-26| DeliveryStatus|    0.15| Lake Joyside|Credit Card|   2020-10-15|    665.584|      783.04|     2024|        12|       1692|        4.64|\n",
            "|   7912| Brandon Hall|      Groceries| 905.0|2024-09-12|Order Cancelled|    0.03|New Jamesside|     Wallet|   2022-03-15|     877.85|  High Value|     2024|         9|       1176|        3.22|\n",
            "+-------+-------------+---------------+------+----------+---------------+--------+-------------+-----------+-------------+-----------+------------+---------+----------+-----------+------------+\n",
            "only showing top 2 rows\n",
            "\n",
            "+--------------+----------------+\n",
            "|  CustomerName|            City|\n",
            "+--------------+----------------+\n",
            "| Donald Walker|    Lake Joyside|\n",
            "|  Brandon Hall|   New Jamesside|\n",
            "|  Donald Booth|    Lake Roberto|\n",
            "|Phillip Garcia|West Melanieview|\n",
            "|  Valerie Gray|       Mariastad|\n",
            "+--------------+----------------+\n",
            "only showing top 5 rows\n",
            "\n",
            "+-------+-------------+-------+\n",
            "|OrderID| CustomerName|Product|\n",
            "+-------+-------------+-------+\n",
            "|   2824|Donald Walker|  Phone|\n",
            "|   2824|Donald Walker| Laptop|\n",
            "|   2824|Donald Walker| Tablet|\n",
            "|   7912| Brandon Hall|  Phone|\n",
            "|   7912| Brandon Hall| Laptop|\n",
            "+-------+-------------+-------+\n",
            "only showing top 5 rows\n",
            "\n"
          ]
        }
      ]
    },
    {
      "cell_type": "code",
      "source": [
        "# Applying Functions\n",
        "# Create a function to tag orders: “Big”, “Medium”, “Small” based on Amount.\n",
        "# Apply it using .apply() in Pandas, and UDF in PySpark.\n",
        "\n",
        "def tag_order(amount):\n",
        "    if amount > 800:\n",
        "        return \"Big\"\n",
        "    elif amount > 500:\n",
        "        return \"Medium\"\n",
        "    else:\n",
        "        return \"Small\"\n",
        "\n",
        "df_pandas[\"OrderTag\"] = df_pandas[\"Amount\"].apply(tag_order)\n",
        "print(df_pandas[[\"OrderID\", \"Amount\", \"OrderTag\"]])"
      ],
      "metadata": {
        "colab": {
          "base_uri": "https://localhost:8080/"
        },
        "id": "Mq44sLufbqa0",
        "outputId": "a79e997e-0e05-4084-8f54-9777b64e9552"
      },
      "execution_count": 37,
      "outputs": [
        {
          "output_type": "stream",
          "name": "stdout",
          "text": [
            "     OrderID  Amount OrderTag\n",
            "0       2824  783.04   Medium\n",
            "1       7912  905.00      Big\n",
            "2       4611  657.96   Medium\n",
            "3       3547  606.89   Medium\n",
            "4       8527   77.87    Small\n",
            "..       ...     ...      ...\n",
            "495     2930  680.00   Medium\n",
            "496     7980  285.32    Small\n",
            "497     7770  792.11   Medium\n",
            "498     6641  578.49   Medium\n",
            "499     4513  904.97      Big\n",
            "\n",
            "[500 rows x 3 columns]\n"
          ]
        }
      ]
    },
    {
      "cell_type": "code",
      "source": [
        "from pyspark.sql.functions import udf, col\n",
        "from pyspark.sql.types import StringType\n",
        "\n",
        "def tag_order(amount):\n",
        "    if amount > 800:\n",
        "        return \"Big\"\n",
        "    elif amount > 500:\n",
        "        return \"Medium\"\n",
        "    else:\n",
        "        return \"Small\"\n",
        "\n",
        "tag_order_udf = udf(tag_order, StringType())\n",
        "\n",
        "df_tagged = df.withColumn(\"OrderTag\", tag_order_udf(col(\"Amount\")))\n",
        "df_tagged.select(\"OrderID\", \"Amount\", \"OrderTag\").show()"
      ],
      "metadata": {
        "colab": {
          "base_uri": "https://localhost:8080/"
        },
        "id": "_4VNbatDclqA",
        "outputId": "4ff94d9c-6724-4661-f66b-ebc1aeee6a85"
      },
      "execution_count": 38,
      "outputs": [
        {
          "output_type": "stream",
          "name": "stdout",
          "text": [
            "+-------+------+--------+\n",
            "|OrderID|Amount|OrderTag|\n",
            "+-------+------+--------+\n",
            "|   2824|783.04|  Medium|\n",
            "|   7912| 905.0|     Big|\n",
            "|   4611|657.96|  Medium|\n",
            "|   3547|606.89|  Medium|\n",
            "|   8527| 77.87|   Small|\n",
            "|   4150|352.37|   Small|\n",
            "|   5554|148.33|   Small|\n",
            "|   2169| 14.09|   Small|\n",
            "|   6313| 79.83|   Small|\n",
            "|   6155|882.68|     Big|\n",
            "|   9830|870.55|     Big|\n",
            "|   9085|921.73|     Big|\n",
            "|   2040|327.52|   Small|\n",
            "|   6573|676.02|  Medium|\n",
            "|   2743| 47.06|   Small|\n",
            "|   9837| 46.15|   Small|\n",
            "|   6038|348.51|   Small|\n",
            "|   3060|362.09|   Small|\n",
            "|   4295|684.26|  Medium|\n",
            "|   5061|251.89|   Small|\n",
            "+-------+------+--------+\n",
            "only showing top 20 rows\n",
            "\n"
          ]
        }
      ]
    }
  ]
}