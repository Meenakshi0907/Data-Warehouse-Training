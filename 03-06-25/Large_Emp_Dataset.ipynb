{
  "nbformat": 4,
  "nbformat_minor": 0,
  "metadata": {
    "colab": {
      "provenance": []
    },
    "kernelspec": {
      "name": "python3",
      "display_name": "Python 3"
    },
    "language_info": {
      "name": "python"
    }
  },
  "cells": [
    {
      "cell_type": "code",
      "execution_count": 2,
      "metadata": {
        "colab": {
          "base_uri": "https://localhost:8080/",
          "height": 219
        },
        "id": "nKwNJEkJHd6K",
        "outputId": "920b832e-30d5-4c3e-baf3-79150ac38e00"
      },
      "outputs": [
        {
          "output_type": "execute_result",
          "data": {
            "text/plain": [
              "<pyspark.sql.session.SparkSession at 0x7f9a104052d0>"
            ],
            "text/html": [
              "\n",
              "            <div>\n",
              "                <p><b>SparkSession - in-memory</b></p>\n",
              "                \n",
              "        <div>\n",
              "            <p><b>SparkContext</b></p>\n",
              "\n",
              "            <p><a href=\"http://d13ecb3d8cce:4040\">Spark UI</a></p>\n",
              "\n",
              "            <dl>\n",
              "              <dt>Version</dt>\n",
              "                <dd><code>v3.5.1</code></dd>\n",
              "              <dt>Master</dt>\n",
              "                <dd><code>local[*]</code></dd>\n",
              "              <dt>AppName</dt>\n",
              "                <dd><code>Large Dataset</code></dd>\n",
              "            </dl>\n",
              "        </div>\n",
              "        \n",
              "            </div>\n",
              "        "
            ]
          },
          "metadata": {},
          "execution_count": 2
        }
      ],
      "source": [
        "from pyspark.sql import SparkSession\n",
        "\n",
        "spark = SparkSession.builder\\\n",
        ".appName(\"Large Dataset\")\\\n",
        ".getOrCreate()\n",
        "\n",
        "spark"
      ]
    },
    {
      "cell_type": "code",
      "source": [
        "from google.colab import drive\n",
        "drive.mount('/content/drive')\n",
        "\n",
        "df = spark.read.csv('/content/drive/MyDrive/large_employee_dataset.csv',header= True,inferSchema=True)\n",
        "df.show(10)"
      ],
      "metadata": {
        "colab": {
          "base_uri": "https://localhost:8080/"
        },
        "id": "4lvS0r8rI6lc",
        "outputId": "85c98ec6-8bdc-4470-868c-5b48b958e042"
      },
      "execution_count": 3,
      "outputs": [
        {
          "output_type": "stream",
          "name": "stdout",
          "text": [
            "Mounted at /content/drive\n",
            "+----------+--------------------+---+----------+------+-----------+--------+------------+\n",
            "|EmployeeID|                Name|Age|Department|Salary|JoiningDate|  Status|        City|\n",
            "+----------+--------------------+---+----------+------+-----------+--------+------------+\n",
            "|      4128|     Charles Johnson| 52|        HR| 64039| 2018-07-07|Resigned|   Allentown|\n",
            "|      6094|       Dylan Camacho| 57| Marketing| 34686| 2015-08-25|  Active| Anthonyfort|\n",
            "|      5883| Mr. Ryan Bowman Jr.| 29|   Finance| 64541| 2025-03-11|On Leave|   Gilesstad|\n",
            "|      9146|          Brian Ball| 24|     Sales| 87831| 2015-10-01|Resigned|Jenniferfurt|\n",
            "|      1918|       Angela Hooper| 26|   Finance|108773| 2019-08-14|On Leave|Lake Amystad|\n",
            "|      4600|Alexander Johnson...| 45|     Sales| 75671| 2016-04-21|On Leave|  Russohaven|\n",
            "|      6253|         Steven Lane| 47|   Finance| 64982| 2021-07-25|  Active| East Robert|\n",
            "|      8278|       Riley Johnson| 49|        HR| 43449| 2015-08-03|Resigned|  New Thomas|\n",
            "|      8520|    Emily Washington| 43|   Finance| 33851| 2021-11-30|Resigned| West Ashley|\n",
            "|      1298|     Valerie Fleming| 42| Marketing| 70137| 2019-12-08|Resigned| Caseborough|\n",
            "+----------+--------------------+---+----------+------+-----------+--------+------------+\n",
            "only showing top 10 rows\n",
            "\n"
          ]
        }
      ]
    },
    {
      "cell_type": "code",
      "source": [
        "# Count the total number of employees.\n",
        "\n",
        "total_employee = df.select(\"EmployeeID\").count()\n",
        "print(\"Total number of Employee:\",total_employee)"
      ],
      "metadata": {
        "colab": {
          "base_uri": "https://localhost:8080/"
        },
        "id": "sMROSxq_JaSy",
        "outputId": "41f54bd4-88a0-42fd-c8e1-4f86c4218572"
      },
      "execution_count": 5,
      "outputs": [
        {
          "output_type": "stream",
          "name": "stdout",
          "text": [
            "Total number of Employee: 500\n"
          ]
        }
      ]
    },
    {
      "cell_type": "code",
      "source": [
        "# Display unique departments.\n",
        "unique_dept = df.select(\"Department\").distinct().show()\n",
        "unique_dept"
      ],
      "metadata": {
        "colab": {
          "base_uri": "https://localhost:8080/"
        },
        "id": "bDog-PEzKL26",
        "outputId": "80e2e12e-6c0a-4e39-e1fd-ecf8d1c4a6a0"
      },
      "execution_count": 6,
      "outputs": [
        {
          "output_type": "stream",
          "name": "stdout",
          "text": [
            "+----------+\n",
            "|Department|\n",
            "+----------+\n",
            "|     Sales|\n",
            "|        HR|\n",
            "|   Finance|\n",
            "| Marketing|\n",
            "|        IT|\n",
            "+----------+\n",
            "\n"
          ]
        }
      ]
    },
    {
      "cell_type": "code",
      "source": [
        "# Filtering & Sorting\n",
        "# 4. Filter all employees in the \"IT\" department.\n",
        "it_employees = df.filter(df[\"Department\"] == \"IT\").show()\n",
        "it_employees"
      ],
      "metadata": {
        "colab": {
          "base_uri": "https://localhost:8080/"
        },
        "id": "6oRPYilBKsgz",
        "outputId": "a3472396-9f48-4e8e-83ec-6b4cb26847ec"
      },
      "execution_count": 7,
      "outputs": [
        {
          "output_type": "stream",
          "name": "stdout",
          "text": [
            "+----------+-------------------+---+----------+------+-----------+--------+------------------+\n",
            "|EmployeeID|               Name|Age|Department|Salary|JoiningDate|  Status|              City|\n",
            "+----------+-------------------+---+----------+------+-----------+--------+------------------+\n",
            "|      6598|        Mary Henson| 58|        IT| 63951| 2021-08-25|  Active|       Port Tricia|\n",
            "|      8518|   Elizabeth Abbott| 22|        IT| 91732| 2022-11-05|  Active|       Douglasside|\n",
            "|      9506|        Thomas Dunn| 45|        IT| 90340| 2020-07-12|On Leave|    Lindseychester|\n",
            "|      9663|        Glenn Mason| 43|        IT|109189| 2020-03-27|On Leave|      Katelynburgh|\n",
            "|      2106|     Richard Bailey| 45|        IT| 30950| 2021-06-29|Resigned|        North John|\n",
            "|      8212|      Jacob Jackson| 35|        IT| 54812| 2020-09-18|On Leave|South Veronicastad|\n",
            "|      6354|     Nicole Gilmore| 35|        IT|104202| 2018-05-04|  Active|       East Joseph|\n",
            "|      5716|         David Wang| 49|        IT| 94317| 2016-03-12|Resigned|          Linmouth|\n",
            "|      1181|       Joseph Clark| 33|        IT|117142| 2016-05-31|On Leave|        Carlosfurt|\n",
            "|      8302|      Debra Swanson| 47|        IT| 35236| 2023-10-25|Resigned|     Maciasborough|\n",
            "|      9542|      Jeffrey Frank| 34|        IT| 57182| 2024-01-28|On Leave|          Paulside|\n",
            "|      4100|Christopher Jimenez| 25|        IT| 65524| 2017-03-13|  Active|      North Tamara|\n",
            "|      5780|     Kevin Harrison| 26|        IT| 77259| 2024-03-28|  Active|    New Laurietown|\n",
            "|      5572|    Andrew Harrison| 42|        IT|118992| 2021-12-08|  Active|      West Matthew|\n",
            "|      6388|        Melissa Lee| 49|        IT| 74933| 2016-05-10|  Active|       Barbermouth|\n",
            "|      7984|         Paige Hall| 28|        IT| 67290| 2017-01-29|On Leave|         Jamesfort|\n",
            "|      6043|        Casey Olson| 37|        IT| 80199| 2022-01-27|  Active|         Brianland|\n",
            "|      2817|      Tony Mcdonald| 28|        IT| 92665| 2018-06-21|On Leave|       East Ashley|\n",
            "|      1982|     Jackie Herring| 37|        IT| 65014| 2023-11-13|On Leave|       Michaeltown|\n",
            "|      9259|       Shelly James| 35|        IT|106417| 2018-04-13|On Leave|  Port Laurieburgh|\n",
            "+----------+-------------------+---+----------+------+-----------+--------+------------------+\n",
            "only showing top 20 rows\n",
            "\n"
          ]
        }
      ]
    },
    {
      "cell_type": "code",
      "source": [
        "# 5. Show employees aged between 30 and 40.\n",
        "\n",
        "age_btw = df.filter((df[\"Age\"] >= 30)&(df[\"Age\"] <= 40)).show()\n",
        "age_btw"
      ],
      "metadata": {
        "colab": {
          "base_uri": "https://localhost:8080/"
        },
        "id": "rqQm3nWRLhfF",
        "outputId": "751a7e45-0b39-4c6e-b6bc-974d7b3629be"
      },
      "execution_count": 8,
      "outputs": [
        {
          "output_type": "stream",
          "name": "stdout",
          "text": [
            "+----------+------------------+---+----------+------+-----------+--------+-------------------+\n",
            "|EmployeeID|              Name|Age|Department|Salary|JoiningDate|  Status|               City|\n",
            "+----------+------------------+---+----------+------+-----------+--------+-------------------+\n",
            "|      4676|Christopher Fuller| 30|        HR| 63042| 2021-04-30|Resigned|   South Donnaville|\n",
            "|      4136|     Jerome Torres| 30|   Finance| 68213| 2024-11-30|  Active|North Justinborough|\n",
            "|      1588|       Edwin Burns| 34|     Sales|108208| 2015-09-14|Resigned|        South David|\n",
            "|      8074|       Fred Brewer| 30|        HR|100736| 2021-06-06|On Leave|    Port Wendyville|\n",
            "|      3841|       April Allen| 36|        HR| 98845| 2020-05-20|  Active|      Rachelchester|\n",
            "|      8212|     Jacob Jackson| 35|        IT| 54812| 2020-09-18|On Leave| South Veronicastad|\n",
            "|      3325|       Brian Huynh| 40|   Finance| 59924| 2017-01-02|On Leave|           Johnside|\n",
            "|      6180|     Robert Cortez| 35| Marketing| 76109| 2023-12-31|Resigned|    Port Katiemouth|\n",
            "|      6354|    Nicole Gilmore| 35|        IT|104202| 2018-05-04|  Active|        East Joseph|\n",
            "|      6364|       James Hogan| 33|        HR| 79932| 2023-12-05|  Active|     Rodriguezshire|\n",
            "|      6913|   Dustin Williams| 34|   Finance| 91947| 2023-10-16|On Leave|      North Stephen|\n",
            "|      3115|   Benjamin Turner| 38|        HR| 99949| 2018-03-20|Resigned|     West Hollybury|\n",
            "|      7527|      Bobby Henson| 34|   Finance| 47038| 2022-11-24|On Leave|           Dianaton|\n",
            "|      5620|  Christina Reeves| 34|   Finance| 37858| 2024-01-16|On Leave|        Hannahhaven|\n",
            "|      9939|      Karen Hansen| 37|        HR|112082| 2021-07-30|Resigned|           New Tara|\n",
            "|      6509|     Joann Frazier| 38|   Finance| 87736| 2024-01-11|Resigned|  South Sabrinaview|\n",
            "|      6340|     Kenneth Smith| 38|     Sales|115731| 2018-12-29|Resigned|        Lake Sheila|\n",
            "|      1181|      Joseph Clark| 33|        IT|117142| 2016-05-31|On Leave|         Carlosfurt|\n",
            "|      7098|     Hayley Reeves| 38|        HR|115326| 2022-03-26|  Active|          Whiteview|\n",
            "|      9542|     Jeffrey Frank| 34|        IT| 57182| 2024-01-28|On Leave|           Paulside|\n",
            "+----------+------------------+---+----------+------+-----------+--------+-------------------+\n",
            "only showing top 20 rows\n",
            "\n"
          ]
        }
      ]
    },
    {
      "cell_type": "code",
      "source": [
        "# 6. Sort employees by Salary in descending order.\n",
        "\n",
        "desc_salary = df.orderBy(df[\"Salary\"].desc()).show()\n",
        "desc_salary"
      ],
      "metadata": {
        "colab": {
          "base_uri": "https://localhost:8080/"
        },
        "id": "-84z_Ei4MKLf",
        "outputId": "040794fe-81a4-4946-d915-1d15118f828a"
      },
      "execution_count": 11,
      "outputs": [
        {
          "output_type": "stream",
          "name": "stdout",
          "text": [
            "+----------+--------------------+---+----------+------+-----------+--------+-------------------+\n",
            "|EmployeeID|                Name|Age|Department|Salary|JoiningDate|  Status|               City|\n",
            "+----------+--------------------+---+----------+------+-----------+--------+-------------------+\n",
            "|      8860|       Cody Williams| 30|        IT|119978| 2019-03-16|Resigned|         Susanville|\n",
            "|      4585|      Sandra Webster| 30|        HR|119940| 2022-10-21|On Leave|       Thompsonport|\n",
            "|      4667|         Ronald Hunt| 58|     Sales|119677| 2019-08-29|Resigned|    Griffithchester|\n",
            "|      1602|    Deborah Williams| 25|        HR|119397| 2023-09-26|On Leave|    Port Terrimouth|\n",
            "|      3374|        Amanda Green| 41|        HR|119316| 2021-04-08|Resigned|    West Shelleyton|\n",
            "|      6329|       Heidi Shaffer| 36|        HR|119165| 2020-01-14|Resigned|          New Alexa|\n",
            "|      2428|        Mary Stevens| 55|     Sales|119137| 2022-03-06|On Leave|         Travisport|\n",
            "|      1545|Brittany Christensen| 57|   Finance|119038| 2020-10-25|Resigned|        Matthewside|\n",
            "|      2581|    Alexandria Jones| 34|        IT|119009| 2017-01-22|On Leave|           Toniside|\n",
            "|      5572|     Andrew Harrison| 42|        IT|118992| 2021-12-08|  Active|       West Matthew|\n",
            "|      7459|    Abigail Robinson| 23|     Sales|118959| 2021-09-23|  Active|        Leslieville|\n",
            "|      7431|    Richard Mccarthy| 41|        IT|118682| 2025-02-12|On Leave|          Welchview|\n",
            "|      5998|       Bruce Serrano| 36|        HR|118641| 2019-02-02|  Active|    South Elizabeth|\n",
            "|      9714|          Kevin Reid| 37| Marketing|118584| 2015-10-03|  Active|     New Howardfort|\n",
            "|      1143|     Stacey Schwartz| 55|   Finance|118504| 2022-01-24|  Active|Lake Michaelchester|\n",
            "|      3580|         Jamie Baker| 34| Marketing|118225| 2017-07-20|  Active|        Michaelstad|\n",
            "|      9485|        Dennis Rivas| 43| Marketing|118187| 2019-05-26|On Leave|         South Mark|\n",
            "|      1943|          Roy Willis| 41|        HR|118172| 2016-03-05|  Active|     East Daisystad|\n",
            "|      5755|        Erika Ortega| 42|        IT|117517| 2023-04-16|On Leave|          Kellyfort|\n",
            "|      7350|         Jenna Patel| 50| Marketing|117237| 2016-04-11|On Leave|         Port Brian|\n",
            "+----------+--------------------+---+----------+------+-----------+--------+-------------------+\n",
            "only showing top 20 rows\n",
            "\n"
          ]
        }
      ]
    },
    {
      "cell_type": "code",
      "source": [
        "# Aggregation Tasks\n",
        "# 7. Get the average salary by department.\n",
        "\n",
        "from pyspark.sql.functions import avg\n",
        "avg_salary = df.groupBy(\"Department\").agg(avg(\"Salary\")).show()\n",
        "avg_salary"
      ],
      "metadata": {
        "colab": {
          "base_uri": "https://localhost:8080/"
        },
        "id": "hmEpdAAwMmzA",
        "outputId": "19770719-bee5-4fd3-c20b-99f2035ad224"
      },
      "execution_count": 12,
      "outputs": [
        {
          "output_type": "stream",
          "name": "stdout",
          "text": [
            "+----------+-----------------+\n",
            "|Department|      avg(Salary)|\n",
            "+----------+-----------------+\n",
            "|     Sales|77488.54545454546|\n",
            "|        HR|76091.27450980392|\n",
            "|   Finance|72834.75630252101|\n",
            "| Marketing| 71958.1888888889|\n",
            "|        IT|73116.25555555556|\n",
            "+----------+-----------------+\n",
            "\n"
          ]
        }
      ]
    },
    {
      "cell_type": "code",
      "source": [
        "# 8. Count of employees by Status .\n",
        "emp_stas = df.groupBy(\"Status\").count().show()\n",
        "emp_stas"
      ],
      "metadata": {
        "colab": {
          "base_uri": "https://localhost:8080/"
        },
        "id": "Z2dGZnTVNpQ9",
        "outputId": "3cf7596a-6799-4b92-b1f5-bed8d46e9529"
      },
      "execution_count": 13,
      "outputs": [
        {
          "output_type": "stream",
          "name": "stdout",
          "text": [
            "+--------+-----+\n",
            "|  Status|count|\n",
            "+--------+-----+\n",
            "|Resigned|  159|\n",
            "|  Active|  172|\n",
            "|On Leave|  169|\n",
            "+--------+-----+\n",
            "\n"
          ]
        }
      ]
    },
    {
      "cell_type": "code",
      "source": [
        "# 9. Highest salary in each city.\n",
        "\n",
        "from pyspark.sql.functions import max\n",
        "max_sal = df.groupBy(\"City\").agg(max(\"Salary\")).show()\n",
        "max_sal"
      ],
      "metadata": {
        "colab": {
          "base_uri": "https://localhost:8080/"
        },
        "id": "tM_T3Kk1N-29",
        "outputId": "0cd7b62b-5836-46cb-a181-9c0f712a43cc"
      },
      "execution_count": 14,
      "outputs": [
        {
          "output_type": "stream",
          "name": "stdout",
          "text": [
            "+----------------+-----------+\n",
            "|            City|max(Salary)|\n",
            "+----------------+-----------+\n",
            "|   Wilsonchester|      67025|\n",
            "|     Bradshawton|     111116|\n",
            "|       Steventon|      32009|\n",
            "|     Lake Alyssa|      84903|\n",
            "|      North Lisa|      57898|\n",
            "|    North Marvin|      66252|\n",
            "|     Jenniferton|      39907|\n",
            "|     Buckleyview|      50109|\n",
            "|     Burtonville|      98492|\n",
            "|    Johnsonmouth|      48799|\n",
            "|    South Joseph|      52456|\n",
            "|  Lindseychester|      90340|\n",
            "|   North Stephen|      91947|\n",
            "|Port Nicoleshire|      57537|\n",
            "|    Jerrychester|      53374|\n",
            "|  North Jennifer|      82486|\n",
            "|      Laurenstad|      44608|\n",
            "|West Brendanbury|      90698|\n",
            "|       Juliaberg|      50170|\n",
            "|       New James|      54378|\n",
            "+----------------+-----------+\n",
            "only showing top 20 rows\n",
            "\n"
          ]
        }
      ]
    },
    {
      "cell_type": "code",
      "source": [
        "# GroupBy and Analysis\n",
        "# 10. Total number of employees who joined each year.\n",
        "\n",
        "from pyspark.sql.functions import year\n",
        "emp_join_year = df.withColumn(\"JoinYear\",year(\"JoiningDate\")).groupBy(\"JoinYear\").count().show()\n",
        "emp_join_year"
      ],
      "metadata": {
        "colab": {
          "base_uri": "https://localhost:8080/"
        },
        "id": "etUdlXauO19s",
        "outputId": "30cb2e76-5fcf-48d8-bb13-2edfdf441124"
      },
      "execution_count": 15,
      "outputs": [
        {
          "output_type": "stream",
          "name": "stdout",
          "text": [
            "+--------+-----+\n",
            "|JoinYear|count|\n",
            "+--------+-----+\n",
            "|    2025|   27|\n",
            "|    2018|   52|\n",
            "|    2015|   37|\n",
            "|    2023|   47|\n",
            "|    2022|   49|\n",
            "|    2019|   52|\n",
            "|    2020|   56|\n",
            "|    2016|   49|\n",
            "|    2024|   38|\n",
            "|    2017|   44|\n",
            "|    2021|   49|\n",
            "+--------+-----+\n",
            "\n"
          ]
        }
      ]
    },
    {
      "cell_type": "code",
      "source": [
        "# 11. Department-wise count of employees who are currently \"Active\".\n",
        "\n",
        "active_count = df.filter(df[\"Status\"] == \"Active\").groupBy(\"Department\").count().show()\n",
        "active_count"
      ],
      "metadata": {
        "colab": {
          "base_uri": "https://localhost:8080/"
        },
        "id": "3xr2C7yLQUbG",
        "outputId": "4b3be617-57c6-489d-c131-7380d947cfa6"
      },
      "execution_count": 16,
      "outputs": [
        {
          "output_type": "stream",
          "name": "stdout",
          "text": [
            "+----------+-----+\n",
            "|Department|count|\n",
            "+----------+-----+\n",
            "|     Sales|   32|\n",
            "|        HR|   37|\n",
            "|   Finance|   45|\n",
            "| Marketing|   32|\n",
            "|        IT|   26|\n",
            "+----------+-----+\n",
            "\n"
          ]
        }
      ]
    },
    {
      "cell_type": "code",
      "source": [
        "# 12. Average age of employees per department.\n",
        "\n",
        "from pyspark.sql.functions import avg\n",
        "avg_age = df.groupby(\"Department\").agg(avg(\"Age\")).show()\n",
        "avg_age"
      ],
      "metadata": {
        "colab": {
          "base_uri": "https://localhost:8080/"
        },
        "id": "XpPYPJceQ2FX",
        "outputId": "12ba553c-82fe-4702-eafb-0f7e3cfed23e"
      },
      "execution_count": 17,
      "outputs": [
        {
          "output_type": "stream",
          "name": "stdout",
          "text": [
            "+----------+------------------+\n",
            "|Department|          avg(Age)|\n",
            "+----------+------------------+\n",
            "|     Sales|40.535353535353536|\n",
            "|        HR| 41.46078431372549|\n",
            "|   Finance| 39.21008403361345|\n",
            "| Marketing| 41.82222222222222|\n",
            "|        IT| 38.68888888888889|\n",
            "+----------+------------------+\n",
            "\n"
          ]
        }
      ]
    },
    {
      "cell_type": "code",
      "source": [
        "# Joining (Use another DataFrame for mapping)\n",
        "# 13. Create another dataset with City and Region , and join it.\n",
        "\n",
        "city_region = [[\"Bradshawton\",\"East\"],[\"North Lisa\",\"West\"],[\"Buckleyview\",\"Midwest\"],[\"West Brendanbury\",\"South\"],[\"East Robert\",\"West\"],[\"Mariebury\",\"East\"]]\n",
        "data = [\"City\",\"Region\"]\n",
        "\n",
        "city_region_df = spark.createDataFrame(city_region,data)\n",
        "city_region_df.show()\n",
        "\n",
        "join_df = df.join(city_region_df,on = \"City\",how = \"left\")\n",
        "join_df.select(\"EmployeeID\", \"Name\", \"City\", \"Region\", \"Salary\").show()"
      ],
      "metadata": {
        "colab": {
          "base_uri": "https://localhost:8080/"
        },
        "id": "LaZ4Kt15RQGD",
        "outputId": "25153f13-b6c7-4219-daf1-c5963c92c36c"
      },
      "execution_count": 26,
      "outputs": [
        {
          "output_type": "stream",
          "name": "stdout",
          "text": [
            "+----------------+-------+\n",
            "|            City| Region|\n",
            "+----------------+-------+\n",
            "|     Bradshawton|   East|\n",
            "|      North Lisa|   West|\n",
            "|     Buckleyview|Midwest|\n",
            "|West Brendanbury|  South|\n",
            "|     East Robert|   West|\n",
            "|       Mariebury|   East|\n",
            "+----------------+-------+\n",
            "\n",
            "+----------+--------------------+-------------------+------+------+\n",
            "|EmployeeID|                Name|               City|Region|Salary|\n",
            "+----------+--------------------+-------------------+------+------+\n",
            "|      6253|         Steven Lane|        East Robert|  West| 64982|\n",
            "|      4128|     Charles Johnson|          Allentown|  NULL| 64039|\n",
            "|      6406|       Patrick Chung|         Tonyamouth|  NULL|116423|\n",
            "|      9146|          Brian Ball|       Jenniferfurt|  NULL| 87831|\n",
            "|      8989|       Scott Burnett|     North Brittany|  NULL| 93690|\n",
            "|      5883| Mr. Ryan Bowman Jr.|          Gilesstad|  NULL| 64541|\n",
            "|      3326|       Michael Brown|          Port Mark|  NULL| 85122|\n",
            "|      8520|    Emily Washington|        West Ashley|  NULL| 33851|\n",
            "|      4676|  Christopher Fuller|   South Donnaville|  NULL| 63042|\n",
            "|      7403|    Johnathan Harmon|           Jillport|  NULL| 97666|\n",
            "|      1515|        Micheal Wade|     Jimenezborough|  NULL| 41771|\n",
            "|      1918|       Angela Hooper|       Lake Amystad|  NULL|108773|\n",
            "|      6094|       Dylan Camacho|        Anthonyfort|  NULL| 34686|\n",
            "|      2758|       Brittany Kerr|        Bennettstad|  NULL| 71105|\n",
            "|      6640|     Isaiah Martinez|       Mcgeechester|  NULL| 72596|\n",
            "|      1298|     Valerie Fleming|        Caseborough|  NULL| 70137|\n",
            "|      4136|       Jerome Torres|North Justinborough|  NULL| 68213|\n",
            "|      4600|Alexander Johnson...|         Russohaven|  NULL| 75671|\n",
            "|      8278|       Riley Johnson|         New Thomas|  NULL| 43449|\n",
            "|      5157|     Tracy Hughes MD|       West Phillip|  NULL| 34381|\n",
            "+----------+--------------------+-------------------+------+------+\n",
            "only showing top 20 rows\n",
            "\n"
          ]
        }
      ]
    },
    {
      "cell_type": "code",
      "source": [
        "# 14. Group salaries by Region after the join.\n",
        "from pyspark.sql.functions import avg, sum\n",
        "\n",
        "avg_salary = join_df.groupBy(\"Region\").agg(avg(\"Salary\")).show()\n",
        "avg_salary\n",
        "\n",
        "sum_salary = join_df.groupBy(\"Region\").agg(sum(\"Salary\")).show()\n",
        "sum_salary"
      ],
      "metadata": {
        "colab": {
          "base_uri": "https://localhost:8080/"
        },
        "id": "FTZury46TRwd",
        "outputId": "ffa19ae2-eabf-4491-ad94-a89d21c4ab88"
      },
      "execution_count": 29,
      "outputs": [
        {
          "output_type": "stream",
          "name": "stdout",
          "text": [
            "+-------+-----------------+\n",
            "| Region|      avg(Salary)|\n",
            "+-------+-----------------+\n",
            "|Midwest|          50109.0|\n",
            "|   NULL|74311.87854251012|\n",
            "|  South|          90698.0|\n",
            "|   East|          91478.5|\n",
            "|   West|          61440.0|\n",
            "+-------+-----------------+\n",
            "\n",
            "+-------+-----------+\n",
            "| Region|sum(Salary)|\n",
            "+-------+-----------+\n",
            "|Midwest|      50109|\n",
            "|   NULL|   36710068|\n",
            "|  South|      90698|\n",
            "|   East|     182957|\n",
            "|   West|     122880|\n",
            "+-------+-----------+\n",
            "\n"
          ]
        }
      ]
    },
    {
      "cell_type": "code",
      "source": [
        "# Date Operations\n",
        "# 15. Calculate years of experience for each employee (current date - JoiningDate).\n",
        "\n",
        "from pyspark.sql.functions import current_date,datediff,round\n",
        "\n",
        "exp_of_emp = df.withColumn(\"ExperienceYear\",round(datediff(current_date(),df[\"JoiningDate\"])/365.0,1))\n",
        "exp_of_emp.show()"
      ],
      "metadata": {
        "colab": {
          "base_uri": "https://localhost:8080/"
        },
        "id": "rixn3Uy9WF5O",
        "outputId": "8f8e9add-f416-466e-a46b-45c9a71b6306"
      },
      "execution_count": 35,
      "outputs": [
        {
          "output_type": "stream",
          "name": "stdout",
          "text": [
            "+----------+--------------------+---+----------+------+-----------+--------+-------------------+--------------+\n",
            "|EmployeeID|                Name|Age|Department|Salary|JoiningDate|  Status|               City|ExperienceYear|\n",
            "+----------+--------------------+---+----------+------+-----------+--------+-------------------+--------------+\n",
            "|      4128|     Charles Johnson| 52|        HR| 64039| 2018-07-07|Resigned|          Allentown|           6.9|\n",
            "|      6094|       Dylan Camacho| 57| Marketing| 34686| 2015-08-25|  Active|        Anthonyfort|           9.8|\n",
            "|      5883| Mr. Ryan Bowman Jr.| 29|   Finance| 64541| 2025-03-11|On Leave|          Gilesstad|           0.2|\n",
            "|      9146|          Brian Ball| 24|     Sales| 87831| 2015-10-01|Resigned|       Jenniferfurt|           9.7|\n",
            "|      1918|       Angela Hooper| 26|   Finance|108773| 2019-08-14|On Leave|       Lake Amystad|           5.8|\n",
            "|      4600|Alexander Johnson...| 45|     Sales| 75671| 2016-04-21|On Leave|         Russohaven|           9.1|\n",
            "|      6253|         Steven Lane| 47|   Finance| 64982| 2021-07-25|  Active|        East Robert|           3.9|\n",
            "|      8278|       Riley Johnson| 49|        HR| 43449| 2015-08-03|Resigned|         New Thomas|           9.8|\n",
            "|      8520|    Emily Washington| 43|   Finance| 33851| 2021-11-30|Resigned|        West Ashley|           3.5|\n",
            "|      1298|     Valerie Fleming| 42| Marketing| 70137| 2019-12-08|Resigned|        Caseborough|           5.5|\n",
            "|      5157|     Tracy Hughes MD| 28|   Finance| 34381| 2020-06-01|  Active|       West Phillip|           5.0|\n",
            "|      7403|    Johnathan Harmon| 50|        HR| 97666| 2021-03-09|On Leave|           Jillport|           4.2|\n",
            "|      3326|       Michael Brown| 28|        HR| 85122| 2023-10-21|Resigned|          Port Mark|           1.6|\n",
            "|      8989|       Scott Burnett| 48|     Sales| 93690| 2016-04-25|Resigned|     North Brittany|           9.1|\n",
            "|      4676|  Christopher Fuller| 30|        HR| 63042| 2021-04-30|Resigned|   South Donnaville|           4.1|\n",
            "|      6598|         Mary Henson| 58|        IT| 63951| 2021-08-25|  Active|        Port Tricia|           3.8|\n",
            "|      4136|       Jerome Torres| 30|   Finance| 68213| 2024-11-30|  Active|North Justinborough|           0.5|\n",
            "|      6640|     Isaiah Martinez| 51| Marketing| 72596| 2021-07-26|On Leave|       Mcgeechester|           3.9|\n",
            "|      6406|       Patrick Chung| 27|        HR|116423| 2024-07-05|  Active|         Tonyamouth|           0.9|\n",
            "|      1515|        Micheal Wade| 26|        HR| 41771| 2024-03-29|  Active|     Jimenezborough|           1.2|\n",
            "+----------+--------------------+---+----------+------+-----------+--------+-------------------+--------------+\n",
            "only showing top 20 rows\n",
            "\n"
          ]
        }
      ]
    },
    {
      "cell_type": "code",
      "source": [
        "# 16. List all employees with more than 5 years of experience.\n",
        "exp_more_5 = exp_of_emp.filter(exp_of_emp[\"ExperienceYear\"] > 5)\n",
        "exp_more_5.select(\"EmployeeID\", \"Name\", \"ExperienceYear\").show()"
      ],
      "metadata": {
        "colab": {
          "base_uri": "https://localhost:8080/"
        },
        "id": "-zGmQqA1XpqN",
        "outputId": "b3a79678-4064-496b-c6ed-dfd2e7c64c49"
      },
      "execution_count": 36,
      "outputs": [
        {
          "output_type": "stream",
          "name": "stdout",
          "text": [
            "+----------+--------------------+--------------+\n",
            "|EmployeeID|                Name|ExperienceYear|\n",
            "+----------+--------------------+--------------+\n",
            "|      4128|     Charles Johnson|           6.9|\n",
            "|      6094|       Dylan Camacho|           9.8|\n",
            "|      9146|          Brian Ball|           9.7|\n",
            "|      1918|       Angela Hooper|           5.8|\n",
            "|      4600|Alexander Johnson...|           9.1|\n",
            "|      8278|       Riley Johnson|           9.8|\n",
            "|      1298|     Valerie Fleming|           5.5|\n",
            "|      8989|       Scott Burnett|           9.1|\n",
            "|      2758|       Brittany Kerr|           6.2|\n",
            "|      1588|         Edwin Burns|           9.7|\n",
            "|      8729|       Mary Reynolds|           6.9|\n",
            "|      2039|           Erin Berg|           7.1|\n",
            "|      8923|         Jason Hines|           9.5|\n",
            "|      8423|Christopher Mcdaniel|          10.0|\n",
            "|      9663|         Glenn Mason|           5.2|\n",
            "|      6257|      Victoria Kelly|           7.7|\n",
            "|      6706|     Michael Trevino|           5.1|\n",
            "|      6580|      Heather Nelson|          10.0|\n",
            "|      4834|         Paul Porter|           7.6|\n",
            "|      5017|       Monique White|           5.7|\n",
            "+----------+--------------------+--------------+\n",
            "only showing top 20 rows\n",
            "\n"
          ]
        }
      ]
    }
  ]
}