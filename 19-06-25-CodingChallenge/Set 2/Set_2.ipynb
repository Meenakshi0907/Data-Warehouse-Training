{
  "nbformat": 4,
  "nbformat_minor": 0,
  "metadata": {
    "colab": {
      "provenance": []
    },
    "kernelspec": {
      "name": "python3",
      "display_name": "Python 3"
    },
    "language_info": {
      "name": "python"
    }
  },
  "cells": [
    {
      "cell_type": "code",
      "execution_count": 4,
      "metadata": {
        "colab": {
          "base_uri": "https://localhost:8080/",
          "height": 219
        },
        "id": "rWV2lkYYzuVH",
        "outputId": "08d12f21-d0fc-42a8-c595-d5fcb9516669"
      },
      "outputs": [
        {
          "output_type": "execute_result",
          "data": {
            "text/plain": [
              "<pyspark.sql.session.SparkSession at 0x7b5d8b97b010>"
            ],
            "text/html": [
              "\n",
              "            <div>\n",
              "                <p><b>SparkSession - in-memory</b></p>\n",
              "                \n",
              "        <div>\n",
              "            <p><b>SparkContext</b></p>\n",
              "\n",
              "            <p><a href=\"http://b4320bb1d3e1:4040\">Spark UI</a></p>\n",
              "\n",
              "            <dl>\n",
              "              <dt>Version</dt>\n",
              "                <dd><code>v3.5.1</code></dd>\n",
              "              <dt>Master</dt>\n",
              "                <dd><code>local[*]</code></dd>\n",
              "              <dt>AppName</dt>\n",
              "                <dd><code>Set-2</code></dd>\n",
              "            </dl>\n",
              "        </div>\n",
              "        \n",
              "            </div>\n",
              "        "
            ]
          },
          "metadata": {},
          "execution_count": 4
        }
      ],
      "source": [
        "from pyspark.sql import SparkSession\n",
        "\n",
        "spark = SparkSession.builder.appName(\"Set-2\").getOrCreate()\n",
        "spark"
      ]
    },
    {
      "cell_type": "markdown",
      "source": [
        "**Ingestion & Time Fields**"
      ],
      "metadata": {
        "id": "PJnqzrOn6Ezf"
      }
    },
    {
      "cell_type": "code",
      "source": [
        "#Load into PySpark with inferred schema\n",
        "from google.colab import drive\n",
        "drive.mount('/content/drive')\n",
        "\n",
        "df_enrollment = spark.read.csv('/content/drive/MyDrive/course_enrollments.csv',header = True,inferSchema = True)\n",
        "df_enrollment.show()"
      ],
      "metadata": {
        "colab": {
          "base_uri": "https://localhost:8080/"
        },
        "id": "AAjF6Elw585N",
        "outputId": "68295779-49e7-4a9c-bf04-4f540c25cb5a"
      },
      "execution_count": 5,
      "outputs": [
        {
          "output_type": "stream",
          "name": "stdout",
          "text": [
            "Mounted at /content/drive\n",
            "+--------+------+--------+-----------------+------------+----------+--------------+---------------+------+\n",
            "|EnrollID|UserID|CourseID|       CourseName|    Category|EnrollDate|CompletionDate|ProgressPercent|Rating|\n",
            "+--------+------+--------+-----------------+------------+----------+--------------+---------------+------+\n",
            "|    E001|  U001|    C001|    Python Basics| Programming|2024-04-01|    2024-04-10|            100|     4|\n",
            "|    E002|  U002|    C002|Excel for Finance|Productivity|2024-04-02|          NULL|             45|  NULL|\n",
            "|    E003|  U001|    C003|  ML with PySpark|Data Science|2024-04-03|          NULL|             30|  NULL|\n",
            "|    E004|  U003|    C001|    Python Basics| Programming|2024-04-04|    2024-04-20|            100|     5|\n",
            "|    E005|  U004|    C004|Digital Marketing|   Marketing|2024-04-05|    2024-04-16|            100|     4|\n",
            "+--------+------+--------+-----------------+------------+----------+--------------+---------------+------+\n",
            "\n"
          ]
        }
      ]
    },
    {
      "cell_type": "code",
      "source": [
        "# Convert EnrollDate and CompletionDate to date type\n",
        "from pyspark.sql.functions import col, to_date, datediff, when\n",
        "\n",
        "df_enrollment = df_enrollment.withColumn(\"EnrollDate\", to_date(col(\"EnrollDate\"), \"yyyy-MM-dd\")).withColumn(\"CompletionDate\", to_date(col(\"CompletionDate\"), \"yyyy-MM-dd\"))\n",
        "\n",
        "#Add DaysToComplete column if completed\n",
        "df_enrollment = df_enrollment.withColumn(\"DaysToComplete\", when(col(\"CompletionDate\").isNotNull(), datediff(col(\"CompletionDate\"), col(\"EnrollDate\"))))\n",
        "df_enrollment.show()"
      ],
      "metadata": {
        "colab": {
          "base_uri": "https://localhost:8080/"
        },
        "id": "e-fBE6OJ6csG",
        "outputId": "ec22d880-3520-4187-9438-368aeada06c6"
      },
      "execution_count": 6,
      "outputs": [
        {
          "output_type": "stream",
          "name": "stdout",
          "text": [
            "+--------+------+--------+-----------------+------------+----------+--------------+---------------+------+--------------+\n",
            "|EnrollID|UserID|CourseID|       CourseName|    Category|EnrollDate|CompletionDate|ProgressPercent|Rating|DaysToComplete|\n",
            "+--------+------+--------+-----------------+------------+----------+--------------+---------------+------+--------------+\n",
            "|    E001|  U001|    C001|    Python Basics| Programming|2024-04-01|    2024-04-10|            100|     4|             9|\n",
            "|    E002|  U002|    C002|Excel for Finance|Productivity|2024-04-02|          NULL|             45|  NULL|          NULL|\n",
            "|    E003|  U001|    C003|  ML with PySpark|Data Science|2024-04-03|          NULL|             30|  NULL|          NULL|\n",
            "|    E004|  U003|    C001|    Python Basics| Programming|2024-04-04|    2024-04-20|            100|     5|            16|\n",
            "|    E005|  U004|    C004|Digital Marketing|   Marketing|2024-04-05|    2024-04-16|            100|     4|            11|\n",
            "+--------+------+--------+-----------------+------------+----------+--------------+---------------+------+--------------+\n",
            "\n"
          ]
        }
      ]
    },
    {
      "cell_type": "markdown",
      "source": [
        "**User Learning Path Progress**"
      ],
      "metadata": {
        "id": "u0hl3FpE8Q3q"
      }
    },
    {
      "cell_type": "code",
      "source": [
        "# Group by UserID : count of courses enrolled\n",
        "from pyspark.sql.functions import count\n",
        "\n",
        "df_enrollment.groupBy(\"UserID\").agg(count(\"CourseID\").alias(\"enrolled\")).show()"
      ],
      "metadata": {
        "colab": {
          "base_uri": "https://localhost:8080/"
        },
        "id": "UeUzlaMu8TrZ",
        "outputId": "f16080a6-8b2d-453f-970c-25235d043ac1"
      },
      "execution_count": 7,
      "outputs": [
        {
          "output_type": "stream",
          "name": "stdout",
          "text": [
            "+------+--------+\n",
            "|UserID|enrolled|\n",
            "+------+--------+\n",
            "|  U004|       1|\n",
            "|  U002|       1|\n",
            "|  U003|       1|\n",
            "|  U001|       2|\n",
            "+------+--------+\n",
            "\n"
          ]
        }
      ]
    },
    {
      "cell_type": "code",
      "source": [
        "# Avg progress % across all enrollments\n",
        "from pyspark.sql.functions import avg\n",
        "\n",
        "df_enrollment.groupBy(\"EnrollID\").agg(avg(\"ProgressPercent\").alias(\"AvgProgressPercent\")).show()"
      ],
      "metadata": {
        "colab": {
          "base_uri": "https://localhost:8080/"
        },
        "id": "I_K1IbH58V4m",
        "outputId": "3bd51dd0-8332-4151-e076-36c451235eb9"
      },
      "execution_count": 8,
      "outputs": [
        {
          "output_type": "stream",
          "name": "stdout",
          "text": [
            "+--------+------------------+\n",
            "|EnrollID|AvgProgressPercent|\n",
            "+--------+------------------+\n",
            "|    E004|             100.0|\n",
            "|    E002|              45.0|\n",
            "|    E003|              30.0|\n",
            "|    E001|             100.0|\n",
            "|    E005|             100.0|\n",
            "+--------+------------------+\n",
            "\n"
          ]
        }
      ]
    },
    {
      "cell_type": "code",
      "source": [
        "# Flag IsCompleted = ProgressPercent = 100\n",
        "from pyspark.sql.functions import col\n",
        "\n",
        "df_enrollment = df_enrollment.withColumn(\"IsCompleted\", (col(\"ProgressPercent\") == 100).cast(\"int\"))\n",
        "df_enrollment.show()"
      ],
      "metadata": {
        "colab": {
          "base_uri": "https://localhost:8080/"
        },
        "id": "evw9k3kQ8X1w",
        "outputId": "cf8eec0d-e0a1-43a8-9b4f-01cc2764ff05"
      },
      "execution_count": 9,
      "outputs": [
        {
          "output_type": "stream",
          "name": "stdout",
          "text": [
            "+--------+------+--------+-----------------+------------+----------+--------------+---------------+------+--------------+-----------+\n",
            "|EnrollID|UserID|CourseID|       CourseName|    Category|EnrollDate|CompletionDate|ProgressPercent|Rating|DaysToComplete|IsCompleted|\n",
            "+--------+------+--------+-----------------+------------+----------+--------------+---------------+------+--------------+-----------+\n",
            "|    E001|  U001|    C001|    Python Basics| Programming|2024-04-01|    2024-04-10|            100|     4|             9|          1|\n",
            "|    E002|  U002|    C002|Excel for Finance|Productivity|2024-04-02|          NULL|             45|  NULL|          NULL|          0|\n",
            "|    E003|  U001|    C003|  ML with PySpark|Data Science|2024-04-03|          NULL|             30|  NULL|          NULL|          0|\n",
            "|    E004|  U003|    C001|    Python Basics| Programming|2024-04-04|    2024-04-20|            100|     5|            16|          1|\n",
            "|    E005|  U004|    C004|Digital Marketing|   Marketing|2024-04-05|    2024-04-16|            100|     4|            11|          1|\n",
            "+--------+------+--------+-----------------+------------+----------+--------------+---------------+------+--------------+-----------+\n",
            "\n"
          ]
        }
      ]
    },
    {
      "cell_type": "markdown",
      "source": [
        "**Engagement Scoring**"
      ],
      "metadata": {
        "id": "7dwyh6Gp_fOM"
      }
    },
    {
      "cell_type": "code",
      "source": [
        "df_enrollment = df_enrollment.withColumn(\"EngagementScore\",when(col(\"Rating\").isNotNull(), col(\"ProgressPercent\") * col(\"Rating\")).otherwise(0))\n",
        "df_enrollment.show()"
      ],
      "metadata": {
        "colab": {
          "base_uri": "https://localhost:8080/"
        },
        "id": "tOGxp7g0FPQG",
        "outputId": "91297fec-f923-43d7-f3c7-18670c9224ca"
      },
      "execution_count": 10,
      "outputs": [
        {
          "output_type": "stream",
          "name": "stdout",
          "text": [
            "+--------+------+--------+-----------------+------------+----------+--------------+---------------+------+--------------+-----------+---------------+\n",
            "|EnrollID|UserID|CourseID|       CourseName|    Category|EnrollDate|CompletionDate|ProgressPercent|Rating|DaysToComplete|IsCompleted|EngagementScore|\n",
            "+--------+------+--------+-----------------+------------+----------+--------------+---------------+------+--------------+-----------+---------------+\n",
            "|    E001|  U001|    C001|    Python Basics| Programming|2024-04-01|    2024-04-10|            100|     4|             9|          1|            400|\n",
            "|    E002|  U002|    C002|Excel for Finance|Productivity|2024-04-02|          NULL|             45|  NULL|          NULL|          0|              0|\n",
            "|    E003|  U001|    C003|  ML with PySpark|Data Science|2024-04-03|          NULL|             30|  NULL|          NULL|          0|              0|\n",
            "|    E004|  U003|    C001|    Python Basics| Programming|2024-04-04|    2024-04-20|            100|     5|            16|          1|            500|\n",
            "|    E005|  U004|    C004|Digital Marketing|   Marketing|2024-04-05|    2024-04-16|            100|     4|            11|          1|            400|\n",
            "+--------+------+--------+-----------------+------------+----------+--------------+---------------+------+--------------+-----------+---------------+\n",
            "\n"
          ]
        }
      ]
    },
    {
      "cell_type": "code",
      "source": [
        "# Replace null Rating with 0 before computing\n",
        "\n",
        "df_enrollment = df_enrollment.fillna({'Rating': 0})\n",
        "df_enrollment.show()"
      ],
      "metadata": {
        "colab": {
          "base_uri": "https://localhost:8080/"
        },
        "id": "wGbfienpFvqQ",
        "outputId": "56367393-610c-49ac-8219-dfb5ecbb69e2"
      },
      "execution_count": 11,
      "outputs": [
        {
          "output_type": "stream",
          "name": "stdout",
          "text": [
            "+--------+------+--------+-----------------+------------+----------+--------------+---------------+------+--------------+-----------+---------------+\n",
            "|EnrollID|UserID|CourseID|       CourseName|    Category|EnrollDate|CompletionDate|ProgressPercent|Rating|DaysToComplete|IsCompleted|EngagementScore|\n",
            "+--------+------+--------+-----------------+------------+----------+--------------+---------------+------+--------------+-----------+---------------+\n",
            "|    E001|  U001|    C001|    Python Basics| Programming|2024-04-01|    2024-04-10|            100|     4|             9|          1|            400|\n",
            "|    E002|  U002|    C002|Excel for Finance|Productivity|2024-04-02|          NULL|             45|     0|          NULL|          0|              0|\n",
            "|    E003|  U001|    C003|  ML with PySpark|Data Science|2024-04-03|          NULL|             30|     0|          NULL|          0|              0|\n",
            "|    E004|  U003|    C001|    Python Basics| Programming|2024-04-04|    2024-04-20|            100|     5|            16|          1|            500|\n",
            "|    E005|  U004|    C004|Digital Marketing|   Marketing|2024-04-05|    2024-04-16|            100|     4|            11|          1|            400|\n",
            "+--------+------+--------+-----------------+------------+----------+--------------+---------------+------+--------------+-----------+---------------+\n",
            "\n"
          ]
        }
      ]
    },
    {
      "cell_type": "markdown",
      "source": [
        "**Identify Drop-offs**"
      ],
      "metadata": {
        "id": "-3hoxIoxHbcq"
      }
    },
    {
      "cell_type": "code",
      "source": [
        "# Filter all records with ProgressPercent < 50 and CompletionDate is null\n",
        "\n",
        "df_enrollment.filter((col(\"ProgressPercent\") < 50) & col(\"CompletionDate\").isNull()).show()"
      ],
      "metadata": {
        "colab": {
          "base_uri": "https://localhost:8080/"
        },
        "id": "CIDXQy1QHYMs",
        "outputId": "4a961ebc-b79a-4a1c-9ace-a190658b79df"
      },
      "execution_count": 12,
      "outputs": [
        {
          "output_type": "stream",
          "name": "stdout",
          "text": [
            "+--------+------+--------+-----------------+------------+----------+--------------+---------------+------+--------------+-----------+---------------+\n",
            "|EnrollID|UserID|CourseID|       CourseName|    Category|EnrollDate|CompletionDate|ProgressPercent|Rating|DaysToComplete|IsCompleted|EngagementScore|\n",
            "+--------+------+--------+-----------------+------------+----------+--------------+---------------+------+--------------+-----------+---------------+\n",
            "|    E002|  U002|    C002|Excel for Finance|Productivity|2024-04-02|          NULL|             45|     0|          NULL|          0|              0|\n",
            "|    E003|  U001|    C003|  ML with PySpark|Data Science|2024-04-03|          NULL|             30|     0|          NULL|          0|              0|\n",
            "+--------+------+--------+-----------------+------------+----------+--------------+---------------+------+--------------+-----------+---------------+\n",
            "\n"
          ]
        }
      ]
    },
    {
      "cell_type": "code",
      "source": [
        "# Create a view called Dropouts\n",
        "\n",
        "df_enrollment.createOrReplaceTempView(\"Dropouts\")\n",
        "spark.sql(\"SELECT * FROM Dropouts\").show()"
      ],
      "metadata": {
        "colab": {
          "base_uri": "https://localhost:8080/"
        },
        "id": "8YgT153fHoym",
        "outputId": "ae6ed2e3-d6d0-4727-d2c8-d48b6885376c"
      },
      "execution_count": 13,
      "outputs": [
        {
          "output_type": "stream",
          "name": "stdout",
          "text": [
            "+--------+------+--------+-----------------+------------+----------+--------------+---------------+------+--------------+-----------+---------------+\n",
            "|EnrollID|UserID|CourseID|       CourseName|    Category|EnrollDate|CompletionDate|ProgressPercent|Rating|DaysToComplete|IsCompleted|EngagementScore|\n",
            "+--------+------+--------+-----------------+------------+----------+--------------+---------------+------+--------------+-----------+---------------+\n",
            "|    E001|  U001|    C001|    Python Basics| Programming|2024-04-01|    2024-04-10|            100|     4|             9|          1|            400|\n",
            "|    E002|  U002|    C002|Excel for Finance|Productivity|2024-04-02|          NULL|             45|     0|          NULL|          0|              0|\n",
            "|    E003|  U001|    C003|  ML with PySpark|Data Science|2024-04-03|          NULL|             30|     0|          NULL|          0|              0|\n",
            "|    E004|  U003|    C001|    Python Basics| Programming|2024-04-04|    2024-04-20|            100|     5|            16|          1|            500|\n",
            "|    E005|  U004|    C004|Digital Marketing|   Marketing|2024-04-05|    2024-04-16|            100|     4|            11|          1|            400|\n",
            "+--------+------+--------+-----------------+------------+----------+--------------+---------------+------+--------------+-----------+---------------+\n",
            "\n"
          ]
        }
      ]
    },
    {
      "cell_type": "markdown",
      "source": [
        "**Joins with Metadata**"
      ],
      "metadata": {
        "id": "hK4o0rdyJCWQ"
      }
    },
    {
      "cell_type": "code",
      "source": [
        "df_catalog = spark.read.csv('/content/drive/MyDrive/course_catalog.csv',header = True,inferSchema = True)\n",
        "df_catalog.show()"
      ],
      "metadata": {
        "colab": {
          "base_uri": "https://localhost:8080/"
        },
        "id": "k60_GKnXIhFR",
        "outputId": "c662186e-7d67-4457-c5fe-2a6220897481"
      },
      "execution_count": 14,
      "outputs": [
        {
          "output_type": "stream",
          "name": "stdout",
          "text": [
            "+--------+-------------+-------------+------------+\n",
            "|CourseID|   Instructor|DurationHours|       Level|\n",
            "+--------+-------------+-------------+------------+\n",
            "|    C001|Abdullah Khan|            8|    Beginner|\n",
            "|    C002|   Sana Gupta|            5|    Beginner|\n",
            "|    C003| Ibrahim Khan|           10|Intermediate|\n",
            "|    C004|  Zoya Sheikh|            6|    Beginner|\n",
            "+--------+-------------+-------------+------------+\n",
            "\n"
          ]
        }
      ]
    },
    {
      "cell_type": "code",
      "source": [
        "#Join to find average progress per instructor\n",
        "\n",
        "joined_df = df_enrollment.join(df_catalog, on=\"CourseID\", how=\"inner\")\n",
        "\n",
        "from pyspark.sql.functions import avg\n",
        "joined_df.groupBy(\"Instructor\").agg(avg(\"ProgressPercent\").alias(\"AvgProgress\")).show()"
      ],
      "metadata": {
        "colab": {
          "base_uri": "https://localhost:8080/"
        },
        "id": "ZQ-4Xi6jb5BB",
        "outputId": "f5920d6c-b746-4c49-8654-41780b3adf4a"
      },
      "execution_count": 16,
      "outputs": [
        {
          "output_type": "stream",
          "name": "stdout",
          "text": [
            "+-------------+-----------+\n",
            "|   Instructor|AvgProgress|\n",
            "+-------------+-----------+\n",
            "|  Zoya Sheikh|      100.0|\n",
            "|   Sana Gupta|       45.0|\n",
            "| Ibrahim Khan|       30.0|\n",
            "|Abdullah Khan|      100.0|\n",
            "+-------------+-----------+\n",
            "\n"
          ]
        }
      ]
    },
    {
      "cell_type": "code",
      "source": [
        "# Show who teaches the most enrolled course\n",
        "from pyspark.sql.functions import count\n",
        "\n",
        "joined_df.groupBy(\"Instructor\").agg(count(\"*\").alias(\"Enrollments\")).orderBy(\"Enrollments\", ascending=False).limit(1).show()"
      ],
      "metadata": {
        "colab": {
          "base_uri": "https://localhost:8080/"
        },
        "id": "zYTayKSFci9x",
        "outputId": "abb624a5-9975-4cb0-8335-18b0f92b56bf"
      },
      "execution_count": 19,
      "outputs": [
        {
          "output_type": "stream",
          "name": "stdout",
          "text": [
            "+-------------+-----------+\n",
            "|   Instructor|Enrollments|\n",
            "+-------------+-----------+\n",
            "|Abdullah Khan|          2|\n",
            "+-------------+-----------+\n",
            "\n"
          ]
        }
      ]
    },
    {
      "cell_type": "markdown",
      "source": [
        "**Delta Lake Practice**\n"
      ],
      "metadata": {
        "id": "JyBUJNfYd9FZ"
      }
    },
    {
      "cell_type": "code",
      "source": [
        "# Save as Delta Table enrollments_delta\n",
        "# Apply:\n",
        "# Update: Set all ratings to 5 where Course = 'Python Basics'\n",
        "# Delete: All rows where ProgressPercent = 0\n",
        "# Show DESCRIBE HISTORY\n",
        "\n",
        "df_enrollment.write.format(\"delta\").mode(\"overwrite\").save(\"/tmp/enrollments_delta\")\n",
        "\n",
        "from delta.tables import DeltaTable\n",
        "from pyspark.sql.functions import lit\n",
        "\n",
        "delta_table = DeltaTable.forPath(spark, \"/tmp/enrollments_delta\")\n",
        "\n",
        "delta_table.update(condition = col(\"CourseName\") == \"Python Basics\",set = { \"Rating\": lit(5) })\n",
        "\n",
        "delta_table.delete(condition = col(\"ProgressPercent\") == 0)\n",
        "\n",
        "spark.sql(\"DESCRIBE HISTORY delta.`/tmp/enrollments_delta`\").show(truncate=False)"
      ],
      "metadata": {
        "id": "_gCxTCvFd4U_"
      },
      "execution_count": null,
      "outputs": []
    },
    {
      "cell_type": "markdown",
      "source": [
        "**Window Functions**"
      ],
      "metadata": {
        "id": "5bd-vJgRf_vf"
      }
    },
    {
      "cell_type": "code",
      "source": [
        "# Use dense_rank() to rank courses by number of enrollments\n",
        "from pyspark.sql.window import Window\n",
        "from pyspark.sql.functions import count, dense_rank\n",
        "\n",
        "course_counts = df_enrollment.groupBy(\"CourseID\").agg(count(\"*\").alias(\"Enrollments\"))\n",
        "\n",
        "rank_window = Window.orderBy(course_counts[\"Enrollments\"].desc())\n",
        "ranked_courses = course_counts.withColumn(\"Rank\", dense_rank().over(rank_window))\n",
        "ranked_courses.show()"
      ],
      "metadata": {
        "colab": {
          "base_uri": "https://localhost:8080/"
        },
        "id": "Qf2jYP7XgJ3b",
        "outputId": "afd9e9ee-2991-474c-c516-9ccdd41e2df9"
      },
      "execution_count": 20,
      "outputs": [
        {
          "output_type": "stream",
          "name": "stdout",
          "text": [
            "+--------+-----------+----+\n",
            "|CourseID|Enrollments|Rank|\n",
            "+--------+-----------+----+\n",
            "|    C001|          2|   1|\n",
            "|    C003|          1|   2|\n",
            "|    C004|          1|   2|\n",
            "|    C002|          1|   2|\n",
            "+--------+-----------+----+\n",
            "\n"
          ]
        }
      ]
    },
    {
      "cell_type": "code",
      "source": [
        "# lead() to find next course by each user (sorted by EnrollDate)\n",
        "from pyspark.sql.functions import lead\n",
        "\n",
        "user_window = Window.partitionBy(\"UserID\").orderBy(\"EnrollDate\")\n",
        "df_enrollment = df_enrollment.withColumn(\"NextCourseID\", lead(\"CourseID\").over(user_window))\n",
        "df_enrollment.show()"
      ],
      "metadata": {
        "colab": {
          "base_uri": "https://localhost:8080/"
        },
        "id": "1YjWNviWgMCR",
        "outputId": "67100ee6-51c8-4d11-fb1f-bd96d138c577"
      },
      "execution_count": 21,
      "outputs": [
        {
          "output_type": "stream",
          "name": "stdout",
          "text": [
            "+--------+------+--------+-----------------+------------+----------+--------------+---------------+------+--------------+-----------+---------------+------------+\n",
            "|EnrollID|UserID|CourseID|       CourseName|    Category|EnrollDate|CompletionDate|ProgressPercent|Rating|DaysToComplete|IsCompleted|EngagementScore|NextCourseID|\n",
            "+--------+------+--------+-----------------+------------+----------+--------------+---------------+------+--------------+-----------+---------------+------------+\n",
            "|    E001|  U001|    C001|    Python Basics| Programming|2024-04-01|    2024-04-10|            100|     4|             9|          1|            400|        C003|\n",
            "|    E003|  U001|    C003|  ML with PySpark|Data Science|2024-04-03|          NULL|             30|     0|          NULL|          0|              0|        NULL|\n",
            "|    E002|  U002|    C002|Excel for Finance|Productivity|2024-04-02|          NULL|             45|     0|          NULL|          0|              0|        NULL|\n",
            "|    E004|  U003|    C001|    Python Basics| Programming|2024-04-04|    2024-04-20|            100|     5|            16|          1|            500|        NULL|\n",
            "|    E005|  U004|    C004|Digital Marketing|   Marketing|2024-04-05|    2024-04-16|            100|     4|            11|          1|            400|        NULL|\n",
            "+--------+------+--------+-----------------+------------+----------+--------------+---------------+------+--------------+-----------+---------------+------------+\n",
            "\n"
          ]
        }
      ]
    },
    {
      "cell_type": "markdown",
      "source": [
        "**SQL Logic for Dashboard Views**"
      ],
      "metadata": {
        "id": "VZJgIMYsiZ_f"
      }
    },
    {
      "cell_type": "code",
      "source": [
        "# Create views:\n",
        "# daily_enrollments\n",
        "# category_performance (avg rating by category)\n",
        "# top_3_courses\n",
        "\n",
        "spark.sql(\"\"\"CREATE OR REPLACE VIEW daily_enrollments AS\n",
        "SELECT\n",
        "    EnrollDate,\n",
        "    COUNT(*) AS TotalEnrollments\n",
        "FROM enrollments_delta\n",
        "GROUP BY EnrollDate\n",
        "ORDER BY EnrollDate;\n",
        "\"\"\")\n",
        "\n",
        "spark.sql(\"\"\"CREATE OR REPLACE VIEW category_performance AS\n",
        "SELECT\n",
        "    Category,\n",
        "    ROUND(AVG(Rating), 2) AS AvgRating\n",
        "FROM enrollments_delta\n",
        "WHERE Rating IS NOT NULL\n",
        "GROUP BY Category\n",
        "ORDER BY AvgRating DESC;\"\"\")\n",
        "\n",
        "spark.sql(\"\"\"CREATE OR REPLACE VIEW top_3_courses AS\n",
        "SELECT\n",
        "    CourseID,\n",
        "    CourseName,\n",
        "    COUNT(*) AS Enrollments\n",
        "FROM enrollments_delta\n",
        "GROUP BY CourseID, CourseName\n",
        "ORDER BY Enrollments DESC\n",
        "LIMIT 3;\"\"\")"
      ],
      "metadata": {
        "id": "wCrsGzGJjPbx"
      },
      "execution_count": null,
      "outputs": []
    },
    {
      "cell_type": "markdown",
      "source": [
        "**Time Travel**"
      ],
      "metadata": {
        "id": "X_rcAnOrk-HI"
      }
    },
    {
      "cell_type": "code",
      "source": [
        "# View previous version before update/delete\n",
        "\n",
        "spark.sql(\"SELECT * FROM delta.`/tmp/enrollments_delta` VERSION AS OF 0;\")\n",
        "\n",
        "spark.sql(\"DESCRIBE HISTORY delta.`/tmp/enrollments_delta`;\")"
      ],
      "metadata": {
        "id": "EeACsRUajyz-"
      },
      "execution_count": null,
      "outputs": []
    },
    {
      "cell_type": "code",
      "source": [
        "# Use VERSION AS OF and TIMESTAMP AS OF\n",
        "spark.sql('''SELECT * FROM delta.`/tmp/enrollments_delta` TIMESTAMP AS OF '2024-04-11T10:00:00';''')"
      ],
      "metadata": {
        "id": "QSjRWC0-lDE_"
      },
      "execution_count": null,
      "outputs": []
    },
    {
      "cell_type": "markdown",
      "source": [
        "**Export Reporting**"
      ],
      "metadata": {
        "id": "oKHk0V65nJqB"
      }
    },
    {
      "cell_type": "code",
      "source": [
        "df_enrollment.write.partitionBy(\"Category\").mode(\"overwrite\").json(\"/content/drive/MyDrive/enrollments_json_by_category\")"
      ],
      "metadata": {
        "id": "aTpJ1mCNmQp_"
      },
      "execution_count": 23,
      "outputs": []
    },
    {
      "cell_type": "code",
      "source": [
        "from pyspark.sql.functions import count, avg\n",
        "\n",
        "summary_df = df_enrollment.groupBy(\"CourseName\").agg(count(\"*\").alias(\"TotalEnrollments\"),avg(\"Rating\").alias(\"AvgRating\"),avg(\"ProgressPercent\").alias(\"AvgProgress\"))\n",
        "\n",
        "summary_df.write.mode(\"overwrite\").parquet(\"/content/drive/MyDrive/course_summary_parquet\")"
      ],
      "metadata": {
        "id": "22FHnlRmm8T7"
      },
      "execution_count": 24,
      "outputs": []
    }
  ]
}