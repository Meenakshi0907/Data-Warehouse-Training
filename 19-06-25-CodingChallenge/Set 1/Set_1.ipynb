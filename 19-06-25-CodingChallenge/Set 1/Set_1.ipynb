{
  "nbformat": 4,
  "nbformat_minor": 0,
  "metadata": {
    "colab": {
      "provenance": []
    },
    "kernelspec": {
      "name": "python3",
      "display_name": "Python 3"
    },
    "language_info": {
      "name": "python"
    }
  },
  "cells": [
    {
      "cell_type": "code",
      "execution_count": 1,
      "metadata": {
        "colab": {
          "base_uri": "https://localhost:8080/",
          "height": 219
        },
        "id": "iwXDWxBfXiOF",
        "outputId": "ddb234ae-d33a-4c58-b3cc-558ee5e6db12"
      },
      "outputs": [
        {
          "output_type": "execute_result",
          "data": {
            "text/plain": [
              "<pyspark.sql.session.SparkSession at 0x7c6d615b6410>"
            ],
            "text/html": [
              "\n",
              "            <div>\n",
              "                <p><b>SparkSession - in-memory</b></p>\n",
              "                \n",
              "        <div>\n",
              "            <p><b>SparkContext</b></p>\n",
              "\n",
              "            <p><a href=\"http://7e8f6a7c3ee7:4040\">Spark UI</a></p>\n",
              "\n",
              "            <dl>\n",
              "              <dt>Version</dt>\n",
              "                <dd><code>v3.5.1</code></dd>\n",
              "              <dt>Master</dt>\n",
              "                <dd><code>local[*]</code></dd>\n",
              "              <dt>AppName</dt>\n",
              "                <dd><code>Set-1</code></dd>\n",
              "            </dl>\n",
              "        </div>\n",
              "        \n",
              "            </div>\n",
              "        "
            ]
          },
          "metadata": {},
          "execution_count": 1
        }
      ],
      "source": [
        "from pyspark.sql import SparkSession\n",
        "\n",
        "spark = SparkSession.builder.appName(\"Set-1\").getOrCreate()\n",
        "spark"
      ]
    },
    {
      "cell_type": "markdown",
      "source": [
        "**Data Ingestion & Schema Analysis**"
      ],
      "metadata": {
        "id": "vK2hs4V7ZKIr"
      }
    },
    {
      "cell_type": "code",
      "source": [
        "#Load CSV using PySpark with schema inference\n",
        "from google.colab import drive\n",
        "drive.mount('/content/drive')\n",
        "\n",
        "df_traffic = spark.read.csv('/content/drive/MyDrive/traffic_logs.csv',header = True,inferSchema = True)\n",
        "df_traffic.show()"
      ],
      "metadata": {
        "colab": {
          "base_uri": "https://localhost:8080/"
        },
        "id": "-hQDtvprYP3f",
        "outputId": "b11c4956-3e8e-45bf-9e1d-25797c7b3454"
      },
      "execution_count": 2,
      "outputs": [
        {
          "output_type": "stream",
          "name": "stdout",
          "text": [
            "Mounted at /content/drive\n",
            "+-----+---------+----------+---------+-------------------+-------------------+-----------+--------+--------+\n",
            "|LogID|VehicleID|EntryPoint|ExitPoint|          EntryTime|           ExitTime|VehicleType|SpeedKMH|TollPaid|\n",
            "+-----+---------+----------+---------+-------------------+-------------------+-----------+--------+--------+\n",
            "| L001|     V001|     GateA|    GateC|2024-05-01 08:01:00|2024-05-01 08:20:00|        Car|      60|      50|\n",
            "| L002|     V002|     GateB|    GateC|2024-05-01 08:10:00|2024-05-01 08:45:00|      Truck|      45|     100|\n",
            "| L003|     V003|     GateA|    GateD|2024-05-01 09:00:00|2024-05-01 09:18:00|       Bike|      55|      30|\n",
            "| L004|     V004|     GateC|    GateD|2024-05-01 09:15:00|2024-05-01 09:35:00|        Car|      80|      50|\n",
            "| L005|     V005|     GateB|    GateA|2024-05-01 10:05:00|2024-05-01 10:40:00|        Bus|      40|      70|\n",
            "+-----+---------+----------+---------+-------------------+-------------------+-----------+--------+--------+\n",
            "\n"
          ]
        }
      ]
    },
    {
      "cell_type": "code",
      "source": [
        "# Manually define schema and compare\n",
        "from pyspark.sql.types import *\n",
        "\n",
        "schema = StructType([\n",
        "    StructField(\"LogID\",StringType(), True),\n",
        "    StructField(\"VehicleID\",StringType(), True),\n",
        "    StructField(\"EntryPoint\",StringType(), True),\n",
        "    StructField(\"ExitPoint\",StringType(), True),\n",
        "    StructField(\"EntryTime\",TimestampType(), True),\n",
        "    StructField(\"ExitTime\",TimestampType(), True),\n",
        "    StructField(\"VehicleType\",StringType(), True),\n",
        "    StructField(\"SpeedKMH\",DoubleType(),True),\n",
        "    StructField(\"TollPaid\",DoubleType(),True)\n",
        "])\n",
        "\n",
        "df_traffic = spark.read.csv('/content/drive/MyDrive/traffic_logs.csv',header = True, schema = schema)\n",
        "df_traffic.printSchema()"
      ],
      "metadata": {
        "colab": {
          "base_uri": "https://localhost:8080/"
        },
        "id": "XopuIB7jZdGQ",
        "outputId": "b1d3dceb-09c4-4286-dbcb-f60f197bff97"
      },
      "execution_count": 3,
      "outputs": [
        {
          "output_type": "stream",
          "name": "stdout",
          "text": [
            "root\n",
            " |-- LogID: string (nullable = true)\n",
            " |-- VehicleID: string (nullable = true)\n",
            " |-- EntryPoint: string (nullable = true)\n",
            " |-- ExitPoint: string (nullable = true)\n",
            " |-- EntryTime: timestamp (nullable = true)\n",
            " |-- ExitTime: timestamp (nullable = true)\n",
            " |-- VehicleType: string (nullable = true)\n",
            " |-- SpeedKMH: double (nullable = true)\n",
            " |-- TollPaid: double (nullable = true)\n",
            "\n"
          ]
        }
      ]
    },
    {
      "cell_type": "code",
      "source": [
        "# Ensure EntryTime/ExitTime are timestamp\n",
        "from pyspark.sql.functions import col,to_timestamp\n",
        "\n",
        "df_traffic = df_traffic.withColumn(\"EntryPoint\",to_timestamp(col(\"EntryPoint\"),\"yyyy-mm-dd HH:mm:ss\")).\\\n",
        "withColumn(\"ExitPoint\",to_timestamp(col(\"ExitPoint\"),\"yyyy-mm-dd HH:mm:ss\"))\n",
        "df_traffic.show()"
      ],
      "metadata": {
        "colab": {
          "base_uri": "https://localhost:8080/"
        },
        "id": "8BIJJqFDZonM",
        "outputId": "43adcf6b-177b-444e-9e75-f48b5129c768"
      },
      "execution_count": 5,
      "outputs": [
        {
          "output_type": "stream",
          "name": "stdout",
          "text": [
            "+-----+---------+----------+---------+-------------------+-------------------+-----------+--------+--------+\n",
            "|LogID|VehicleID|EntryPoint|ExitPoint|          EntryTime|           ExitTime|VehicleType|SpeedKMH|TollPaid|\n",
            "+-----+---------+----------+---------+-------------------+-------------------+-----------+--------+--------+\n",
            "| L001|     V001|      NULL|     NULL|2024-05-01 08:01:00|2024-05-01 08:20:00|        Car|    60.0|    50.0|\n",
            "| L002|     V002|      NULL|     NULL|2024-05-01 08:10:00|2024-05-01 08:45:00|      Truck|    45.0|   100.0|\n",
            "| L003|     V003|      NULL|     NULL|2024-05-01 09:00:00|2024-05-01 09:18:00|       Bike|    55.0|    30.0|\n",
            "| L004|     V004|      NULL|     NULL|2024-05-01 09:15:00|2024-05-01 09:35:00|        Car|    80.0|    50.0|\n",
            "| L005|     V005|      NULL|     NULL|2024-05-01 10:05:00|2024-05-01 10:40:00|        Bus|    40.0|    70.0|\n",
            "+-----+---------+----------+---------+-------------------+-------------------+-----------+--------+--------+\n",
            "\n"
          ]
        }
      ]
    },
    {
      "cell_type": "markdown",
      "source": [
        "**Derived Column Creation**"
      ],
      "metadata": {
        "id": "O_w0r4tadLcg"
      }
    },
    {
      "cell_type": "code",
      "source": [
        "# Calculate TripDurationMinutes = ExitTime - EntryTime\n",
        "from pyspark.sql.functions import unix_timestamp\n",
        "\n",
        "df_drived = df_traffic.withColumn(\"TripDurationMinutes\",(unix_timestamp(\"ExitTime\") - unix_timestamp(\"EntryTime\"))/60)\n",
        "df_drived.show()"
      ],
      "metadata": {
        "colab": {
          "base_uri": "https://localhost:8080/"
        },
        "id": "mz9N-fJAdOyS",
        "outputId": "7a8c91da-7cb2-414c-9308-d56276f05350"
      },
      "execution_count": 21,
      "outputs": [
        {
          "output_type": "stream",
          "name": "stdout",
          "text": [
            "+-----+---------+----------+---------+-------------------+-------------------+-----------+--------+--------+-------------------+\n",
            "|LogID|VehicleID|EntryPoint|ExitPoint|          EntryTime|           ExitTime|VehicleType|SpeedKMH|TollPaid|TripDurationMinutes|\n",
            "+-----+---------+----------+---------+-------------------+-------------------+-----------+--------+--------+-------------------+\n",
            "| L001|     V001|      NULL|     NULL|2024-05-01 08:01:00|2024-05-01 08:20:00|        Car|    60.0|    50.0|               19.0|\n",
            "| L002|     V002|      NULL|     NULL|2024-05-01 08:10:00|2024-05-01 08:45:00|      Truck|    45.0|   100.0|               35.0|\n",
            "| L003|     V003|      NULL|     NULL|2024-05-01 09:00:00|2024-05-01 09:18:00|       Bike|    55.0|    30.0|               18.0|\n",
            "| L004|     V004|      NULL|     NULL|2024-05-01 09:15:00|2024-05-01 09:35:00|        Car|    80.0|    50.0|               20.0|\n",
            "| L005|     V005|      NULL|     NULL|2024-05-01 10:05:00|2024-05-01 10:40:00|        Bus|    40.0|    70.0|               35.0|\n",
            "+-----+---------+----------+---------+-------------------+-------------------+-----------+--------+--------+-------------------+\n",
            "\n"
          ]
        }
      ]
    },
    {
      "cell_type": "code",
      "source": [
        "# Add IsOverspeed = SpeedKMH > 60\n",
        "from pyspark.sql.functions import col, when\n",
        "\n",
        "df_drived = df_drived.withColumn(\"IsOverspeed\",when(col(\"SpeedKMH\") > 60, True).otherwise(False))\n",
        "df_drived.show()"
      ],
      "metadata": {
        "colab": {
          "base_uri": "https://localhost:8080/"
        },
        "id": "l5qI3lJidQyM",
        "outputId": "e599ad67-65e8-4bcf-a04b-169ebb95b3e1"
      },
      "execution_count": 22,
      "outputs": [
        {
          "output_type": "stream",
          "name": "stdout",
          "text": [
            "+-----+---------+----------+---------+-------------------+-------------------+-----------+--------+--------+-------------------+-----------+\n",
            "|LogID|VehicleID|EntryPoint|ExitPoint|          EntryTime|           ExitTime|VehicleType|SpeedKMH|TollPaid|TripDurationMinutes|IsOverspeed|\n",
            "+-----+---------+----------+---------+-------------------+-------------------+-----------+--------+--------+-------------------+-----------+\n",
            "| L001|     V001|      NULL|     NULL|2024-05-01 08:01:00|2024-05-01 08:20:00|        Car|    60.0|    50.0|               19.0|      false|\n",
            "| L002|     V002|      NULL|     NULL|2024-05-01 08:10:00|2024-05-01 08:45:00|      Truck|    45.0|   100.0|               35.0|      false|\n",
            "| L003|     V003|      NULL|     NULL|2024-05-01 09:00:00|2024-05-01 09:18:00|       Bike|    55.0|    30.0|               18.0|      false|\n",
            "| L004|     V004|      NULL|     NULL|2024-05-01 09:15:00|2024-05-01 09:35:00|        Car|    80.0|    50.0|               20.0|       true|\n",
            "| L005|     V005|      NULL|     NULL|2024-05-01 10:05:00|2024-05-01 10:40:00|        Bus|    40.0|    70.0|               35.0|      false|\n",
            "+-----+---------+----------+---------+-------------------+-------------------+-----------+--------+--------+-------------------+-----------+\n",
            "\n"
          ]
        }
      ]
    },
    {
      "cell_type": "markdown",
      "source": [
        "**Vehicle Behavior Aggregations**"
      ],
      "metadata": {
        "id": "MC7PKguigTxf"
      }
    },
    {
      "cell_type": "code",
      "source": [
        "# Average speed per VehicleType\n",
        "from pyspark.sql.functions import avg\n",
        "\n",
        "df_traffic.groupBy(\"VehicleType\").agg(avg(\"SpeedKMH\").alias(\"AverageSpeed\")).show()"
      ],
      "metadata": {
        "colab": {
          "base_uri": "https://localhost:8080/"
        },
        "id": "mPsjrXuKgOES",
        "outputId": "d6c02547-db0d-4048-d912-467c03856601"
      },
      "execution_count": 10,
      "outputs": [
        {
          "output_type": "stream",
          "name": "stdout",
          "text": [
            "+-----------+------------+\n",
            "|VehicleType|AverageSpeed|\n",
            "+-----------+------------+\n",
            "|       Bike|        55.0|\n",
            "|        Car|        70.0|\n",
            "|      Truck|        45.0|\n",
            "|        Bus|        40.0|\n",
            "+-----------+------------+\n",
            "\n"
          ]
        }
      ]
    },
    {
      "cell_type": "code",
      "source": [
        "# Total toll collected per gate (EntryPoint)\n",
        "from pyspark.sql.functions import sum\n",
        "\n",
        "df_traffic.groupBy(\"EntryPoint\").agg(sum(\"TollPaid\").alias(\"TotalToll\")).show()"
      ],
      "metadata": {
        "colab": {
          "base_uri": "https://localhost:8080/"
        },
        "id": "FwtXAqbFgYUk",
        "outputId": "ffeffda3-d286-44c1-ee3e-09605955ef09"
      },
      "execution_count": 11,
      "outputs": [
        {
          "output_type": "stream",
          "name": "stdout",
          "text": [
            "+----------+---------+\n",
            "|EntryPoint|TotalToll|\n",
            "+----------+---------+\n",
            "|      NULL|    300.0|\n",
            "+----------+---------+\n",
            "\n"
          ]
        }
      ]
    },
    {
      "cell_type": "code",
      "source": [
        "# Most used ExitPoint\n",
        "from pyspark.sql.functions import count\n",
        "\n",
        "df_traffic.groupBy(\"ExitPoint\").agg(count('*').alias(\"ExitPoint\")).show()"
      ],
      "metadata": {
        "colab": {
          "base_uri": "https://localhost:8080/"
        },
        "id": "trZglsO8gakl",
        "outputId": "7cac5718-7b93-44c3-fe49-e63e82033b21"
      },
      "execution_count": 14,
      "outputs": [
        {
          "output_type": "stream",
          "name": "stdout",
          "text": [
            "+---------+---------+\n",
            "|ExitPoint|ExitPoint|\n",
            "+---------+---------+\n",
            "|     NULL|        5|\n",
            "+---------+---------+\n",
            "\n"
          ]
        }
      ]
    },
    {
      "cell_type": "markdown",
      "source": [
        "**Window Functions**"
      ],
      "metadata": {
        "id": "D_vqehLzjLc9"
      }
    },
    {
      "cell_type": "code",
      "source": [
        "# Rank vehicles by speed within VehicleType\n",
        "from pyspark.sql.window import Window\n",
        "from pyspark.sql.functions import dense_rank, col\n",
        "\n",
        "speed_window = Window.partitionBy(\"VehicleType\").orderBy(col(\"SpeedKMH\").desc())\n",
        "df_ranked = df_traffic.withColumn(\"SpeedRank\",dense_rank().over(speed_window))\n",
        "df_ranked.show()"
      ],
      "metadata": {
        "colab": {
          "base_uri": "https://localhost:8080/"
        },
        "id": "BiEg3HSxjLHm",
        "outputId": "ea425d29-03e1-4ec7-ee68-1ceb3ba79d15"
      },
      "execution_count": 16,
      "outputs": [
        {
          "output_type": "stream",
          "name": "stdout",
          "text": [
            "+-----+---------+----------+---------+-------------------+-------------------+-----------+--------+--------+---------+\n",
            "|LogID|VehicleID|EntryPoint|ExitPoint|          EntryTime|           ExitTime|VehicleType|SpeedKMH|TollPaid|SpeedRank|\n",
            "+-----+---------+----------+---------+-------------------+-------------------+-----------+--------+--------+---------+\n",
            "| L003|     V003|      NULL|     NULL|2024-05-01 09:00:00|2024-05-01 09:18:00|       Bike|    55.0|    30.0|        1|\n",
            "| L005|     V005|      NULL|     NULL|2024-05-01 10:05:00|2024-05-01 10:40:00|        Bus|    40.0|    70.0|        1|\n",
            "| L004|     V004|      NULL|     NULL|2024-05-01 09:15:00|2024-05-01 09:35:00|        Car|    80.0|    50.0|        1|\n",
            "| L001|     V001|      NULL|     NULL|2024-05-01 08:01:00|2024-05-01 08:20:00|        Car|    60.0|    50.0|        2|\n",
            "| L002|     V002|      NULL|     NULL|2024-05-01 08:10:00|2024-05-01 08:45:00|      Truck|    45.0|   100.0|        1|\n",
            "+-----+---------+----------+---------+-------------------+-------------------+-----------+--------+--------+---------+\n",
            "\n"
          ]
        }
      ]
    },
    {
      "cell_type": "code",
      "source": [
        "# Find last exit time for each vehicle using lag()\n",
        "from pyspark.sql.functions import lag\n",
        "\n",
        "exit_window = Window.partitionBy(\"VehicleID\").orderBy(\"ExitTime\")\n",
        "df_lagged = df_traffic.withColumn(\"PreviousExitTime\", lag(\"ExitTime\").over(exit_window))\n",
        "df_lagged.show()"
      ],
      "metadata": {
        "colab": {
          "base_uri": "https://localhost:8080/"
        },
        "id": "g839pCIRjRdK",
        "outputId": "2a7cb218-0406-4b1d-c6e2-32c559d06625"
      },
      "execution_count": 17,
      "outputs": [
        {
          "output_type": "stream",
          "name": "stdout",
          "text": [
            "+-----+---------+----------+---------+-------------------+-------------------+-----------+--------+--------+----------------+\n",
            "|LogID|VehicleID|EntryPoint|ExitPoint|          EntryTime|           ExitTime|VehicleType|SpeedKMH|TollPaid|PreviousExitTime|\n",
            "+-----+---------+----------+---------+-------------------+-------------------+-----------+--------+--------+----------------+\n",
            "| L001|     V001|      NULL|     NULL|2024-05-01 08:01:00|2024-05-01 08:20:00|        Car|    60.0|    50.0|            NULL|\n",
            "| L002|     V002|      NULL|     NULL|2024-05-01 08:10:00|2024-05-01 08:45:00|      Truck|    45.0|   100.0|            NULL|\n",
            "| L003|     V003|      NULL|     NULL|2024-05-01 09:00:00|2024-05-01 09:18:00|       Bike|    55.0|    30.0|            NULL|\n",
            "| L004|     V004|      NULL|     NULL|2024-05-01 09:15:00|2024-05-01 09:35:00|        Car|    80.0|    50.0|            NULL|\n",
            "| L005|     V005|      NULL|     NULL|2024-05-01 10:05:00|2024-05-01 10:40:00|        Bus|    40.0|    70.0|            NULL|\n",
            "+-----+---------+----------+---------+-------------------+-------------------+-----------+--------+--------+----------------+\n",
            "\n"
          ]
        }
      ]
    },
    {
      "cell_type": "markdown",
      "source": [
        "**Session Segmentation**"
      ],
      "metadata": {
        "id": "8vI-jZkkluBI"
      }
    },
    {
      "cell_type": "code",
      "source": [
        "# Group by VehicleID to simulate route sessions\n",
        "from pyspark.sql.window import Window\n",
        "from pyspark.sql.functions import lag, col\n",
        "\n",
        "session_window = Window.partitionBy(\"VehicleID\").orderBy(\"EntryTime\")\n",
        "df_session = df_traffic.withColumn(\"PreviousExitTime\", lag(\"ExitTime\").over(session_window))\n",
        "df_session.show()"
      ],
      "metadata": {
        "colab": {
          "base_uri": "https://localhost:8080/"
        },
        "id": "ZWD8-nm0lw97",
        "outputId": "e515d5fc-7382-401c-beaf-c64531797631"
      },
      "execution_count": 18,
      "outputs": [
        {
          "output_type": "stream",
          "name": "stdout",
          "text": [
            "+-----+---------+----------+---------+-------------------+-------------------+-----------+--------+--------+----------------+\n",
            "|LogID|VehicleID|EntryPoint|ExitPoint|          EntryTime|           ExitTime|VehicleType|SpeedKMH|TollPaid|PreviousExitTime|\n",
            "+-----+---------+----------+---------+-------------------+-------------------+-----------+--------+--------+----------------+\n",
            "| L001|     V001|      NULL|     NULL|2024-05-01 08:01:00|2024-05-01 08:20:00|        Car|    60.0|    50.0|            NULL|\n",
            "| L002|     V002|      NULL|     NULL|2024-05-01 08:10:00|2024-05-01 08:45:00|      Truck|    45.0|   100.0|            NULL|\n",
            "| L003|     V003|      NULL|     NULL|2024-05-01 09:00:00|2024-05-01 09:18:00|       Bike|    55.0|    30.0|            NULL|\n",
            "| L004|     V004|      NULL|     NULL|2024-05-01 09:15:00|2024-05-01 09:35:00|        Car|    80.0|    50.0|            NULL|\n",
            "| L005|     V005|      NULL|     NULL|2024-05-01 10:05:00|2024-05-01 10:40:00|        Bus|    40.0|    70.0|            NULL|\n",
            "+-----+---------+----------+---------+-------------------+-------------------+-----------+--------+--------+----------------+\n",
            "\n"
          ]
        }
      ]
    },
    {
      "cell_type": "code",
      "source": [
        "# Find duration between subsequent trips (idle time)\n",
        "from pyspark.sql.functions import unix_timestamp\n",
        "\n",
        "df_session = df_session.withColumn(\"IdleTimeMinutes\", (unix_timestamp(\"EntryTime\") - unix_timestamp(\"PreviousExitTime\")) / 60)\n",
        "df_session.show()"
      ],
      "metadata": {
        "colab": {
          "base_uri": "https://localhost:8080/"
        },
        "id": "aF4-KR7NlzaQ",
        "outputId": "af8ff110-0937-4d09-cb56-20ad2fd9ff29"
      },
      "execution_count": 19,
      "outputs": [
        {
          "output_type": "stream",
          "name": "stdout",
          "text": [
            "+-----+---------+----------+---------+-------------------+-------------------+-----------+--------+--------+----------------+---------------+\n",
            "|LogID|VehicleID|EntryPoint|ExitPoint|          EntryTime|           ExitTime|VehicleType|SpeedKMH|TollPaid|PreviousExitTime|IdleTimeMinutes|\n",
            "+-----+---------+----------+---------+-------------------+-------------------+-----------+--------+--------+----------------+---------------+\n",
            "| L001|     V001|      NULL|     NULL|2024-05-01 08:01:00|2024-05-01 08:20:00|        Car|    60.0|    50.0|            NULL|           NULL|\n",
            "| L002|     V002|      NULL|     NULL|2024-05-01 08:10:00|2024-05-01 08:45:00|      Truck|    45.0|   100.0|            NULL|           NULL|\n",
            "| L003|     V003|      NULL|     NULL|2024-05-01 09:00:00|2024-05-01 09:18:00|       Bike|    55.0|    30.0|            NULL|           NULL|\n",
            "| L004|     V004|      NULL|     NULL|2024-05-01 09:15:00|2024-05-01 09:35:00|        Car|    80.0|    50.0|            NULL|           NULL|\n",
            "| L005|     V005|      NULL|     NULL|2024-05-01 10:05:00|2024-05-01 10:40:00|        Bus|    40.0|    70.0|            NULL|           NULL|\n",
            "+-----+---------+----------+---------+-------------------+-------------------+-----------+--------+--------+----------------+---------------+\n",
            "\n"
          ]
        }
      ]
    },
    {
      "cell_type": "markdown",
      "source": [
        "**Anomaly Detection**"
      ],
      "metadata": {
        "id": "9_UJL0Prn8rH"
      }
    },
    {
      "cell_type": "code",
      "source": [
        "# Identify vehicles with speed > 70 and TripDuration < 10 minutes\n",
        "df_drived.filter((col(\"SpeedKMH\") > 70) & (col(\"TripDurationMinutes\") < 10)).show()"
      ],
      "metadata": {
        "colab": {
          "base_uri": "https://localhost:8080/"
        },
        "id": "-3R2Y9HBn_rm",
        "outputId": "017c7783-f0c8-43a6-83ca-df96bf7e3eda"
      },
      "execution_count": 26,
      "outputs": [
        {
          "output_type": "stream",
          "name": "stdout",
          "text": [
            "+-----+---------+----------+---------+---------+--------+-----------+--------+--------+-------------------+-----------+\n",
            "|LogID|VehicleID|EntryPoint|ExitPoint|EntryTime|ExitTime|VehicleType|SpeedKMH|TollPaid|TripDurationMinutes|IsOverspeed|\n",
            "+-----+---------+----------+---------+---------+--------+-----------+--------+--------+-------------------+-----------+\n",
            "+-----+---------+----------+---------+---------+--------+-----------+--------+--------+-------------------+-----------+\n",
            "\n"
          ]
        }
      ]
    },
    {
      "cell_type": "code",
      "source": [
        "# Vehicles that paid less toll for longer trips\n",
        "\n",
        "df_drived.filter((col(\"TripDurationMinutes\") > 30) & (col(\"TollPaid\") < 40)).show()"
      ],
      "metadata": {
        "colab": {
          "base_uri": "https://localhost:8080/"
        },
        "id": "RMqVOdfeoDWR",
        "outputId": "33b1ad00-8bc0-45e5-dcf2-ffb27b1d4c1a"
      },
      "execution_count": 28,
      "outputs": [
        {
          "output_type": "stream",
          "name": "stdout",
          "text": [
            "+-----+---------+----------+---------+---------+--------+-----------+--------+--------+-------------------+-----------+\n",
            "|LogID|VehicleID|EntryPoint|ExitPoint|EntryTime|ExitTime|VehicleType|SpeedKMH|TollPaid|TripDurationMinutes|IsOverspeed|\n",
            "+-----+---------+----------+---------+---------+--------+-----------+--------+--------+-------------------+-----------+\n",
            "+-----+---------+----------+---------+---------+--------+-----------+--------+--------+-------------------+-----------+\n",
            "\n"
          ]
        }
      ]
    },
    {
      "cell_type": "code",
      "source": [
        "# Suspicious backtracking (ExitPoint earlier than EntryPoint)\n",
        "\n",
        "df_drived.filter(col(\"ExitPoint\") < col(\"EntryPoint\")).show()"
      ],
      "metadata": {
        "colab": {
          "base_uri": "https://localhost:8080/"
        },
        "id": "6gmOiDu_oF4L",
        "outputId": "632d1e9d-d863-4aed-8dc3-ad58428eac00"
      },
      "execution_count": 30,
      "outputs": [
        {
          "output_type": "stream",
          "name": "stdout",
          "text": [
            "+-----+---------+----------+---------+---------+--------+-----------+--------+--------+-------------------+-----------+\n",
            "|LogID|VehicleID|EntryPoint|ExitPoint|EntryTime|ExitTime|VehicleType|SpeedKMH|TollPaid|TripDurationMinutes|IsOverspeed|\n",
            "+-----+---------+----------+---------+---------+--------+-----------+--------+--------+-------------------+-----------+\n",
            "+-----+---------+----------+---------+---------+--------+-----------+--------+--------+-------------------+-----------+\n",
            "\n"
          ]
        }
      ]
    },
    {
      "cell_type": "markdown",
      "source": [
        "**Join with Metadata**"
      ],
      "metadata": {
        "id": "Mx9xFWLAqrBw"
      }
    },
    {
      "cell_type": "code",
      "source": [
        "# Prepare this small vehicle_registry.csv :\n",
        "# VehicleID,OwnerName,Model,RegisteredCity\n",
        "# V001,Anil,Hyundai i20,Delhi\n",
        "# V002,Rakesh,Tata Truck,Chennai\n",
        "# V003,Sana,Yamaha R15,Mumbai\n",
        "# V004,Neha,Honda City,Bangalore\n",
        "# V005,Zoya,Volvo Bus,Pune\n",
        "\n",
        "df_reg = spark.read.csv('/content/drive/MyDrive/vehicle_registry.csv',header = True,inferSchema = True)\n",
        "df_reg.show()"
      ],
      "metadata": {
        "colab": {
          "base_uri": "https://localhost:8080/"
        },
        "id": "nZx_W1PkqurO",
        "outputId": "b81131ab-9bde-48cf-c758-3c59d8ebc36c"
      },
      "execution_count": 31,
      "outputs": [
        {
          "output_type": "stream",
          "name": "stdout",
          "text": [
            "+---------+---------+-----------+--------------+\n",
            "|VehicleID|OwnerName|      Model|RegisteredCity|\n",
            "+---------+---------+-----------+--------------+\n",
            "|     V001|     Anil|Hyundai i20|         Delhi|\n",
            "|     V002|   Rakesh| Tata Truck|       Chennai|\n",
            "|     V003|     Sana| Yamaha R15|        Mumbai|\n",
            "|     V004|     Neha| Honda City|     Bangalore|\n",
            "|     V005|     Zoya|  Volvo Bus|          Pune|\n",
            "+---------+---------+-----------+--------------+\n",
            "\n"
          ]
        }
      ]
    },
    {
      "cell_type": "code",
      "source": [
        "# Join and group trips by RegisteredCity\n",
        "df_joined = df_drived.join(df_reg, on= \"VehicleID\",how = \"inner\")\n",
        "\n",
        "from pyspark.sql.functions import count\n",
        "df_joined.groupBy(\"RegisteredCity\").agg(count(\"*\").alias(\"TripCount\")).show()"
      ],
      "metadata": {
        "colab": {
          "base_uri": "https://localhost:8080/"
        },
        "id": "dgl4A5uTqxfW",
        "outputId": "febc9355-655d-4eff-9c09-dbf0aaa959b3"
      },
      "execution_count": 32,
      "outputs": [
        {
          "output_type": "stream",
          "name": "stdout",
          "text": [
            "+--------------+---------+\n",
            "|RegisteredCity|TripCount|\n",
            "+--------------+---------+\n",
            "|     Bangalore|        1|\n",
            "|       Chennai|        1|\n",
            "|        Mumbai|        1|\n",
            "|          Pune|        1|\n",
            "|         Delhi|        1|\n",
            "+--------------+---------+\n",
            "\n"
          ]
        }
      ]
    },
    {
      "cell_type": "markdown",
      "source": [
        "**Delta Lake Features**"
      ],
      "metadata": {
        "id": "53EaP_SQsfqM"
      }
    },
    {
      "cell_type": "code",
      "source": [
        "# Save traffic_logs as Delta Table\n",
        "\n",
        "df_drived.write.format(\"delta\").mode(\"overwrite\").save(\"/mnt/datalake/traffic_logs_delta\")"
      ],
      "metadata": {
        "id": "s7CYTfDzsX3B"
      },
      "execution_count": null,
      "outputs": []
    },
    {
      "cell_type": "code",
      "source": [
        "# Apply MERGE INTO to update toll rates for all Bikes\n",
        "from delta.tables import DeltaTable\n",
        "from pyspark.sql.functions import lit\n",
        "\n",
        "bike_updates = df_drived.filter(col(\"VehicleType\") == \"Bike\").withColumn(\"TollPaid\", lit(40))\n",
        "\n",
        "delta_table = DeltaTable.forName(spark, \"traffic_logs\")\n",
        "\n",
        "# Merge operation\n",
        "delta_table.alias(\"target\").merge(\n",
        "    bike_updates.alias(\"source\"),\n",
        "    \"target.LogID = source.LogID\"\n",
        ").whenMatchedUpdate(set={\"TollPaid\": \"source.TollPaid\"}).execute()"
      ],
      "metadata": {
        "id": "wp51Qt23skvd"
      },
      "execution_count": null,
      "outputs": []
    },
    {
      "cell_type": "code",
      "source": [
        "# Delete trips longer than 60 minutes\n",
        "\n",
        "delta_table.delete(\"TripDurationMinutes > 60\")"
      ],
      "metadata": {
        "id": "vt-puSFLsmUX"
      },
      "execution_count": null,
      "outputs": []
    },
    {
      "cell_type": "code",
      "source": [
        "# Use DESCRIBE HISTORY and VERSION AS OF\n",
        "\n",
        "df_old = spark.read.format(\"delta\").option(\"versionAsOf\", 0).table(\"traffic_logs\")\n",
        "df_old.show()"
      ],
      "metadata": {
        "id": "dugGvEAnsoF8"
      },
      "execution_count": null,
      "outputs": []
    },
    {
      "cell_type": "markdown",
      "source": [
        "**Advanced Conditions**\n"
      ],
      "metadata": {
        "id": "bgAPSxGxtkUh"
      }
    },
    {
      "cell_type": "code",
      "source": [
        "# when/otherwise : Tag trip type as:\n",
        "# \"Short\" <15min\n",
        "# \"Medium\" 15-30min\n",
        "# \"Long\" >30min\n",
        "from pyspark.sql.functions import when\n",
        "\n",
        "df_tagged = df_drived.withColumn(\n",
        "    \"TripType\",when(col(\"TripDurationMinutes\") < 15, \"Short\").when((col(\"TripDurationMinutes\") >= 15) & (col(\"TripDurationMinutes\") <= 30), \"Medium\")\n",
        "    .otherwise(\"Long\")\n",
        ")"
      ],
      "metadata": {
        "id": "dz-I2m_ptXUH"
      },
      "execution_count": 34,
      "outputs": []
    },
    {
      "cell_type": "code",
      "source": [
        "# Flag vehicles with more than 3 trips in a day\n",
        "from pyspark.sql.functions import to_date\n",
        "from pyspark.sql.functions import count\n",
        "from pyspark.sql.window import Window\n",
        "\n",
        "df_datewise = df_tagged.withColumn(\"TripDate\", to_date(col(\"EntryTime\")))\n",
        "\n",
        "trip_window = Window.partitionBy(\"VehicleID\", \"TripDate\")\n",
        "\n",
        "df_flagged = df_datewise.withColumn(\"TripCountPerDay\", count(\"*\").over(trip_window)).withColumn(\n",
        "    \"FrequentFlag\", when(col(\"TripCountPerDay\") > 3, True).otherwise(False)\n",
        ")"
      ],
      "metadata": {
        "id": "nv0qMjyMtsTV"
      },
      "execution_count": 42,
      "outputs": []
    },
    {
      "cell_type": "code",
      "source": [
        "df_flagged.write.mode(\"overwrite\").parquet(\"/content/drive/MyDrive/enriched_traffic_logs_parquet\")"
      ],
      "metadata": {
        "id": "a5Nac1uoutcH"
      },
      "execution_count": 43,
      "outputs": []
    },
    {
      "cell_type": "code",
      "source": [
        "df_flagged.write.option(\"header\", True).mode(\"overwrite\").csv(\"/content/drive/MyDrive/enriched_traffic_logs_csv\")"
      ],
      "metadata": {
        "id": "5ZSC-LM9vlx7"
      },
      "execution_count": 44,
      "outputs": []
    },
    {
      "cell_type": "code",
      "source": [
        "df_flagged.createOrReplaceTempView(\"enriched_traffic_view\")\n",
        "\n",
        "spark.sql(\"\"\"\n",
        "    CREATE OR REPLACE TEMP VIEW toll_summary AS\n",
        "    SELECT VehicleType, ExitPoint, SUM(TollPaid) AS TotalToll\n",
        "    FROM enriched_traffic_view\n",
        "    GROUP BY VehicleType, ExitPoint\n",
        "\"\"\")\n",
        "\n",
        "spark.sql(\"SELECT * FROM toll_summary ORDER BY TotalToll DESC\").show()"
      ],
      "metadata": {
        "colab": {
          "base_uri": "https://localhost:8080/"
        },
        "id": "lyE1w93DwEeI",
        "outputId": "f494b3b6-38c2-4b7a-fe31-2bcb3173448e"
      },
      "execution_count": 45,
      "outputs": [
        {
          "output_type": "stream",
          "name": "stdout",
          "text": [
            "+-----------+---------+---------+\n",
            "|VehicleType|ExitPoint|TotalToll|\n",
            "+-----------+---------+---------+\n",
            "|        Car|     NULL|    100.0|\n",
            "|      Truck|     NULL|    100.0|\n",
            "|        Bus|     NULL|     70.0|\n",
            "|       Bike|     NULL|     30.0|\n",
            "+-----------+---------+---------+\n",
            "\n"
          ]
        }
      ]
    }
  ]
}