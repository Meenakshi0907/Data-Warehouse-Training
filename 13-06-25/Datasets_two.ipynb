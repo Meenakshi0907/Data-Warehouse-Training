{
  "nbformat": 4,
  "nbformat_minor": 0,
  "metadata": {
    "colab": {
      "provenance": []
    },
    "kernelspec": {
      "name": "python3",
      "display_name": "Python 3"
    },
    "language_info": {
      "name": "python"
    }
  },
  "cells": [
    {
      "cell_type": "code",
      "execution_count": 7,
      "metadata": {
        "colab": {
          "base_uri": "https://localhost:8080/",
          "height": 219
        },
        "id": "PlzpPbb7fsiO",
        "outputId": "b6770bec-eeb0-4657-a66f-208c029f32b5"
      },
      "outputs": [
        {
          "output_type": "execute_result",
          "data": {
            "text/plain": [
              "<pyspark.sql.session.SparkSession at 0x7dae0e437790>"
            ],
            "text/html": [
              "\n",
              "            <div>\n",
              "                <p><b>SparkSession - in-memory</b></p>\n",
              "                \n",
              "        <div>\n",
              "            <p><b>SparkContext</b></p>\n",
              "\n",
              "            <p><a href=\"http://d63c9fbd376e:4040\">Spark UI</a></p>\n",
              "\n",
              "            <dl>\n",
              "              <dt>Version</dt>\n",
              "                <dd><code>v3.5.1</code></dd>\n",
              "              <dt>Master</dt>\n",
              "                <dd><code>local[*]</code></dd>\n",
              "              <dt>AppName</dt>\n",
              "                <dd><code>Data sets two</code></dd>\n",
              "            </dl>\n",
              "        </div>\n",
              "        \n",
              "            </div>\n",
              "        "
            ]
          },
          "metadata": {},
          "execution_count": 7
        }
      ],
      "source": [
        "from pyspark.sql import SparkSession\n",
        "\n",
        "spark = SparkSession.builder\\\n",
        ".appName(\"Data sets two\")\\\n",
        ".getOrCreate()\n",
        "\n",
        "spark"
      ]
    },
    {
      "cell_type": "code",
      "source": [
        "from google.colab import drive\n",
        "drive.mount('/content/drive')\n",
        "\n",
        "# Ingest the CSV files into two PySpark DataFrames\n",
        "customer_df = spark.read.csv('/content/drive/MyDrive/customers (1).csv',header= True,inferSchema=True)\n",
        "orders_df = spark.read.csv('/content/drive/MyDrive/orders (1).csv',header= True,inferSchema=True)\n",
        "customer_df.show(5)\n",
        "orders_df.show(5)"
      ],
      "metadata": {
        "colab": {
          "base_uri": "https://localhost:8080/"
        },
        "id": "K_FPabdVgvdC",
        "outputId": "c73b1888-9eb7-46a9-f11e-5eb2d3a11191"
      },
      "execution_count": 8,
      "outputs": [
        {
          "output_type": "stream",
          "name": "stdout",
          "text": [
            "Drive already mounted at /content/drive; to attempt to forcibly remount, call drive.mount(\"/content/drive\", force_remount=True).\n",
            "+----------+-----+---------+---+\n",
            "|CustomerID| Name|     City|Age|\n",
            "+----------+-----+---------+---+\n",
            "|       101|Aditi|   Mumbai| 28|\n",
            "|       102|Rohan|    Delhi| 35|\n",
            "|       103|Meena|Bangalore| 41|\n",
            "|       104|Kabir|Hyderabad| 30|\n",
            "|       105| Zoya|  Chennai| 25|\n",
            "+----------+-----+---------+---+\n",
            "\n",
            "+-------+----------+-------+--------+-----+----------+\n",
            "|OrderID|CustomerID|Product|Quantity|Price| OrderDate|\n",
            "+-------+----------+-------+--------+-----+----------+\n",
            "|   1001|       101| Laptop|       1|70000|2024-01-05|\n",
            "|   1002|       102| Mobile|       2|25000|2024-02-10|\n",
            "|   1003|       103|   Desk|       1|10000|2024-03-15|\n",
            "|   1004|       101|  Mouse|       3| 1000|2024-04-01|\n",
            "|   1005|       104|Monitor|       1|12000|2024-04-25|\n",
            "+-------+----------+-------+--------+-----+----------+\n",
            "\n"
          ]
        }
      ]
    },
    {
      "cell_type": "code",
      "source": [
        "# 2. Infer schema and print the schema for both\n",
        "\n",
        "customer_df.printSchema()\n",
        "orders_df.printSchema()"
      ],
      "metadata": {
        "colab": {
          "base_uri": "https://localhost:8080/"
        },
        "id": "SJtuGLEohc_X",
        "outputId": "2e86f007-06cd-4640-bbe2-9dee310233f7"
      },
      "execution_count": 9,
      "outputs": [
        {
          "output_type": "stream",
          "name": "stdout",
          "text": [
            "root\n",
            " |-- CustomerID: integer (nullable = true)\n",
            " |-- Name: string (nullable = true)\n",
            " |-- City: string (nullable = true)\n",
            " |-- Age: integer (nullable = true)\n",
            "\n",
            "root\n",
            " |-- OrderID: integer (nullable = true)\n",
            " |-- CustomerID: integer (nullable = true)\n",
            " |-- Product: string (nullable = true)\n",
            " |-- Quantity: integer (nullable = true)\n",
            " |-- Price: integer (nullable = true)\n",
            " |-- OrderDate: date (nullable = true)\n",
            "\n"
          ]
        }
      ]
    },
    {
      "cell_type": "code",
      "source": [
        "# 3. Add a column TotalAmount = Quantity * Price to orders\n",
        "\n",
        "orders_df = orders_df.withColumn(\"TotalAmount\",orders_df[\"Quantity\"] * orders_df[\"Price\"])\n",
        "orders_df.show()"
      ],
      "metadata": {
        "colab": {
          "base_uri": "https://localhost:8080/"
        },
        "id": "YRAIhu-diyls",
        "outputId": "3c28d9a6-2968-4f6b-c335-6f20561d994c"
      },
      "execution_count": 10,
      "outputs": [
        {
          "output_type": "stream",
          "name": "stdout",
          "text": [
            "+-------+----------+-------+--------+-----+----------+-----------+\n",
            "|OrderID|CustomerID|Product|Quantity|Price| OrderDate|TotalAmount|\n",
            "+-------+----------+-------+--------+-----+----------+-----------+\n",
            "|   1001|       101| Laptop|       1|70000|2024-01-05|      70000|\n",
            "|   1002|       102| Mobile|       2|25000|2024-02-10|      50000|\n",
            "|   1003|       103|   Desk|       1|10000|2024-03-15|      10000|\n",
            "|   1004|       101|  Mouse|       3| 1000|2024-04-01|       3000|\n",
            "|   1005|       104|Monitor|       1|12000|2024-04-25|      12000|\n",
            "+-------+----------+-------+--------+-----+----------+-----------+\n",
            "\n"
          ]
        }
      ]
    },
    {
      "cell_type": "code",
      "source": [
        "# 4. Join both DataFrames on CustomerID\n",
        "\n",
        "joined_df = orders_df.join(customer_df,on = \"CustomerId\")\n",
        "joined_df.show()"
      ],
      "metadata": {
        "colab": {
          "base_uri": "https://localhost:8080/"
        },
        "id": "QDUne6XXjTgS",
        "outputId": "8e1f4819-0ef2-4057-ab17-cf4b81cee78a"
      },
      "execution_count": 12,
      "outputs": [
        {
          "output_type": "stream",
          "name": "stdout",
          "text": [
            "+----------+-------+-------+--------+-----+----------+-----------+-----+---------+---+\n",
            "|CustomerID|OrderID|Product|Quantity|Price| OrderDate|TotalAmount| Name|     City|Age|\n",
            "+----------+-------+-------+--------+-----+----------+-----------+-----+---------+---+\n",
            "|       101|   1001| Laptop|       1|70000|2024-01-05|      70000|Aditi|   Mumbai| 28|\n",
            "|       102|   1002| Mobile|       2|25000|2024-02-10|      50000|Rohan|    Delhi| 35|\n",
            "|       103|   1003|   Desk|       1|10000|2024-03-15|      10000|Meena|Bangalore| 41|\n",
            "|       101|   1004|  Mouse|       3| 1000|2024-04-01|       3000|Aditi|   Mumbai| 28|\n",
            "|       104|   1005|Monitor|       1|12000|2024-04-25|      12000|Kabir|Hyderabad| 30|\n",
            "+----------+-------+-------+--------+-----+----------+-----------+-----+---------+---+\n",
            "\n"
          ]
        }
      ]
    },
    {
      "cell_type": "code",
      "source": [
        "# 5. Filter orders where TotalAmount > 20000\n",
        "\n",
        "orders_df.filter(orders_df['TotalAmount'] > 20000).show()"
      ],
      "metadata": {
        "colab": {
          "base_uri": "https://localhost:8080/"
        },
        "id": "4LD90BKGjl9w",
        "outputId": "8a1b8580-a71b-4a21-cb91-a81a36809b63"
      },
      "execution_count": 13,
      "outputs": [
        {
          "output_type": "stream",
          "name": "stdout",
          "text": [
            "+-------+----------+-------+--------+-----+----------+-----------+\n",
            "|OrderID|CustomerID|Product|Quantity|Price| OrderDate|TotalAmount|\n",
            "+-------+----------+-------+--------+-----+----------+-----------+\n",
            "|   1001|       101| Laptop|       1|70000|2024-01-05|      70000|\n",
            "|   1002|       102| Mobile|       2|25000|2024-02-10|      50000|\n",
            "+-------+----------+-------+--------+-----+----------+-----------+\n",
            "\n"
          ]
        }
      ]
    },
    {
      "cell_type": "code",
      "source": [
        "from ast import alias\n",
        "# 6. Show customers who placed more than 1 order\n",
        "from pyspark.sql.functions import count,col\n",
        "\n",
        "order_amt = joined_df.groupBy(\"CustomerID\").agg(count(\"*\").alias(\"Count\"))\n",
        "order_amt.filter(col(\"Count\") > 1).show()"
      ],
      "metadata": {
        "colab": {
          "base_uri": "https://localhost:8080/"
        },
        "id": "nWHBGmccj1_K",
        "outputId": "8251e6ab-1bb6-4fc8-ac5f-c6a35bcb7873"
      },
      "execution_count": 14,
      "outputs": [
        {
          "output_type": "stream",
          "name": "stdout",
          "text": [
            "+----------+-----+\n",
            "|CustomerID|Count|\n",
            "+----------+-----+\n",
            "|       101|    2|\n",
            "+----------+-----+\n",
            "\n"
          ]
        }
      ]
    },
    {
      "cell_type": "code",
      "source": [
        "# 7. Group orders by City and get average order value\n",
        "from pyspark.sql.functions import avg,col\n",
        "\n",
        "joined_df.groupBy('City').agg(avg(col('TotalAmount')).alias(\"Average\")).show()"
      ],
      "metadata": {
        "colab": {
          "base_uri": "https://localhost:8080/"
        },
        "id": "BR_pAHf-k1qF",
        "outputId": "4a871eb4-b18a-428d-b7f3-173e5c998ef5"
      },
      "execution_count": 15,
      "outputs": [
        {
          "output_type": "stream",
          "name": "stdout",
          "text": [
            "+---------+-------+\n",
            "|     City|Average|\n",
            "+---------+-------+\n",
            "|Bangalore|10000.0|\n",
            "|   Mumbai|36500.0|\n",
            "|    Delhi|50000.0|\n",
            "|Hyderabad|12000.0|\n",
            "+---------+-------+\n",
            "\n"
          ]
        }
      ]
    },
    {
      "cell_type": "code",
      "source": [
        "# 8. Sort orders by OrderDate in descending order\n",
        "\n",
        "orders_df = orders_df.orderBy(orders_df[\"OrderDate\"].desc())\n",
        "orders_df.show()"
      ],
      "metadata": {
        "colab": {
          "base_uri": "https://localhost:8080/"
        },
        "id": "gQWO4bPXlb_H",
        "outputId": "d660b115-f5ee-4993-9bdf-ae1e74f66583"
      },
      "execution_count": 16,
      "outputs": [
        {
          "output_type": "stream",
          "name": "stdout",
          "text": [
            "+-------+----------+-------+--------+-----+----------+-----------+\n",
            "|OrderID|CustomerID|Product|Quantity|Price| OrderDate|TotalAmount|\n",
            "+-------+----------+-------+--------+-----+----------+-----------+\n",
            "|   1005|       104|Monitor|       1|12000|2024-04-25|      12000|\n",
            "|   1004|       101|  Mouse|       3| 1000|2024-04-01|       3000|\n",
            "|   1003|       103|   Desk|       1|10000|2024-03-15|      10000|\n",
            "|   1002|       102| Mobile|       2|25000|2024-02-10|      50000|\n",
            "|   1001|       101| Laptop|       1|70000|2024-01-05|      70000|\n",
            "+-------+----------+-------+--------+-----+----------+-----------+\n",
            "\n"
          ]
        }
      ]
    },
    {
      "cell_type": "code",
      "source": [
        "# 9. Write the final result as a Parquet file partitioned by City\n",
        "\n",
        "orders_df.write.mode(\"overwrite\").parquet(\"/content/drive/MyDrive/order_df_parquet\")"
      ],
      "metadata": {
        "id": "3pxn4paUl3-Y"
      },
      "execution_count": 18,
      "outputs": []
    },
    {
      "cell_type": "code",
      "source": [
        "# 10. Create a temporary view and run Spark SQL:\n",
        "joined_df.createOrReplaceTempView(\"ord_cus_views\")\n",
        "\n",
        "# Total sales by customer\n",
        "spark.sql(\"\"\"select name, sum(totalamount) as totalsales from ord_cus_views group by name\"\"\").show()\n",
        "\n",
        "# Count of products per city\n",
        "spark.sql(\"\"\"select city, count(product) as productpercity from ord_cus_views group by city\"\"\").show()\n",
        "\n",
        "# Top 2 cities by revenue\n",
        "spark.sql(\"\"\"select city, sum(totalamount) as revenue from ord_cus_views group by city order by revenue desc limit 2\"\"\").show()"
      ],
      "metadata": {
        "colab": {
          "base_uri": "https://localhost:8080/"
        },
        "id": "Awi2h1qcmeeR",
        "outputId": "395da734-a00e-4def-d902-b8633c85214d"
      },
      "execution_count": 19,
      "outputs": [
        {
          "output_type": "stream",
          "name": "stdout",
          "text": [
            "+-----+----------+\n",
            "| name|totalsales|\n",
            "+-----+----------+\n",
            "|Kabir|     12000|\n",
            "|Rohan|     50000|\n",
            "|Aditi|     73000|\n",
            "|Meena|     10000|\n",
            "+-----+----------+\n",
            "\n",
            "+---------+--------------+\n",
            "|     city|productpercity|\n",
            "+---------+--------------+\n",
            "|Bangalore|             1|\n",
            "|   Mumbai|             2|\n",
            "|    Delhi|             1|\n",
            "|Hyderabad|             1|\n",
            "+---------+--------------+\n",
            "\n",
            "+------+-------+\n",
            "|  city|revenue|\n",
            "+------+-------+\n",
            "|Mumbai|  73000|\n",
            "| Delhi|  50000|\n",
            "+------+-------+\n",
            "\n"
          ]
        }
      ]
    }
  ]
}