{
  "nbformat": 4,
  "nbformat_minor": 0,
  "metadata": {
    "colab": {
      "provenance": []
    },
    "kernelspec": {
      "name": "python3",
      "display_name": "Python 3"
    },
    "language_info": {
      "name": "python"
    }
  },
  "cells": [
    {
      "cell_type": "code",
      "execution_count": 24,
      "metadata": {
        "colab": {
          "base_uri": "https://localhost:8080/",
          "height": 219
        },
        "id": "31mxpfC0NPUt",
        "outputId": "3f8e61bd-786d-4538-f386-0ad675ec973c"
      },
      "outputs": [
        {
          "output_type": "execute_result",
          "data": {
            "text/plain": [
              "<pyspark.sql.session.SparkSession at 0x7a821c1635d0>"
            ],
            "text/html": [
              "\n",
              "            <div>\n",
              "                <p><b>SparkSession - in-memory</b></p>\n",
              "                \n",
              "        <div>\n",
              "            <p><b>SparkContext</b></p>\n",
              "\n",
              "            <p><a href=\"http://0b94820b03ab:4040\">Spark UI</a></p>\n",
              "\n",
              "            <dl>\n",
              "              <dt>Version</dt>\n",
              "                <dd><code>v3.5.1</code></dd>\n",
              "              <dt>Master</dt>\n",
              "                <dd><code>local[*]</code></dd>\n",
              "              <dt>AppName</dt>\n",
              "                <dd><code>Assignment 2</code></dd>\n",
              "            </dl>\n",
              "        </div>\n",
              "        \n",
              "            </div>\n",
              "        "
            ]
          },
          "metadata": {},
          "execution_count": 24
        }
      ],
      "source": [
        "from pyspark.sql import SparkSession\n",
        "\n",
        "spark = SparkSession.builder\\\n",
        ".appName(\"Assignment 2\")\\\n",
        ".getOrCreate()\n",
        "\n",
        "spark"
      ]
    },
    {
      "cell_type": "markdown",
      "source": [
        "**Task Set – PySpark Hands-On (No DLT)**"
      ],
      "metadata": {
        "id": "NyPM7fLENs3X"
      }
    },
    {
      "cell_type": "markdown",
      "source": [
        "**Basics**"
      ],
      "metadata": {
        "id": "ECVZqPVmOKIj"
      }
    },
    {
      "cell_type": "code",
      "source": [
        "# 1. Load retail_data.csv into a PySpark DataFrame and display schema.\n",
        "from google.colab import drive\n",
        "drive.mount('/content/drive')\n",
        "\n",
        "retail_df = spark.read.csv('/content/drive/MyDrive/retail_data.csv',header= True,inferSchema=False)\n",
        "retail_df.show()"
      ],
      "metadata": {
        "colab": {
          "base_uri": "https://localhost:8080/"
        },
        "id": "tuzJAiuyONRX",
        "outputId": "a9525f0b-8468-486e-d37d-cec2f2f6c7aa"
      },
      "execution_count": 25,
      "outputs": [
        {
          "output_type": "stream",
          "name": "stdout",
          "text": [
            "Drive already mounted at /content/drive; to attempt to forcibly remount, call drive.mount(\"/content/drive\", force_remount=True).\n",
            "+-------------+--------+---------+-------+-----------+--------+---------+----------+---------------+-----------+\n",
            "|TransactionID|Customer|     City|Product|   Category|Quantity|UnitPrice|TotalPrice|TransactionDate|PaymentMode|\n",
            "+-------------+--------+---------+-------+-----------+--------+---------+----------+---------------+-----------+\n",
            "|        T1001|     Ali|   Mumbai| Laptop|Electronics|       1|    70000|     70000|     2024-01-15|       Card|\n",
            "|        T1002|    Neha|Bangalore| Tablet|Electronics|       2|    30000|     60000|     2024-01-20|        UPI|\n",
            "|        T1003|    Ravi|Hyderabad|   Desk|  Furniture|       1|    15000|     15000|     2024-02-10|Net Banking|\n",
            "|        T1004|    Zoya|    Delhi|  Chair|  Furniture|       4|     5000|     20000|     2024-02-12|       Card|\n",
            "|        T1005|   Karan|   Mumbai|  Phone|Electronics|       1|    50000|     50000|     2024-02-15|       Card|\n",
            "|        T1006|   Farah|    Delhi|  Mouse|Electronics|       3|     1000|      3000|     2024-02-18|       Cash|\n",
            "+-------------+--------+---------+-------+-----------+--------+---------+----------+---------------+-----------+\n",
            "\n"
          ]
        }
      ]
    },
    {
      "cell_type": "code",
      "source": [
        "# 2. Infer schema as False — then manually cast columns.\n",
        "from pyspark.sql.functions import col,to_date\n",
        "\n",
        "retail_df = retail_df.select(\n",
        "    col('TransactionID'),\n",
        "    col('Customer'),\n",
        "    col('City'),\n",
        "    col('Product'),\n",
        "    col('Category'),\n",
        "    col('Quantity').cast('int'),\n",
        "    col('UnitPrice').cast('double'),\n",
        "    col('TotalPrice').cast('double'),\n",
        "    to_date(col(\"TransactionDate\"), \"yyyy-MM-dd\").alias(\"TransactionDate\"),\n",
        "    col(\"PaymentMode\")\n",
        ")\n",
        "\n",
        "retail_df.printSchema()"
      ],
      "metadata": {
        "colab": {
          "base_uri": "https://localhost:8080/"
        },
        "id": "HQelpsyzQIdC",
        "outputId": "3bb4a8e7-c5fd-42a4-ca71-8c98af249e3d"
      },
      "execution_count": 26,
      "outputs": [
        {
          "output_type": "stream",
          "name": "stdout",
          "text": [
            "root\n",
            " |-- TransactionID: string (nullable = true)\n",
            " |-- Customer: string (nullable = true)\n",
            " |-- City: string (nullable = true)\n",
            " |-- Product: string (nullable = true)\n",
            " |-- Category: string (nullable = true)\n",
            " |-- Quantity: integer (nullable = true)\n",
            " |-- UnitPrice: double (nullable = true)\n",
            " |-- TotalPrice: double (nullable = true)\n",
            " |-- TransactionDate: date (nullable = true)\n",
            " |-- PaymentMode: string (nullable = true)\n",
            "\n"
          ]
        }
      ]
    },
    {
      "cell_type": "markdown",
      "source": [
        "**Data Exploration & Filtering**"
      ],
      "metadata": {
        "id": "-iykL2zhWEXb"
      }
    },
    {
      "cell_type": "code",
      "source": [
        "# 3. Filter transactions where TotalPrice > 40000 .\n",
        "\n",
        "retail_df.filter(retail_df[\"TotalPrice\"] > 40000).show()"
      ],
      "metadata": {
        "colab": {
          "base_uri": "https://localhost:8080/"
        },
        "id": "Dqm06c9tWAjG",
        "outputId": "b9921b31-f73b-4561-dede-c32fdd65255d"
      },
      "execution_count": 27,
      "outputs": [
        {
          "output_type": "stream",
          "name": "stdout",
          "text": [
            "+-------------+--------+---------+-------+-----------+--------+---------+----------+---------------+-----------+\n",
            "|TransactionID|Customer|     City|Product|   Category|Quantity|UnitPrice|TotalPrice|TransactionDate|PaymentMode|\n",
            "+-------------+--------+---------+-------+-----------+--------+---------+----------+---------------+-----------+\n",
            "|        T1001|     Ali|   Mumbai| Laptop|Electronics|       1|  70000.0|   70000.0|     2024-01-15|       Card|\n",
            "|        T1002|    Neha|Bangalore| Tablet|Electronics|       2|  30000.0|   60000.0|     2024-01-20|        UPI|\n",
            "|        T1005|   Karan|   Mumbai|  Phone|Electronics|       1|  50000.0|   50000.0|     2024-02-15|       Card|\n",
            "+-------------+--------+---------+-------+-----------+--------+---------+----------+---------------+-----------+\n",
            "\n"
          ]
        }
      ]
    },
    {
      "cell_type": "code",
      "source": [
        "# 4. Get unique cities from the dataset.\n",
        "\n",
        "retail_df.select(\"City\").distinct().show()"
      ],
      "metadata": {
        "colab": {
          "base_uri": "https://localhost:8080/"
        },
        "id": "zKprNmGfWRCZ",
        "outputId": "b3184328-e0af-42a2-a3b6-f9cca0828c3a"
      },
      "execution_count": 28,
      "outputs": [
        {
          "output_type": "stream",
          "name": "stdout",
          "text": [
            "+---------+\n",
            "|     City|\n",
            "+---------+\n",
            "|Bangalore|\n",
            "|   Mumbai|\n",
            "|    Delhi|\n",
            "|Hyderabad|\n",
            "+---------+\n",
            "\n"
          ]
        }
      ]
    },
    {
      "cell_type": "code",
      "source": [
        "# 5. Find all transactions from \"Delhi\" using .filter() and .where() .\n",
        "\n",
        "retail_df.filter(retail_df[\"City\"] == \"Delhi\").show()\n",
        "\n",
        "retail_df.where(retail_df[\"City\"] == \"Delhi\").show()"
      ],
      "metadata": {
        "colab": {
          "base_uri": "https://localhost:8080/"
        },
        "id": "9y5I2O2yWTV3",
        "outputId": "4fb22fef-9baa-496d-8cea-cb845670a836"
      },
      "execution_count": 29,
      "outputs": [
        {
          "output_type": "stream",
          "name": "stdout",
          "text": [
            "+-------------+--------+-----+-------+-----------+--------+---------+----------+---------------+-----------+\n",
            "|TransactionID|Customer| City|Product|   Category|Quantity|UnitPrice|TotalPrice|TransactionDate|PaymentMode|\n",
            "+-------------+--------+-----+-------+-----------+--------+---------+----------+---------------+-----------+\n",
            "|        T1004|    Zoya|Delhi|  Chair|  Furniture|       4|   5000.0|   20000.0|     2024-02-12|       Card|\n",
            "|        T1006|   Farah|Delhi|  Mouse|Electronics|       3|   1000.0|    3000.0|     2024-02-18|       Cash|\n",
            "+-------------+--------+-----+-------+-----------+--------+---------+----------+---------------+-----------+\n",
            "\n",
            "+-------------+--------+-----+-------+-----------+--------+---------+----------+---------------+-----------+\n",
            "|TransactionID|Customer| City|Product|   Category|Quantity|UnitPrice|TotalPrice|TransactionDate|PaymentMode|\n",
            "+-------------+--------+-----+-------+-----------+--------+---------+----------+---------------+-----------+\n",
            "|        T1004|    Zoya|Delhi|  Chair|  Furniture|       4|   5000.0|   20000.0|     2024-02-12|       Card|\n",
            "|        T1006|   Farah|Delhi|  Mouse|Electronics|       3|   1000.0|    3000.0|     2024-02-18|       Cash|\n",
            "+-------------+--------+-----+-------+-----------+--------+---------+----------+---------------+-----------+\n",
            "\n"
          ]
        }
      ]
    },
    {
      "cell_type": "markdown",
      "source": [
        "**Data Manipulation**"
      ],
      "metadata": {
        "id": "JqGqPXNTXutt"
      }
    },
    {
      "cell_type": "code",
      "source": [
        "# 6. Add a column DiscountedPrice = TotalPrice - 10%.\n",
        "\n",
        "retail_df = retail_df.withColumn(\"DiscountPrice\",retail_df[\"TotalPrice\"] - 0.1)\n",
        "retail_df.show()"
      ],
      "metadata": {
        "colab": {
          "base_uri": "https://localhost:8080/"
        },
        "id": "VlVFxOjlXqis",
        "outputId": "ec00a145-4449-4e92-ba45-0c7eea35f12b"
      },
      "execution_count": 30,
      "outputs": [
        {
          "output_type": "stream",
          "name": "stdout",
          "text": [
            "+-------------+--------+---------+-------+-----------+--------+---------+----------+---------------+-----------+-------------+\n",
            "|TransactionID|Customer|     City|Product|   Category|Quantity|UnitPrice|TotalPrice|TransactionDate|PaymentMode|DiscountPrice|\n",
            "+-------------+--------+---------+-------+-----------+--------+---------+----------+---------------+-----------+-------------+\n",
            "|        T1001|     Ali|   Mumbai| Laptop|Electronics|       1|  70000.0|   70000.0|     2024-01-15|       Card|      69999.9|\n",
            "|        T1002|    Neha|Bangalore| Tablet|Electronics|       2|  30000.0|   60000.0|     2024-01-20|        UPI|      59999.9|\n",
            "|        T1003|    Ravi|Hyderabad|   Desk|  Furniture|       1|  15000.0|   15000.0|     2024-02-10|Net Banking|      14999.9|\n",
            "|        T1004|    Zoya|    Delhi|  Chair|  Furniture|       4|   5000.0|   20000.0|     2024-02-12|       Card|      19999.9|\n",
            "|        T1005|   Karan|   Mumbai|  Phone|Electronics|       1|  50000.0|   50000.0|     2024-02-15|       Card|      49999.9|\n",
            "|        T1006|   Farah|    Delhi|  Mouse|Electronics|       3|   1000.0|    3000.0|     2024-02-18|       Cash|       2999.9|\n",
            "+-------------+--------+---------+-------+-----------+--------+---------+----------+---------------+-----------+-------------+\n",
            "\n"
          ]
        }
      ]
    },
    {
      "cell_type": "code",
      "source": [
        "# 7. Rename TransactionDate to TxnDate .\n",
        "\n",
        "retail_df = retail_df.withColumnRenamed(\"TransactionDate\",\"TxnDate\")\n",
        "retail_df.show()"
      ],
      "metadata": {
        "colab": {
          "base_uri": "https://localhost:8080/"
        },
        "id": "BakcBOi6X7cK",
        "outputId": "474a6556-e1fd-47ab-e55a-0e7f346e45e3"
      },
      "execution_count": 31,
      "outputs": [
        {
          "output_type": "stream",
          "name": "stdout",
          "text": [
            "+-------------+--------+---------+-------+-----------+--------+---------+----------+----------+-----------+-------------+\n",
            "|TransactionID|Customer|     City|Product|   Category|Quantity|UnitPrice|TotalPrice|   TxnDate|PaymentMode|DiscountPrice|\n",
            "+-------------+--------+---------+-------+-----------+--------+---------+----------+----------+-----------+-------------+\n",
            "|        T1001|     Ali|   Mumbai| Laptop|Electronics|       1|  70000.0|   70000.0|2024-01-15|       Card|      69999.9|\n",
            "|        T1002|    Neha|Bangalore| Tablet|Electronics|       2|  30000.0|   60000.0|2024-01-20|        UPI|      59999.9|\n",
            "|        T1003|    Ravi|Hyderabad|   Desk|  Furniture|       1|  15000.0|   15000.0|2024-02-10|Net Banking|      14999.9|\n",
            "|        T1004|    Zoya|    Delhi|  Chair|  Furniture|       4|   5000.0|   20000.0|2024-02-12|       Card|      19999.9|\n",
            "|        T1005|   Karan|   Mumbai|  Phone|Electronics|       1|  50000.0|   50000.0|2024-02-15|       Card|      49999.9|\n",
            "|        T1006|   Farah|    Delhi|  Mouse|Electronics|       3|   1000.0|    3000.0|2024-02-18|       Cash|       2999.9|\n",
            "+-------------+--------+---------+-------+-----------+--------+---------+----------+----------+-----------+-------------+\n",
            "\n"
          ]
        }
      ]
    },
    {
      "cell_type": "code",
      "source": [
        "# 8. Drop the column UnitPrice .\n",
        "\n",
        "retail_df_drop = retail_df.drop(\"UnitPrice\")\n",
        "retail_df_drop.show()"
      ],
      "metadata": {
        "colab": {
          "base_uri": "https://localhost:8080/"
        },
        "id": "Q7vGResUX-C8",
        "outputId": "1d90df4f-4918-4c37-b1cb-31edd388d71e"
      },
      "execution_count": 32,
      "outputs": [
        {
          "output_type": "stream",
          "name": "stdout",
          "text": [
            "+-------------+--------+---------+-------+-----------+--------+----------+----------+-----------+-------------+\n",
            "|TransactionID|Customer|     City|Product|   Category|Quantity|TotalPrice|   TxnDate|PaymentMode|DiscountPrice|\n",
            "+-------------+--------+---------+-------+-----------+--------+----------+----------+-----------+-------------+\n",
            "|        T1001|     Ali|   Mumbai| Laptop|Electronics|       1|   70000.0|2024-01-15|       Card|      69999.9|\n",
            "|        T1002|    Neha|Bangalore| Tablet|Electronics|       2|   60000.0|2024-01-20|        UPI|      59999.9|\n",
            "|        T1003|    Ravi|Hyderabad|   Desk|  Furniture|       1|   15000.0|2024-02-10|Net Banking|      14999.9|\n",
            "|        T1004|    Zoya|    Delhi|  Chair|  Furniture|       4|   20000.0|2024-02-12|       Card|      19999.9|\n",
            "|        T1005|   Karan|   Mumbai|  Phone|Electronics|       1|   50000.0|2024-02-15|       Card|      49999.9|\n",
            "|        T1006|   Farah|    Delhi|  Mouse|Electronics|       3|    3000.0|2024-02-18|       Cash|       2999.9|\n",
            "+-------------+--------+---------+-------+-----------+--------+----------+----------+-----------+-------------+\n",
            "\n"
          ]
        }
      ]
    },
    {
      "cell_type": "markdown",
      "source": [
        "**Aggregations**"
      ],
      "metadata": {
        "id": "ShO1OFXiZPT9"
      }
    },
    {
      "cell_type": "code",
      "source": [
        "# 9. Get total sales by city.\n",
        "from pyspark.sql.functions import sum\n",
        "\n",
        "retail_df.groupBy(\"City\").agg(sum(\"TotalPrice\")).show()"
      ],
      "metadata": {
        "colab": {
          "base_uri": "https://localhost:8080/"
        },
        "id": "RH7FiHTJZIRJ",
        "outputId": "785429c1-3452-4c4f-8e83-462e2636d65b"
      },
      "execution_count": 33,
      "outputs": [
        {
          "output_type": "stream",
          "name": "stdout",
          "text": [
            "+---------+---------------+\n",
            "|     City|sum(TotalPrice)|\n",
            "+---------+---------------+\n",
            "|Bangalore|        60000.0|\n",
            "|   Mumbai|       120000.0|\n",
            "|    Delhi|        23000.0|\n",
            "|Hyderabad|        15000.0|\n",
            "+---------+---------------+\n",
            "\n"
          ]
        }
      ]
    },
    {
      "cell_type": "code",
      "source": [
        "# 10. Get average unit price by category.\n",
        "from pyspark.sql.functions import avg\n",
        "\n",
        "retail_df.groupBy(\"Category\").agg(avg(\"UnitPrice\")).show()"
      ],
      "metadata": {
        "colab": {
          "base_uri": "https://localhost:8080/"
        },
        "id": "A1_6AyyjZWAm",
        "outputId": "b8390e3e-f763-47e5-d764-918c40abe146"
      },
      "execution_count": 34,
      "outputs": [
        {
          "output_type": "stream",
          "name": "stdout",
          "text": [
            "+-----------+--------------+\n",
            "|   Category|avg(UnitPrice)|\n",
            "+-----------+--------------+\n",
            "|Electronics|       37750.0|\n",
            "|  Furniture|       10000.0|\n",
            "+-----------+--------------+\n",
            "\n"
          ]
        }
      ]
    },
    {
      "cell_type": "code",
      "source": [
        "# 11. Count of transactions grouped by PaymentMode.\n",
        "from pyspark.sql.functions import count\n",
        "\n",
        "retail_df.groupBy(\"PaymentMode\").agg(count(\"TransactionID\")).show()"
      ],
      "metadata": {
        "id": "oudVIy8gZYPD",
        "colab": {
          "base_uri": "https://localhost:8080/"
        },
        "outputId": "5e3aac94-049b-4319-d299-269993e1dba7"
      },
      "execution_count": 38,
      "outputs": [
        {
          "output_type": "stream",
          "name": "stdout",
          "text": [
            "+-----------+--------------------+\n",
            "|PaymentMode|count(TransactionID)|\n",
            "+-----------+--------------------+\n",
            "|Net Banking|                   1|\n",
            "|       Card|                   3|\n",
            "|       Cash|                   1|\n",
            "|        UPI|                   1|\n",
            "+-----------+--------------------+\n",
            "\n"
          ]
        }
      ]
    },
    {
      "cell_type": "markdown",
      "source": [
        "**Window Functions**"
      ],
      "metadata": {
        "id": "ocAFZlI-cmA3"
      }
    },
    {
      "cell_type": "code",
      "source": [
        "# 12. Use a window partitioned by City to rank transactions by TotalPrice .\n",
        "from pyspark.sql.window import Window\n",
        "from pyspark.sql.functions import rank\n",
        "\n",
        "city_window = Window.partitionBy(\"City\").orderBy(col(\"TotalPrice\").desc())\n",
        "\n",
        "df_ranked = retail_df.withColumn(\"CityTotalRank\", rank().over(city_window))\n",
        "df_ranked.show()"
      ],
      "metadata": {
        "colab": {
          "base_uri": "https://localhost:8080/"
        },
        "id": "ASi4QnP6cqvB",
        "outputId": "ef0290b4-9f21-4457-fb8b-c8ccb940fc50"
      },
      "execution_count": 39,
      "outputs": [
        {
          "output_type": "stream",
          "name": "stdout",
          "text": [
            "+-------------+--------+---------+-------+-----------+--------+---------+----------+----------+-----------+-------------+-------------+\n",
            "|TransactionID|Customer|     City|Product|   Category|Quantity|UnitPrice|TotalPrice|   TxnDate|PaymentMode|DiscountPrice|CityTotalRank|\n",
            "+-------------+--------+---------+-------+-----------+--------+---------+----------+----------+-----------+-------------+-------------+\n",
            "|        T1002|    Neha|Bangalore| Tablet|Electronics|       2|  30000.0|   60000.0|2024-01-20|        UPI|      59999.9|            1|\n",
            "|        T1004|    Zoya|    Delhi|  Chair|  Furniture|       4|   5000.0|   20000.0|2024-02-12|       Card|      19999.9|            1|\n",
            "|        T1006|   Farah|    Delhi|  Mouse|Electronics|       3|   1000.0|    3000.0|2024-02-18|       Cash|       2999.9|            2|\n",
            "|        T1003|    Ravi|Hyderabad|   Desk|  Furniture|       1|  15000.0|   15000.0|2024-02-10|Net Banking|      14999.9|            1|\n",
            "|        T1001|     Ali|   Mumbai| Laptop|Electronics|       1|  70000.0|   70000.0|2024-01-15|       Card|      69999.9|            1|\n",
            "|        T1005|   Karan|   Mumbai|  Phone|Electronics|       1|  50000.0|   50000.0|2024-02-15|       Card|      49999.9|            2|\n",
            "+-------------+--------+---------+-------+-----------+--------+---------+----------+----------+-----------+-------------+-------------+\n",
            "\n"
          ]
        }
      ]
    },
    {
      "cell_type": "code",
      "source": [
        "# 13. Use lag function to get previous transaction amount per city.\n",
        "from pyspark.sql.functions import lag\n",
        "\n",
        "df_with_lag = retail_df.withColumn(\"PrevCityTxnTotal\", lag(\"TotalPrice\", 1).over(city_window))\n",
        "df_with_lag.show()"
      ],
      "metadata": {
        "colab": {
          "base_uri": "https://localhost:8080/"
        },
        "id": "E9f2jodHctOw",
        "outputId": "872883ee-5762-4b40-b806-4f924e60df2b"
      },
      "execution_count": 40,
      "outputs": [
        {
          "output_type": "stream",
          "name": "stdout",
          "text": [
            "+-------------+--------+---------+-------+-----------+--------+---------+----------+----------+-----------+-------------+----------------+\n",
            "|TransactionID|Customer|     City|Product|   Category|Quantity|UnitPrice|TotalPrice|   TxnDate|PaymentMode|DiscountPrice|PrevCityTxnTotal|\n",
            "+-------------+--------+---------+-------+-----------+--------+---------+----------+----------+-----------+-------------+----------------+\n",
            "|        T1002|    Neha|Bangalore| Tablet|Electronics|       2|  30000.0|   60000.0|2024-01-20|        UPI|      59999.9|            NULL|\n",
            "|        T1004|    Zoya|    Delhi|  Chair|  Furniture|       4|   5000.0|   20000.0|2024-02-12|       Card|      19999.9|            NULL|\n",
            "|        T1006|   Farah|    Delhi|  Mouse|Electronics|       3|   1000.0|    3000.0|2024-02-18|       Cash|       2999.9|         20000.0|\n",
            "|        T1003|    Ravi|Hyderabad|   Desk|  Furniture|       1|  15000.0|   15000.0|2024-02-10|Net Banking|      14999.9|            NULL|\n",
            "|        T1001|     Ali|   Mumbai| Laptop|Electronics|       1|  70000.0|   70000.0|2024-01-15|       Card|      69999.9|            NULL|\n",
            "|        T1005|   Karan|   Mumbai|  Phone|Electronics|       1|  50000.0|   50000.0|2024-02-15|       Card|      49999.9|         70000.0|\n",
            "+-------------+--------+---------+-------+-----------+--------+---------+----------+----------+-----------+-------------+----------------+\n",
            "\n"
          ]
        }
      ]
    },
    {
      "cell_type": "markdown",
      "source": [
        "**Joins**\n"
      ],
      "metadata": {
        "id": "AqZP2DfLewC5"
      }
    },
    {
      "cell_type": "code",
      "source": [
        "# 14. Create a second DataFrame city_region :\n",
        "# City,Region\n",
        "# Mumbai,West\n",
        "# Delhi,North\n",
        "# Bangalore,South\n",
        "# Hyderabad,South\n",
        "from pyspark.sql import Row\n",
        "\n",
        "region_data = [\n",
        "    Row(City=\"Mumbai\", Region=\"West\"),\n",
        "    Row(City=\"Delhi\", Region=\"North\"),\n",
        "    Row(City=\"Bangalore\", Region=\"South\"),\n",
        "    Row(City=\"Hyderabad\", Region=\"South\")\n",
        "]\n",
        "\n",
        "city_region = spark.createDataFrame(region_data)\n",
        "city_region.show()"
      ],
      "metadata": {
        "colab": {
          "base_uri": "https://localhost:8080/"
        },
        "id": "OvDH4H0tesaF",
        "outputId": "abc17f7d-420d-4e69-982f-ddaae9fac4cd"
      },
      "execution_count": 41,
      "outputs": [
        {
          "output_type": "stream",
          "name": "stdout",
          "text": [
            "+---------+------+\n",
            "|     City|Region|\n",
            "+---------+------+\n",
            "|   Mumbai|  West|\n",
            "|    Delhi| North|\n",
            "|Bangalore| South|\n",
            "|Hyderabad| South|\n",
            "+---------+------+\n",
            "\n"
          ]
        }
      ]
    },
    {
      "cell_type": "code",
      "source": [
        "# 15. Join with main DataFrame and group total sales by Region.\n",
        "\n",
        "joined_df = retail_df.join(city_region, on=\"City\", how=\"inner\")\n",
        "joined_df.show()\n",
        "\n",
        "sales_by_region = joined_df.groupBy(\"Region\").sum(\"TotalPrice\")\n",
        "sales_by_region.show()"
      ],
      "metadata": {
        "colab": {
          "base_uri": "https://localhost:8080/"
        },
        "id": "wE00Tc74fAIr",
        "outputId": "58a5761f-ab72-45eb-9a10-0722c377cf03"
      },
      "execution_count": 42,
      "outputs": [
        {
          "output_type": "stream",
          "name": "stdout",
          "text": [
            "+---------+-------------+--------+-------+-----------+--------+---------+----------+----------+-----------+-------------+------+\n",
            "|     City|TransactionID|Customer|Product|   Category|Quantity|UnitPrice|TotalPrice|   TxnDate|PaymentMode|DiscountPrice|Region|\n",
            "+---------+-------------+--------+-------+-----------+--------+---------+----------+----------+-----------+-------------+------+\n",
            "|   Mumbai|        T1005|   Karan|  Phone|Electronics|       1|  50000.0|   50000.0|2024-02-15|       Card|      49999.9|  West|\n",
            "|   Mumbai|        T1001|     Ali| Laptop|Electronics|       1|  70000.0|   70000.0|2024-01-15|       Card|      69999.9|  West|\n",
            "|    Delhi|        T1006|   Farah|  Mouse|Electronics|       3|   1000.0|    3000.0|2024-02-18|       Cash|       2999.9| North|\n",
            "|    Delhi|        T1004|    Zoya|  Chair|  Furniture|       4|   5000.0|   20000.0|2024-02-12|       Card|      19999.9| North|\n",
            "|Bangalore|        T1002|    Neha| Tablet|Electronics|       2|  30000.0|   60000.0|2024-01-20|        UPI|      59999.9| South|\n",
            "|Hyderabad|        T1003|    Ravi|   Desk|  Furniture|       1|  15000.0|   15000.0|2024-02-10|Net Banking|      14999.9| South|\n",
            "+---------+-------------+--------+-------+-----------+--------+---------+----------+----------+-----------+-------------+------+\n",
            "\n",
            "+------+---------------+\n",
            "|Region|sum(TotalPrice)|\n",
            "+------+---------------+\n",
            "|  West|       120000.0|\n",
            "| North|        23000.0|\n",
            "| South|        75000.0|\n",
            "+------+---------------+\n",
            "\n"
          ]
        }
      ]
    },
    {
      "cell_type": "markdown",
      "source": [
        "**Nulls and Data Cleaning**"
      ],
      "metadata": {
        "id": "Fn-kY5XNhWxL"
      }
    },
    {
      "cell_type": "code",
      "source": [
        "# 16. Introduce some nulls and replace them with default values.\n",
        "from pyspark.sql.functions import when\n",
        "\n",
        "retail_dirty = retail_df.withColumn(\"Customer\",when(col(\"City\") == \"Delhi\", None).otherwise(col(\"Customer\")))\n",
        "retail_cleaned = retail_dirty.fillna({\"Customer\": \"Guest\"})"
      ],
      "metadata": {
        "id": "7pzmIpythItq"
      },
      "execution_count": 43,
      "outputs": []
    },
    {
      "cell_type": "code",
      "source": [
        "# 17. Drop rows where Quantity is null.\n",
        "\n",
        "retail_no_null_qty = retail_cleaned.filter(col(\"Quantity\").isNotNull())\n",
        "retail_no_null_qty = retail_cleaned.filter(col(\"Quantity\").isNotNull())"
      ],
      "metadata": {
        "id": "M7yW13TJhcIj"
      },
      "execution_count": 44,
      "outputs": []
    },
    {
      "cell_type": "code",
      "source": [
        "# 18. Fill null PaymentMode with \"Unknown\".\n",
        "\n",
        "retail_final = retail_no_null_qty.fillna({\"PaymentMode\": \"Unknown\"})"
      ],
      "metadata": {
        "id": "6FRYbRIshezb"
      },
      "execution_count": 46,
      "outputs": []
    },
    {
      "cell_type": "markdown",
      "source": [
        "**Custom Functions**"
      ],
      "metadata": {
        "id": "PBQ5sW6AjPEN"
      }
    },
    {
      "cell_type": "code",
      "source": [
        "# 19. Write a UDF to label orders:\n",
        "# def label_order(amount):\n",
        "# if amount > 50000: return \"High\"\n",
        "# elif amount >= 30000: return \"Medium\"\n",
        "# else: return \"Low\"\n",
        "# Apply this to classify TotalPrice .\n",
        "\n",
        "from pyspark.sql.functions import udf,col\n",
        "from pyspark.sql.types import StringType\n",
        "\n",
        "def label_order(amount):\n",
        "  if amount > 50000:\n",
        "    return \"High\"\n",
        "  elif amount >= 30000:\n",
        "    return \"Medium\"\n",
        "  else:\n",
        "    return \"Low\"\n",
        "\n",
        "label_ord_udf = udf(label_order,StringType())\n",
        "\n",
        "retail_df = retail_df.withColumn(\"OrderLable\",label_ord_udf(col(\"TotalPrice\")))\n",
        "retail_df.show()"
      ],
      "metadata": {
        "colab": {
          "base_uri": "https://localhost:8080/"
        },
        "id": "EzK9ugGmi5iU",
        "outputId": "498f2001-19c8-4f0b-b2bb-555885840dee"
      },
      "execution_count": 47,
      "outputs": [
        {
          "output_type": "stream",
          "name": "stdout",
          "text": [
            "+-------------+--------+---------+-------+-----------+--------+---------+----------+----------+-----------+-------------+----------+\n",
            "|TransactionID|Customer|     City|Product|   Category|Quantity|UnitPrice|TotalPrice|   TxnDate|PaymentMode|DiscountPrice|OrderLable|\n",
            "+-------------+--------+---------+-------+-----------+--------+---------+----------+----------+-----------+-------------+----------+\n",
            "|        T1001|     Ali|   Mumbai| Laptop|Electronics|       1|  70000.0|   70000.0|2024-01-15|       Card|      69999.9|      High|\n",
            "|        T1002|    Neha|Bangalore| Tablet|Electronics|       2|  30000.0|   60000.0|2024-01-20|        UPI|      59999.9|      High|\n",
            "|        T1003|    Ravi|Hyderabad|   Desk|  Furniture|       1|  15000.0|   15000.0|2024-02-10|Net Banking|      14999.9|       Low|\n",
            "|        T1004|    Zoya|    Delhi|  Chair|  Furniture|       4|   5000.0|   20000.0|2024-02-12|       Card|      19999.9|       Low|\n",
            "|        T1005|   Karan|   Mumbai|  Phone|Electronics|       1|  50000.0|   50000.0|2024-02-15|       Card|      49999.9|    Medium|\n",
            "|        T1006|   Farah|    Delhi|  Mouse|Electronics|       3|   1000.0|    3000.0|2024-02-18|       Cash|       2999.9|       Low|\n",
            "+-------------+--------+---------+-------+-----------+--------+---------+----------+----------+-----------+-------------+----------+\n",
            "\n"
          ]
        }
      ]
    },
    {
      "cell_type": "markdown",
      "source": [
        "**Date & Time**"
      ],
      "metadata": {
        "id": "cPa_6-4lkwEr"
      }
    },
    {
      "cell_type": "code",
      "source": [
        "# 20. Extract year, month, and day from TxnDate .\n",
        "from pyspark.sql.functions import year, month, dayofmonth\n",
        "\n",
        "retail_df = retail_df.withColumn(\"Year\", year(col(\"TxnDate\"))) \\\n",
        "                     .withColumn(\"Month\", month(col(\"TxnDate\"))) \\\n",
        "                     .withColumn(\"Day\", dayofmonth(col(\"TxnDate\")))\n",
        "retail_df.show()"
      ],
      "metadata": {
        "colab": {
          "base_uri": "https://localhost:8080/"
        },
        "id": "_RMB5nBGkjpJ",
        "outputId": "f7f0c444-3877-4c17-ef15-fea9b68e918b"
      },
      "execution_count": 48,
      "outputs": [
        {
          "output_type": "stream",
          "name": "stdout",
          "text": [
            "+-------------+--------+---------+-------+-----------+--------+---------+----------+----------+-----------+-------------+----------+----+-----+---+\n",
            "|TransactionID|Customer|     City|Product|   Category|Quantity|UnitPrice|TotalPrice|   TxnDate|PaymentMode|DiscountPrice|OrderLable|Year|Month|Day|\n",
            "+-------------+--------+---------+-------+-----------+--------+---------+----------+----------+-----------+-------------+----------+----+-----+---+\n",
            "|        T1001|     Ali|   Mumbai| Laptop|Electronics|       1|  70000.0|   70000.0|2024-01-15|       Card|      69999.9|      High|2024|    1| 15|\n",
            "|        T1002|    Neha|Bangalore| Tablet|Electronics|       2|  30000.0|   60000.0|2024-01-20|        UPI|      59999.9|      High|2024|    1| 20|\n",
            "|        T1003|    Ravi|Hyderabad|   Desk|  Furniture|       1|  15000.0|   15000.0|2024-02-10|Net Banking|      14999.9|       Low|2024|    2| 10|\n",
            "|        T1004|    Zoya|    Delhi|  Chair|  Furniture|       4|   5000.0|   20000.0|2024-02-12|       Card|      19999.9|       Low|2024|    2| 12|\n",
            "|        T1005|   Karan|   Mumbai|  Phone|Electronics|       1|  50000.0|   50000.0|2024-02-15|       Card|      49999.9|    Medium|2024|    2| 15|\n",
            "|        T1006|   Farah|    Delhi|  Mouse|Electronics|       3|   1000.0|    3000.0|2024-02-18|       Cash|       2999.9|       Low|2024|    2| 18|\n",
            "+-------------+--------+---------+-------+-----------+--------+---------+----------+----------+-----------+-------------+----------+----+-----+---+\n",
            "\n"
          ]
        }
      ]
    },
    {
      "cell_type": "code",
      "source": [
        "# 21. Filter transactions that happened in February.\n",
        "\n",
        "df_february_txns = retail_df.filter(month(col(\"TxnDate\")) == 2)\n",
        "df_february_txns.show()"
      ],
      "metadata": {
        "colab": {
          "base_uri": "https://localhost:8080/"
        },
        "id": "0Oaj_VM0k2pz",
        "outputId": "ec8576bc-32a0-4968-d805-d8fa04f3f237"
      },
      "execution_count": 49,
      "outputs": [
        {
          "output_type": "stream",
          "name": "stdout",
          "text": [
            "+-------------+--------+---------+-------+-----------+--------+---------+----------+----------+-----------+-------------+----------+----+-----+---+\n",
            "|TransactionID|Customer|     City|Product|   Category|Quantity|UnitPrice|TotalPrice|   TxnDate|PaymentMode|DiscountPrice|OrderLable|Year|Month|Day|\n",
            "+-------------+--------+---------+-------+-----------+--------+---------+----------+----------+-----------+-------------+----------+----+-----+---+\n",
            "|        T1003|    Ravi|Hyderabad|   Desk|  Furniture|       1|  15000.0|   15000.0|2024-02-10|Net Banking|      14999.9|       Low|2024|    2| 10|\n",
            "|        T1004|    Zoya|    Delhi|  Chair|  Furniture|       4|   5000.0|   20000.0|2024-02-12|       Card|      19999.9|       Low|2024|    2| 12|\n",
            "|        T1005|   Karan|   Mumbai|  Phone|Electronics|       1|  50000.0|   50000.0|2024-02-15|       Card|      49999.9|    Medium|2024|    2| 15|\n",
            "|        T1006|   Farah|    Delhi|  Mouse|Electronics|       3|   1000.0|    3000.0|2024-02-18|       Cash|       2999.9|       Low|2024|    2| 18|\n",
            "+-------------+--------+---------+-------+-----------+--------+---------+----------+----------+-----------+-------------+----------+----+-----+---+\n",
            "\n"
          ]
        }
      ]
    },
    {
      "cell_type": "markdown",
      "source": [
        "**Union & Duplicate Handling**"
      ],
      "metadata": {
        "id": "sLntl36wlGOn"
      }
    },
    {
      "cell_type": "code",
      "source": [
        "# 22. Duplicate the DataFrame using union() and remove duplicates.\n",
        "df_deduplicated = retail_df.dropDuplicates()\n",
        "df_deduplicated.show()"
      ],
      "metadata": {
        "colab": {
          "base_uri": "https://localhost:8080/"
        },
        "id": "39UKA1iQlAmN",
        "outputId": "e42047fb-e867-43ee-9724-f35ca6cc3834"
      },
      "execution_count": 50,
      "outputs": [
        {
          "output_type": "stream",
          "name": "stdout",
          "text": [
            "+-------------+--------+---------+-------+-----------+--------+---------+----------+----------+-----------+-------------+----------+----+-----+---+\n",
            "|TransactionID|Customer|     City|Product|   Category|Quantity|UnitPrice|TotalPrice|   TxnDate|PaymentMode|DiscountPrice|OrderLable|Year|Month|Day|\n",
            "+-------------+--------+---------+-------+-----------+--------+---------+----------+----------+-----------+-------------+----------+----+-----+---+\n",
            "|        T1003|    Ravi|Hyderabad|   Desk|  Furniture|       1|  15000.0|   15000.0|2024-02-10|Net Banking|      14999.9|       Low|2024|    2| 10|\n",
            "|        T1006|   Farah|    Delhi|  Mouse|Electronics|       3|   1000.0|    3000.0|2024-02-18|       Cash|       2999.9|       Low|2024|    2| 18|\n",
            "|        T1001|     Ali|   Mumbai| Laptop|Electronics|       1|  70000.0|   70000.0|2024-01-15|       Card|      69999.9|      High|2024|    1| 15|\n",
            "|        T1002|    Neha|Bangalore| Tablet|Electronics|       2|  30000.0|   60000.0|2024-01-20|        UPI|      59999.9|      High|2024|    1| 20|\n",
            "|        T1005|   Karan|   Mumbai|  Phone|Electronics|       1|  50000.0|   50000.0|2024-02-15|       Card|      49999.9|    Medium|2024|    2| 15|\n",
            "|        T1004|    Zoya|    Delhi|  Chair|  Furniture|       4|   5000.0|   20000.0|2024-02-12|       Card|      19999.9|       Low|2024|    2| 12|\n",
            "+-------------+--------+---------+-------+-----------+--------+---------+----------+----------+-----------+-------------+----------+----+-----+---+\n",
            "\n"
          ]
        }
      ]
    }
  ]
}