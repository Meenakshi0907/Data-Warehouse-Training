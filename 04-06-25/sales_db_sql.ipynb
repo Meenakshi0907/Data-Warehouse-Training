{
  "nbformat": 4,
  "nbformat_minor": 0,
  "metadata": {
    "colab": {
      "provenance": []
    },
    "kernelspec": {
      "name": "python3",
      "display_name": "Python 3"
    },
    "language_info": {
      "name": "python"
    }
  },
  "cells": [
    {
      "cell_type": "code",
      "execution_count": 2,
      "metadata": {
        "colab": {
          "base_uri": "https://localhost:8080/",
          "height": 219
        },
        "id": "qFf_yrUHcJpw",
        "outputId": "fbf57f02-a044-4574-fec5-89807d24a6ac"
      },
      "outputs": [
        {
          "output_type": "execute_result",
          "data": {
            "text/plain": [
              "<pyspark.sql.session.SparkSession at 0x7b143fb385d0>"
            ],
            "text/html": [
              "\n",
              "            <div>\n",
              "                <p><b>SparkSession - in-memory</b></p>\n",
              "                \n",
              "        <div>\n",
              "            <p><b>SparkContext</b></p>\n",
              "\n",
              "            <p><a href=\"http://7b45ff63baef:4040\">Spark UI</a></p>\n",
              "\n",
              "            <dl>\n",
              "              <dt>Version</dt>\n",
              "                <dd><code>v3.5.1</code></dd>\n",
              "              <dt>Master</dt>\n",
              "                <dd><code>local[*]</code></dd>\n",
              "              <dt>AppName</dt>\n",
              "                <dd><code>sales_db_sql</code></dd>\n",
              "            </dl>\n",
              "        </div>\n",
              "        \n",
              "            </div>\n",
              "        "
            ]
          },
          "metadata": {},
          "execution_count": 2
        }
      ],
      "source": [
        "from pyspark.sql import SparkSession\n",
        "\n",
        "spark = SparkSession.builder\\\n",
        ".appName(\"sales_db_sql\")\\\n",
        ".getOrCreate()\n",
        "\n",
        "spark"
      ]
    },
    {
      "cell_type": "code",
      "source": [
        "# Database & Table Tasks\n",
        "# 1. Create a new database named sales_db .\n",
        "spark.sql(\"create database sales_db\")"
      ],
      "metadata": {
        "colab": {
          "base_uri": "https://localhost:8080/"
        },
        "id": "04Lw1p_mc-xp",
        "outputId": "cac53af6-cbdd-42c2-db5d-36bd36b1f555"
      },
      "execution_count": 3,
      "outputs": [
        {
          "output_type": "execute_result",
          "data": {
            "text/plain": [
              "DataFrame[]"
            ]
          },
          "metadata": {},
          "execution_count": 3
        }
      ]
    },
    {
      "cell_type": "code",
      "source": [
        "# 2. Set the current database to sales_db .\n",
        "spark.sql(\"use sales_db\")"
      ],
      "metadata": {
        "colab": {
          "base_uri": "https://localhost:8080/"
        },
        "id": "7lurXZAadZiU",
        "outputId": "0183950d-621e-49ad-bdc7-3fa8a6c477d8"
      },
      "execution_count": 4,
      "outputs": [
        {
          "output_type": "execute_result",
          "data": {
            "text/plain": [
              "DataFrame[]"
            ]
          },
          "metadata": {},
          "execution_count": 4
        }
      ]
    },
    {
      "cell_type": "code",
      "source": [
        "# Create a table product_sales with columns:\n",
        "# ProductID (INT)\n",
        "# ProductName (STRING)\n",
        "# Category (STRING)\n",
        "# Price (DOUBLE)\n",
        "# Quantity (INT)\n",
        "# SaleDate (DATE)\n",
        "\n",
        "spark.sql(\"\"\"create table product_sales(\n",
        "  productid int,\n",
        "  productname string,\n",
        "  category string,\n",
        "  price double,\n",
        "  quantity int,\n",
        "  salesdate date\n",
        ")\n",
        "using parquet\"\"\")"
      ],
      "metadata": {
        "colab": {
          "base_uri": "https://localhost:8080/"
        },
        "id": "hIyRW8VpdhE4",
        "outputId": "b64b443d-5e3e-4c34-a996-5b0ae6bcc8c0"
      },
      "execution_count": 6,
      "outputs": [
        {
          "output_type": "execute_result",
          "data": {
            "text/plain": [
              "DataFrame[]"
            ]
          },
          "metadata": {},
          "execution_count": 6
        }
      ]
    },
    {
      "cell_type": "code",
      "source": [
        "# 4. Insert at least 5 rows into product_sales .\n",
        "spark.sql(\"\"\"insert into product_sales values\n",
        "(101, 'Laptop', 'Electronics', 75000.00, 3, DATE('2024-12-01')),\n",
        "(102, 'Mobile', 'Electronics', 25000.00, 5, DATE('2024-12-02')),\n",
        "(103, 'Chair', 'Furniture', 3500.00, 2, DATE('2024-12-03')),\n",
        "(104, 'Desk', 'Furniture', 5000.00, 1, DATE('2024-12-04')),\n",
        "(105, 'Headphones', 'Electronics', 1500.00, 4, DATE('2024-12-05'))\"\"\")"
      ],
      "metadata": {
        "colab": {
          "base_uri": "https://localhost:8080/"
        },
        "id": "u3DFsbTxeQef",
        "outputId": "b44d8f57-ea35-4606-df20-25b71f4d336c"
      },
      "execution_count": 7,
      "outputs": [
        {
          "output_type": "execute_result",
          "data": {
            "text/plain": [
              "DataFrame[]"
            ]
          },
          "metadata": {},
          "execution_count": 7
        }
      ]
    },
    {
      "cell_type": "code",
      "source": [
        "# Query Tasks\n",
        "# 5. Select all records from product_sales .\n",
        "spark.sql(\"select * from product_sales\").show()"
      ],
      "metadata": {
        "colab": {
          "base_uri": "https://localhost:8080/"
        },
        "id": "N1G3E6IaejuH",
        "outputId": "7ca8ef87-2f43-4d1c-f7ba-f621215d1843"
      },
      "execution_count": 8,
      "outputs": [
        {
          "output_type": "stream",
          "name": "stdout",
          "text": [
            "+---------+-----------+-----------+-------+--------+----------+\n",
            "|productid|productname|   category|  price|quantity| salesdate|\n",
            "+---------+-----------+-----------+-------+--------+----------+\n",
            "|      103|      Chair|  Furniture| 3500.0|       2|2024-12-03|\n",
            "|      104|       Desk|  Furniture| 5000.0|       1|2024-12-04|\n",
            "|      105| Headphones|Electronics| 1500.0|       4|2024-12-05|\n",
            "|      101|     Laptop|Electronics|75000.0|       3|2024-12-01|\n",
            "|      102|     Mobile|Electronics|25000.0|       5|2024-12-02|\n",
            "+---------+-----------+-----------+-------+--------+----------+\n",
            "\n"
          ]
        }
      ]
    },
    {
      "cell_type": "code",
      "source": [
        "# 6. Retrieve products where price is above 500.\n",
        "spark.sql(\"select * from product_sales where price > 500\").show()"
      ],
      "metadata": {
        "colab": {
          "base_uri": "https://localhost:8080/"
        },
        "id": "3-iKgGuke2uf",
        "outputId": "c5aa617f-82b0-4e6f-d68f-ed4a856e1bde"
      },
      "execution_count": 9,
      "outputs": [
        {
          "output_type": "stream",
          "name": "stdout",
          "text": [
            "+---------+-----------+-----------+-------+--------+----------+\n",
            "|productid|productname|   category|  price|quantity| salesdate|\n",
            "+---------+-----------+-----------+-------+--------+----------+\n",
            "|      103|      Chair|  Furniture| 3500.0|       2|2024-12-03|\n",
            "|      104|       Desk|  Furniture| 5000.0|       1|2024-12-04|\n",
            "|      105| Headphones|Electronics| 1500.0|       4|2024-12-05|\n",
            "|      101|     Laptop|Electronics|75000.0|       3|2024-12-01|\n",
            "|      102|     Mobile|Electronics|25000.0|       5|2024-12-02|\n",
            "+---------+-----------+-----------+-------+--------+----------+\n",
            "\n"
          ]
        }
      ]
    },
    {
      "cell_type": "code",
      "source": [
        "# 7. Calculate total sale amount ( Price * Quantity ) for each product.\n",
        "spark.sql(\"select productname,(price*quantity) as totalsales from product_sales\").show()"
      ],
      "metadata": {
        "colab": {
          "base_uri": "https://localhost:8080/"
        },
        "id": "FObjAFW2fZ5E",
        "outputId": "3ffabfcc-3020-44b9-a9dc-84bc7f158e6a"
      },
      "execution_count": 11,
      "outputs": [
        {
          "output_type": "stream",
          "name": "stdout",
          "text": [
            "+-----------+----------+\n",
            "|productname|totalsales|\n",
            "+-----------+----------+\n",
            "|      Chair|    7000.0|\n",
            "|       Desk|    5000.0|\n",
            "| Headphones|    6000.0|\n",
            "|     Laptop|  225000.0|\n",
            "|     Mobile|  125000.0|\n",
            "+-----------+----------+\n",
            "\n"
          ]
        }
      ]
    },
    {
      "cell_type": "code",
      "source": [
        "# 8. Find the number of products sold in each Category .\n",
        "spark.sql(\"select sum(quantity) as numberofproducts from product_sales\").show()"
      ],
      "metadata": {
        "colab": {
          "base_uri": "https://localhost:8080/"
        },
        "id": "6svPsqu5f9zy",
        "outputId": "c8552798-ead0-4e1d-cd7c-c1565f25bf74"
      },
      "execution_count": 12,
      "outputs": [
        {
          "output_type": "stream",
          "name": "stdout",
          "text": [
            "+----------------+\n",
            "|numberofproducts|\n",
            "+----------------+\n",
            "|              15|\n",
            "+----------------+\n",
            "\n"
          ]
        }
      ]
    },
    {
      "cell_type": "code",
      "source": [
        "# 9. Sort products by total sales in descending order.\n",
        "spark.sql(\"select productname,(price*quantity) as totalsales from product_sales order by totalsales\").show()"
      ],
      "metadata": {
        "colab": {
          "base_uri": "https://localhost:8080/"
        },
        "id": "zk27ZaEjgczW",
        "outputId": "bc3d671b-c05c-4be0-a143-94d7abdbc08d"
      },
      "execution_count": 13,
      "outputs": [
        {
          "output_type": "stream",
          "name": "stdout",
          "text": [
            "+-----------+----------+\n",
            "|productname|totalsales|\n",
            "+-----------+----------+\n",
            "|       Desk|    5000.0|\n",
            "| Headphones|    6000.0|\n",
            "|      Chair|    7000.0|\n",
            "|     Mobile|  125000.0|\n",
            "|     Laptop|  225000.0|\n",
            "+-----------+----------+\n",
            "\n"
          ]
        }
      ]
    },
    {
      "cell_type": "code",
      "source": [
        "# Temporary View Tasks\n",
        "# 10. Create a PySpark DataFrame with dummy product data.\n",
        "from datetime import date\n",
        "from pyspark.sql.types import StructType, StructField, IntegerType, StringType, DoubleType, DateType\n",
        "\n",
        "data = [\n",
        "    (201,\"Keyboard\",\"Electronics\",1200.00,2,date(2024, 12, 1)),\n",
        "    (202, \"Mouse\", \"Electronics\", 800.0, 1, date(2024, 12, 2)),\n",
        "    (203, \"Notebook\", \"Stationery\", 50.0, 5, date(2024, 12, 3)),\n",
        "    (204, \"Pen\", \"Stationery\", 20.0, 10, date(2024, 12, 4)),\n",
        "    (205, \"Monitor\", \"Electronics\", 15000.0, 1, date(2024, 12, 5))\n",
        "]\n",
        "\n",
        "schema = StructType([\n",
        "    StructField(\"ProductID\", IntegerType(), True),\n",
        "    StructField(\"ProductName\", StringType(), True),\n",
        "    StructField(\"Category\", StringType(), True),\n",
        "    StructField(\"Price\", DoubleType(), True),\n",
        "    StructField(\"Quantity\", IntegerType(), True),\n",
        "    StructField(\"SaleDate\", DateType(), True)\n",
        "])\n",
        "\n",
        "df = spark.createDataFrame(data, schema)\n",
        "df.show()"
      ],
      "metadata": {
        "colab": {
          "base_uri": "https://localhost:8080/"
        },
        "id": "rMiIhtQNgt2-",
        "outputId": "aff84279-26ea-4e01-d329-c5c324f1de44"
      },
      "execution_count": 15,
      "outputs": [
        {
          "output_type": "stream",
          "name": "stdout",
          "text": [
            "+---------+-----------+-----------+-------+--------+----------+\n",
            "|ProductID|ProductName|   Category|  Price|Quantity|  SaleDate|\n",
            "+---------+-----------+-----------+-------+--------+----------+\n",
            "|      201|   Keyboard|Electronics| 1200.0|       2|2024-12-01|\n",
            "|      202|      Mouse|Electronics|  800.0|       1|2024-12-02|\n",
            "|      203|   Notebook| Stationery|   50.0|       5|2024-12-03|\n",
            "|      204|        Pen| Stationery|   20.0|      10|2024-12-04|\n",
            "|      205|    Monitor|Electronics|15000.0|       1|2024-12-05|\n",
            "+---------+-----------+-----------+-------+--------+----------+\n",
            "\n"
          ]
        }
      ]
    },
    {
      "cell_type": "code",
      "source": [
        "# 11. Register it as a temporary view called temp_orders .\n",
        "df.createOrReplaceTempView(\"temp_orders\")"
      ],
      "metadata": {
        "id": "i6mdgEV2jxtN"
      },
      "execution_count": 17,
      "outputs": []
    },
    {
      "cell_type": "code",
      "source": [
        "# 12. Run a SQL query to filter temp_orders where quantity > 1.\n",
        "spark.sql(\"select * from temp_orders where Quantity >1\").show()"
      ],
      "metadata": {
        "colab": {
          "base_uri": "https://localhost:8080/"
        },
        "id": "TdtpjOTckjf0",
        "outputId": "744907ce-8a63-4764-adcd-d3977b385f40"
      },
      "execution_count": 18,
      "outputs": [
        {
          "output_type": "stream",
          "name": "stdout",
          "text": [
            "+---------+-----------+-----------+------+--------+----------+\n",
            "|ProductID|ProductName|   Category| Price|Quantity|  SaleDate|\n",
            "+---------+-----------+-----------+------+--------+----------+\n",
            "|      201|   Keyboard|Electronics|1200.0|       2|2024-12-01|\n",
            "|      203|   Notebook| Stationery|  50.0|       5|2024-12-03|\n",
            "|      204|        Pen| Stationery|  20.0|      10|2024-12-04|\n",
            "+---------+-----------+-----------+------+--------+----------+\n",
            "\n"
          ]
        }
      ]
    },
    {
      "cell_type": "code",
      "source": [
        "# Global View Tasks\n",
        "# 13. Create a global temp view from a PySpark DataFrame named global_orders .\n",
        "# 14. Run a SQL query on the global view from another notebook cell/session.\n",
        "\n",
        "from pyspark.sql.types import StructType, StructField, IntegerType, StringType, DoubleType, DateType\n",
        "from datetime import date\n",
        "\n",
        "data = [\n",
        "    (301, \"Tablet\", \"Electronics\", 22000.0, 2, date(2024,12,6)),\n",
        "    (302, \"Book\", \"Stationery\", 500.0, 3, date(2024,12,7)),\n",
        "    (303, \"Lamp\", \"Furniture\", 1500.0, 1, date(2024,12,8)),\n",
        "    (304, \"Router\", \"Electronics\", 3200.0, 2, date(2024,12,9)),\n",
        "    (305, \"Marker\", \"Stationery\", 80.0, 6, date(2024,12,10))\n",
        "]\n",
        "\n",
        "schema = StructType([\n",
        "    StructField(\"ProductID\", IntegerType(), True),\n",
        "    StructField(\"ProductName\", StringType(), True),\n",
        "    StructField(\"Category\", StringType(), True),\n",
        "    StructField(\"Price\", DoubleType(), True),\n",
        "    StructField(\"Quantity\", IntegerType(), True),\n",
        "    StructField(\"SaleDate\", DateType(), True)\n",
        "])\n",
        "\n",
        "df_global = spark.createDataFrame(data, schema)\n",
        "df_global.show()"
      ],
      "metadata": {
        "colab": {
          "base_uri": "https://localhost:8080/"
        },
        "id": "t8u2g-KekziK",
        "outputId": "cf7267c7-df25-4fea-d745-8e6b6873ff8d"
      },
      "execution_count": 23,
      "outputs": [
        {
          "output_type": "stream",
          "name": "stdout",
          "text": [
            "+---------+-----------+-----------+-------+--------+----------+\n",
            "|ProductID|ProductName|   Category|  Price|Quantity|  SaleDate|\n",
            "+---------+-----------+-----------+-------+--------+----------+\n",
            "|      301|     Tablet|Electronics|22000.0|       2|2024-12-06|\n",
            "|      302|       Book| Stationery|  500.0|       3|2024-12-07|\n",
            "|      303|       Lamp|  Furniture| 1500.0|       1|2024-12-08|\n",
            "|      304|     Router|Electronics| 3200.0|       2|2024-12-09|\n",
            "|      305|     Marker| Stationery|   80.0|       6|2024-12-10|\n",
            "+---------+-----------+-----------+-------+--------+----------+\n",
            "\n"
          ]
        }
      ]
    },
    {
      "cell_type": "code",
      "source": [
        "df_global.createOrReplaceGlobalTempView(\"global_orders\")"
      ],
      "metadata": {
        "id": "1pz_9o8fmW23"
      },
      "execution_count": 24,
      "outputs": []
    },
    {
      "cell_type": "code",
      "source": [
        "result = spark.sql(\"SELECT * FROM global_temp.global_orders WHERE Quantity > 1\")\n",
        "result.show()"
      ],
      "metadata": {
        "colab": {
          "base_uri": "https://localhost:8080/"
        },
        "id": "IQ93VAuumZel",
        "outputId": "128fcade-1452-4c27-c02d-0aee17931c59"
      },
      "execution_count": 25,
      "outputs": [
        {
          "output_type": "stream",
          "name": "stdout",
          "text": [
            "+---------+-----------+-----------+-------+--------+----------+\n",
            "|ProductID|ProductName|   Category|  Price|Quantity|  SaleDate|\n",
            "+---------+-----------+-----------+-------+--------+----------+\n",
            "|      301|     Tablet|Electronics|22000.0|       2|2024-12-06|\n",
            "|      302|       Book| Stationery|  500.0|       3|2024-12-07|\n",
            "|      304|     Router|Electronics| 3200.0|       2|2024-12-09|\n",
            "|      305|     Marker| Stationery|   80.0|       6|2024-12-10|\n",
            "+---------+-----------+-----------+-------+--------+----------+\n",
            "\n"
          ]
        }
      ]
    },
    {
      "cell_type": "code",
      "source": [
        "# Join Tasks\n",
        "# 15. Create a second table customer_details with:\n",
        "# CustomerID , Name , Gender , City , SignupDate\n",
        "spark.sql(\"\"\"create table customer_details(\n",
        "  customerid int,\n",
        "  name string,\n",
        "  gender string,\n",
        "  city string,\n",
        "  signupdate date\n",
        ")\n",
        "using parquet\n",
        "\"\"\")"
      ],
      "metadata": {
        "colab": {
          "base_uri": "https://localhost:8080/"
        },
        "id": "cSPQo2fCmqql",
        "outputId": "8b272b1b-6211-498f-f7cf-6da86f9b61a4"
      },
      "execution_count": 26,
      "outputs": [
        {
          "output_type": "execute_result",
          "data": {
            "text/plain": [
              "DataFrame[]"
            ]
          },
          "metadata": {},
          "execution_count": 26
        }
      ]
    },
    {
      "cell_type": "code",
      "source": [
        "# 16. Insert at least 3 records into customer_details .\n",
        "spark.sql(\"\"\"\n",
        "INSERT INTO customer_details VALUES\n",
        "(101, 'Asha', 'Female', 'Chennai', DATE('2024-11-15')),\n",
        "(102, 'Ravi', 'Male', 'Mumbai', DATE('2024-11-20')),\n",
        "(105, 'Meena', 'Female', 'Delhi', DATE('2024-11-22'));\n",
        "\"\"\")"
      ],
      "metadata": {
        "colab": {
          "base_uri": "https://localhost:8080/"
        },
        "id": "1q3udFoGnhcT",
        "outputId": "2173eb7a-b635-4859-9549-2df86b846625"
      },
      "execution_count": 27,
      "outputs": [
        {
          "output_type": "execute_result",
          "data": {
            "text/plain": [
              "DataFrame[]"
            ]
          },
          "metadata": {},
          "execution_count": 27
        }
      ]
    },
    {
      "cell_type": "code",
      "source": [
        "# 17. Write a SQL join between product_sales and customer_details based on ProductID = CustomerID (simulate a match).\n",
        "spark.sql(\"select p.productid,p.productname,c.name,c.city from product_sales p join customer_details c on productid = customerid\").show()"
      ],
      "metadata": {
        "colab": {
          "base_uri": "https://localhost:8080/"
        },
        "id": "-ga_dIA1nuhR",
        "outputId": "5ecbde38-1495-4711-d5c2-2cc9da493c78"
      },
      "execution_count": 28,
      "outputs": [
        {
          "output_type": "stream",
          "name": "stdout",
          "text": [
            "+---------+-----------+-----+-------+\n",
            "|productid|productname| name|   city|\n",
            "+---------+-----------+-----+-------+\n",
            "|      101|     Laptop| Asha|Chennai|\n",
            "|      102|     Mobile| Ravi| Mumbai|\n",
            "|      105| Headphones|Meena|  Delhi|\n",
            "+---------+-----------+-----+-------+\n",
            "\n"
          ]
        }
      ]
    },
    {
      "cell_type": "code",
      "source": [
        "# 18. List customers who bought more than 2 products.\n",
        "spark.sql(\"\"\"\n",
        "    SELECT c.customerid, c.name, SUM(p.quantity) AS numberofproduct\n",
        "    FROM product_sales p\n",
        "    JOIN customer_details c\n",
        "    ON p.productid = c.customerid\n",
        "    GROUP BY c.customerid, c.name\n",
        "    HAVING SUM(p.quantity) > 2\n",
        "\"\"\").show()"
      ],
      "metadata": {
        "colab": {
          "base_uri": "https://localhost:8080/"
        },
        "id": "P83vBdPVqKV8",
        "outputId": "bada7ee8-f4a4-46a6-c44a-bf509514767b"
      },
      "execution_count": 34,
      "outputs": [
        {
          "output_type": "stream",
          "name": "stdout",
          "text": [
            "+----------+-----+---------------+\n",
            "|customerid| name|numberofproduct|\n",
            "+----------+-----+---------------+\n",
            "|       101| Asha|              3|\n",
            "|       105|Meena|              4|\n",
            "|       102| Ravi|              5|\n",
            "+----------+-----+---------------+\n",
            "\n"
          ]
        }
      ]
    },
    {
      "cell_type": "code",
      "source": [
        "# View & Summary Tasks\n",
        "# 19. Create a SQL view sales_summary that includes: ProductName , Price , Quantity , Total = Price * Quantity\n",
        "\n",
        "spark.sql(\"\"\"\n",
        "    CREATE OR REPLACE VIEW sales_summary AS\n",
        "    SELECT\n",
        "        ProductName,\n",
        "        Price,\n",
        "        Quantity,\n",
        "        (Price * Quantity) AS Total\n",
        "    FROM\n",
        "        product_sales\n",
        "\"\"\")"
      ],
      "metadata": {
        "colab": {
          "base_uri": "https://localhost:8080/"
        },
        "id": "Mim9gW2wreiu",
        "outputId": "825de948-bd0e-4b92-b0b9-31bdca3148b0"
      },
      "execution_count": 36,
      "outputs": [
        {
          "output_type": "execute_result",
          "data": {
            "text/plain": [
              "DataFrame[]"
            ]
          },
          "metadata": {},
          "execution_count": 36
        }
      ]
    },
    {
      "cell_type": "code",
      "source": [
        "# 20. Query the view for records with Total > 1000 .\n",
        "spark.sql(\"\"\"\n",
        "    SELECT * FROM sales_summary\n",
        "    WHERE Total > 1000\n",
        "\"\"\").show()"
      ],
      "metadata": {
        "colab": {
          "base_uri": "https://localhost:8080/"
        },
        "id": "F6Q4DVeurlE0",
        "outputId": "63140f5b-dd7b-41bd-897d-895133e91d36"
      },
      "execution_count": 37,
      "outputs": [
        {
          "output_type": "stream",
          "name": "stdout",
          "text": [
            "+-----------+-------+--------+--------+\n",
            "|ProductName|  Price|Quantity|   Total|\n",
            "+-----------+-------+--------+--------+\n",
            "|      Chair| 3500.0|       2|  7000.0|\n",
            "|       Desk| 5000.0|       1|  5000.0|\n",
            "| Headphones| 1500.0|       4|  6000.0|\n",
            "|     Laptop|75000.0|       3|225000.0|\n",
            "|     Mobile|25000.0|       5|125000.0|\n",
            "+-----------+-------+--------+--------+\n",
            "\n"
          ]
        }
      ]
    },
    {
      "cell_type": "code",
      "source": [
        "# Cleanup Tasks\n",
        "# 21. Drop the view sales_summary .\n",
        "spark.sql(\"drop view sales_summary\")\n",
        "# 22. Drop the tables product_sales and customer_details .\n",
        "spark.sql(\"drop table product_sales\")\n",
        "spark.sql(\"drop table customer_details\")\n",
        "# 23. Drop the database sales_db .\n",
        "spark.sql(\"drop database sales_db\")"
      ],
      "metadata": {
        "colab": {
          "base_uri": "https://localhost:8080/"
        },
        "id": "QtDzlprfsmiq",
        "outputId": "98fcf12f-1e81-4d0d-c482-995319196bd8"
      },
      "execution_count": 38,
      "outputs": [
        {
          "output_type": "execute_result",
          "data": {
            "text/plain": [
              "DataFrame[]"
            ]
          },
          "metadata": {},
          "execution_count": 38
        }
      ]
    }
  ]
}