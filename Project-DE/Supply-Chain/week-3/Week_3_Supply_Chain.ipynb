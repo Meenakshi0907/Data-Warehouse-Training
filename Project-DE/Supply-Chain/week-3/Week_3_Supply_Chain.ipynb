{
  "nbformat": 4,
  "nbformat_minor": 0,
  "metadata": {
    "colab": {
      "provenance": []
    },
    "kernelspec": {
      "name": "python3",
      "display_name": "Python 3"
    },
    "language_info": {
      "name": "python"
    }
  },
  "cells": [
    {
      "cell_type": "code",
      "execution_count": 21,
      "metadata": {
        "colab": {
          "base_uri": "https://localhost:8080/"
        },
        "id": "QVSHK2fzTVPh",
        "outputId": "694da4db-3c91-4bd1-f0d0-9b66887b410f"
      },
      "outputs": [
        {
          "output_type": "stream",
          "name": "stdout",
          "text": [
            "=== Suppliers Schema ===\n",
            "root\n",
            " |-- supplier_id: integer (nullable = true)\n",
            " |-- name: string (nullable = true)\n",
            " |-- contact_email: string (nullable = true)\n",
            " |-- phone: string (nullable = true)\n",
            "\n",
            "=== Inventory Schema ===\n",
            "root\n",
            " |-- product_id: integer (nullable = true)\n",
            " |-- product_name: string (nullable = true)\n",
            " |-- supplier_id: integer (nullable = true)\n",
            " |-- quantity: integer (nullable = true)\n",
            " |-- reorder_level: integer (nullable = true)\n",
            "\n",
            "=== Orders Schema ===\n",
            "root\n",
            " |-- order_id: integer (nullable = true)\n",
            " |-- product_id: integer (nullable = true)\n",
            " |-- order_date: date (nullable = true)\n",
            " |-- delivery_date: date (nullable = true)\n",
            " |-- quantity: integer (nullable = true)\n",
            " |-- status: string (nullable = true)\n",
            "\n",
            "+-----------+-------------------+--------------+\n",
            "|supplier_id|               name|delayed_orders|\n",
            "+-----------+-------------------+--------------+\n",
            "|         10|   Kappa Supply Co.|             1|\n",
            "|          8|Theta Manufacturing|             1|\n",
            "|          4| Delta Distributors|             1|\n",
            "|          7|          Eta Goods|             1|\n",
            "|          5|  Epsilon Exporters|             1|\n",
            "|          2|       Beta Traders|             1|\n",
            "+-----------+-------------------+--------------+\n",
            "\n"
          ]
        }
      ],
      "source": [
        "from pyspark.sql import SparkSession\n",
        "from pyspark.sql.functions import col, count, to_date\n",
        "\n",
        "spark = SparkSession.builder.appName(\"SupplyChainProcessing\").getOrCreate()\n",
        "\n",
        "# Load order data from CSV\n",
        "suppliers_df = spark.read.option(\"header\", True).csv(\"suppliers.csv\", inferSchema=True)\n",
        "inventory_df = spark.read.option(\"header\", True).csv(\"inventory.csv\", inferSchema=True)\n",
        "orders_df_raw = spark.read.option(\"header\", True).csv(\"orders.csv\", inferSchema=True)\n",
        "\n",
        "print(\"=== Suppliers Schema ===\")\n",
        "suppliers_df.printSchema()\n",
        "\n",
        "print(\"=== Inventory Schema ===\")\n",
        "inventory_df.printSchema()\n",
        "\n",
        "print(\"=== Orders Schema ===\")\n",
        "orders_df_raw.printSchema()\n",
        "\n",
        "orders_df = orders_df_raw \\\n",
        "    .withColumn(\"order_date\", to_date(\"order_date\", \"yyyy-MM-dd\")) \\\n",
        "    .withColumn(\"delivery_date\", to_date(\"delivery_date\", \"yyyy-MM-dd\"))\n",
        "\n",
        "# Filter delayed shipments\n",
        "delayed_df = orders_df.filter(col(\"status\") != \"Delivered\")\n",
        "\n",
        "inventory_trimmed = inventory_df.select(\"product_id\", \"supplier_id\")\n",
        "\n",
        "# Join delayed orders\n",
        "orders_with_supplier = delayed_df.join(inventory_trimmed, on=\"product_id\", how=\"inner\")\n",
        "\n",
        "# Join with suppliers\n",
        "joined_df = orders_with_supplier.join(suppliers_df, on=\"supplier_id\", how=\"inner\")\n",
        "\n",
        "# Group by supplier and count delayed orders\n",
        "result_df = joined_df.groupBy(\"supplier_id\", \"name\") \\\n",
        "    .agg(count(\"order_id\").alias(\"delayed_orders\"))\n",
        "\n",
        "# Show and save result\n",
        "result_df.show()\n",
        "result_df.coalesce(1).write.mode(\"overwrite\").csv(\"output/delayed_orders_by_supplier_csv\", header=True)\n",
        "result_df.coalesce(1).write.mode(\"overwrite\").parquet(\"output/delayed_orders_by_supplier_parquet\")\n",
        "\n",
        "spark.stop()\n"
      ]
    }
  ]
}