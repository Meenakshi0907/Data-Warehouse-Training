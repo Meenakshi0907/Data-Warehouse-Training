{
 "cells": [
  {
   "cell_type": "code",
   "execution_count": 0,
   "metadata": {
    "application/vnd.databricks.v1+cell": {
     "cellMetadata": {},
     "inputWidgets": {},
     "nuid": "84d3d0c9-c924-40ce-b94e-4fc04ce645cc",
     "showTitle": false,
     "tableResultSettingsMap": {},
     "title": ""
    }
   },
   "outputs": [],
   "source": [
    "from pyspark.sql import SparkSession\n",
    "spark = SparkSession.builder \\\n",
    "    .appName(\"Supply Chain Monitoring\") \\\n",
    "    .getOrCreate()\n"
   ]
  },
  {
   "cell_type": "markdown",
   "metadata": {
    "application/vnd.databricks.v1+cell": {
     "cellMetadata": {},
     "inputWidgets": {},
     "nuid": "b9695344-7e4d-4177-b7d1-26bf67d93057",
     "showTitle": false,
     "tableResultSettingsMap": {},
     "title": ""
    }
   },
   "source": [
    "Upload CSV data into Databricks"
   ]
  },
  {
   "cell_type": "code",
   "execution_count": 0,
   "metadata": {
    "application/vnd.databricks.v1+cell": {
     "cellMetadata": {
      "byteLimit": 2048000,
      "rowLimit": 10000
     },
     "inputWidgets": {},
     "nuid": "9d06bb35-949a-4f17-b06f-900d8a4b3e4a",
     "showTitle": false,
     "tableResultSettingsMap": {},
     "title": ""
    }
   },
   "outputs": [],
   "source": [
    "inventory_df = spark.read.option(\"header\", True).csv(\"file:///Workspace/Shared/inventory.csv\")\n",
    "suppliers_df = spark.read.option(\"header\", True).csv(\"file:///Workspace/Shared/suppliers.csv\")\n",
    "orders_df = spark.read.option(\"header\", True).csv(\"file:///Workspace/Shared/orders.csv\")\n"
   ]
  },
  {
   "cell_type": "code",
   "execution_count": 0,
   "metadata": {
    "application/vnd.databricks.v1+cell": {
     "cellMetadata": {
      "byteLimit": 2048000,
      "rowLimit": 10000
     },
     "inputWidgets": {},
     "nuid": "f9c34daf-3d7a-4f74-81f9-6f81d214b68d",
     "showTitle": false,
     "tableResultSettingsMap": {},
     "title": ""
    }
   },
   "outputs": [
    {
     "output_type": "stream",
     "name": "stdout",
     "output_type": "stream",
     "text": [
      "root\n |-- product_id: string (nullable = true)\n |-- product_name: string (nullable = true)\n |-- supplier_id: string (nullable = true)\n |-- quantity: string (nullable = true)\n |-- reorder_level: string (nullable = true)\n\nroot\n |-- supplier_id: string (nullable = true)\n |-- name: string (nullable = true)\n |-- contact_email: string (nullable = true)\n |-- phone: string (nullable = true)\n\nroot\n |-- order_id: string (nullable = true)\n |-- product_id: string (nullable = true)\n |-- order_date: string (nullable = true)\n |-- delivery_date: string (nullable = true)\n |-- quantity: string (nullable = true)\n |-- status: string (nullable = true)\n\n"
     ]
    }
   ],
   "source": [
    "inventory_df.printSchema()\n",
    "suppliers_df.printSchema()\n",
    "orders_df.printSchema()\n"
   ]
  },
  {
   "cell_type": "markdown",
   "metadata": {
    "application/vnd.databricks.v1+cell": {
     "cellMetadata": {},
     "inputWidgets": {},
     "nuid": "a03ee8fc-ae54-4728-9360-d65fee14503c",
     "showTitle": false,
     "tableResultSettingsMap": {},
     "title": ""
    }
   },
   "source": [
    "Run a notebook to clean and filter the data"
   ]
  },
  {
   "cell_type": "code",
   "execution_count": 0,
   "metadata": {
    "application/vnd.databricks.v1+cell": {
     "cellMetadata": {
      "byteLimit": 2048000,
      "rowLimit": 10000
     },
     "inputWidgets": {},
     "nuid": "001cfb6a-9db9-46fb-b927-9798e18fa65a",
     "showTitle": false,
     "tableResultSettingsMap": {},
     "title": ""
    }
   },
   "outputs": [],
   "source": [
    "from pyspark.sql.functions import col, trim, to_date\n",
    "\n",
    "inventory_df = inventory_df.select([trim(col(c)).alias(c.strip()) for c in inventory_df.columns])\n",
    "suppliers_df = suppliers_df.select([trim(col(c)).alias(c.strip()) for c in suppliers_df.columns])\n",
    "orders_df = orders_df.select([trim(col(c)).alias(c.strip()) for c in orders_df.columns])\n",
    "\n",
    "inventory_df = inventory_df.withColumn(\"quantity\", col(\"quantity\").cast(\"int\")) \\\n",
    "                           .withColumn(\"reorder_level\", col(\"reorder_level\").cast(\"int\")) \\\n",
    "                           .withColumn(\"supplier_id\", col(\"supplier_id\").cast(\"int\")) \\\n",
    "                           .withColumn(\"product_id\", col(\"product_id\").cast(\"int\"))\n",
    "\n",
    "suppliers_df = suppliers_df.withColumn(\"supplier_id\", col(\"supplier_id\").cast(\"int\"))\n",
    "\n",
    "orders_df = orders_df.withColumn(\"order_id\", col(\"order_id\").cast(\"int\")) \\\n",
    "                     .withColumn(\"product_id\", col(\"product_id\").cast(\"int\")) \\\n",
    "                     .withColumn(\"quantity\", col(\"quantity\").cast(\"int\")) \\\n",
    "                     .withColumn(\"order_date\", to_date(col(\"order_date\"), \"dd-MM-yyyy\")) \\\n",
    "                     .withColumn(\"delivery_date\", to_date(col(\"delivery_date\"), \"dd-MM-yyyy\"))\n"
   ]
  },
  {
   "cell_type": "code",
   "execution_count": 0,
   "metadata": {
    "application/vnd.databricks.v1+cell": {
     "cellMetadata": {
      "byteLimit": 2048000,
      "rowLimit": 10000
     },
     "inputWidgets": {},
     "nuid": "e23e5f43-6a60-4a2d-b53d-94118eceb659",
     "showTitle": false,
     "tableResultSettingsMap": {},
     "title": ""
    }
   },
   "outputs": [
    {
     "output_type": "stream",
     "name": "stdout",
     "output_type": "stream",
     "text": [
      "+----------+------------+--------+-------------+----+-------------+\n|product_id|product_name|quantity|reorder_level|name|contact_email|\n+----------+------------+--------+-------------+----+-------------+\n+----------+------------+--------+-------------+----+-------------+\n\n"
     ]
    }
   ],
   "source": [
    "inventory_status_df = inventory_df.join(suppliers_df, on=\"supplier_id\", how=\"left\")\n",
    "\n",
    "low_stock_df = inventory_status_df.filter(col(\"quantity\") < col(\"reorder_level\"))\n",
    "\n",
    "low_stock_df.select(\"product_id\", \"product_name\", \"quantity\", \"reorder_level\", \"name\", \"contact_email\").show()"
   ]
  },
  {
   "cell_type": "markdown",
   "metadata": {
    "application/vnd.databricks.v1+cell": {
     "cellMetadata": {},
     "inputWidgets": {},
     "nuid": "cbc8f1be-7155-40d1-b59a-9b9d2a30e7c3",
     "showTitle": false,
     "tableResultSettingsMap": {},
     "title": ""
    }
   },
   "source": [
    "Save cleaned output as Delta or CSV"
   ]
  },
  {
   "cell_type": "code",
   "execution_count": 0,
   "metadata": {
    "application/vnd.databricks.v1+cell": {
     "cellMetadata": {
      "byteLimit": 2048000,
      "rowLimit": 10000
     },
     "inputWidgets": {},
     "nuid": "b84580aa-f234-41a7-a38a-17c7cc53a488",
     "showTitle": false,
     "tableResultSettingsMap": {},
     "title": ""
    }
   },
   "outputs": [],
   "source": [
    "# Delta\n",
    "low_stock_df.write.format(\"delta\").mode(\"overwrite\").save(\"/mnt/datalake/low_stock_products\")\n",
    "\n",
    "# CSV\n",
    "low_stock_df.write.option(\"header\", True).csv(\"/mnt/datalake/low_stock_products_csv\", mode=\"overwrite\")"
   ]
  },
  {
   "cell_type": "markdown",
   "metadata": {
    "application/vnd.databricks.v1+cell": {
     "cellMetadata": {},
     "inputWidgets": {},
     "nuid": "350cf015-c9ed-44b3-8e34-bc3a3491413e",
     "showTitle": false,
     "tableResultSettingsMap": {},
     "title": ""
    }
   },
   "source": [
    "Run basic analysis queries using SQL or PySpark"
   ]
  },
  {
   "cell_type": "code",
   "execution_count": 0,
   "metadata": {
    "application/vnd.databricks.v1+cell": {
     "cellMetadata": {},
     "inputWidgets": {},
     "nuid": "fa5d8e8c-914f-4a75-b3f8-6ed34b6ae437",
     "showTitle": false,
     "tableResultSettingsMap": {},
     "title": ""
    }
   },
   "outputs": [],
   "source": [
    "orders_df.createOrReplaceTempView(\"orders\")\n",
    "\n",
    "spark.sql(\"\"\"\n",
    "SELECT product_id, COUNT(*) AS delayed_count\n",
    "FROM orders\n",
    "WHERE status = 'Delayed'\n",
    "GROUP BY product_id\n",
    "ORDER BY delayed_count DESC\n",
    "LIMIT 5\n",
    "\"\"\").show()"
   ]
  }
 ],
 "metadata": {
  "application/vnd.databricks.v1+notebook": {
   "computePreferences": null,
   "dashboards": [],
   "environmentMetadata": {
    "base_environment": "",
    "environment_version": "2"
   },
   "inputWidgetPreferences": null,
   "language": "python",
   "notebookMetadata": {
    "pythonIndentUnit": 4
   },
   "notebookName": "Week 4_Supply Chain Monitoring",
   "widgets": {}
  },
  "language_info": {
   "name": "python"
  }
 },
 "nbformat": 4,
 "nbformat_minor": 0
}