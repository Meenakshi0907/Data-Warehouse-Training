{
  "nbformat": 4,
  "nbformat_minor": 0,
  "metadata": {
    "colab": {
      "provenance": []
    },
    "kernelspec": {
      "name": "python3",
      "display_name": "Python 3"
    },
    "language_info": {
      "name": "python"
    }
  },
  "cells": [
    {
      "cell_type": "code",
      "execution_count": null,
      "metadata": {
        "id": "zVwdriIBdwi-"
      },
      "outputs": [],
      "source": [
        "# Load cleaned order data\n",
        "orders_df = spark.read.option(\"header\", True).option(\"inferSchema\", True).csv(\"/FileStore/tables/orders_cleaned.csv\")\n",
        "orders_df.createOrReplaceTempView(\"orders\")"
      ]
    },
    {
      "cell_type": "code",
      "source": [
        "# Load latest delivery status\n",
        "status_df = spark.read.option(\"header\", True).option(\"inferSchema\", True).csv(\"/FileStore/tables/delivery_status.csv\")\n",
        "status_df.createOrReplaceTempView(\"delivery_status\")"
      ],
      "metadata": {
        "id": "BtAkPqnpdyMI"
      },
      "execution_count": null,
      "outputs": []
    },
    {
      "cell_type": "code",
      "source": [
        "# Join on order_id and get updated status\n",
        "orders_updated_df = orders_df.alias(\"o\").join(\n",
        "    status_df.select(\"order_id\", \"status\", \"last_updated\").alias(\"s\"),\n",
        "    on=\"order_id\",\n",
        "    how=\"left\"\n",
        ").drop(\"o.status\").withColumnRenamed(\"s.status\", \"status\")\n",
        "\n",
        "orders_updated_df.createOrReplaceTempView(\"orders_updated\")"
      ],
      "metadata": {
        "id": "tuqRzLNed47d"
      },
      "execution_count": null,
      "outputs": []
    },
    {
      "cell_type": "code",
      "source": [
        "orders_updated_df.write.mode(\"overwrite\").format(\"delta\").save(\"/mnt/datalake/processed/orders_updated_delta\")\n",
        "orders_updated_df.write.mode(\"overwrite\").option(\"header\", True).csv(\"/FileStore/output/orders_updated_csv\")"
      ],
      "metadata": {
        "id": "UT-K_WZHd6DC"
      },
      "execution_count": null,
      "outputs": []
    }
  ]
}