{
  "nbformat": 4,
  "nbformat_minor": 0,
  "metadata": {
    "colab": {
      "provenance": []
    },
    "kernelspec": {
      "name": "python3",
      "display_name": "Python 3"
    },
    "language_info": {
      "name": "python"
    }
  },
  "cells": [
    {
      "cell_type": "code",
      "source": [
        "from pyspark.sql import SparkSession\n",
        "spark = SparkSession.builder.appName(\"Order Delay Analysis by Region\").getOrCreate()\n",
        "\n",
        "spark"
      ],
      "metadata": {
        "colab": {
          "base_uri": "https://localhost:8080/",
          "height": 219
        },
        "id": "Yszlx-twY9GH",
        "outputId": "b49c8313-34ac-42b8-b339-a0710d0fc9e5"
      },
      "execution_count": 12,
      "outputs": [
        {
          "output_type": "execute_result",
          "data": {
            "text/plain": [
              "<pyspark.sql.session.SparkSession at 0x797146b13dd0>"
            ],
            "text/html": [
              "\n",
              "            <div>\n",
              "                <p><b>SparkSession - in-memory</b></p>\n",
              "                \n",
              "        <div>\n",
              "            <p><b>SparkContext</b></p>\n",
              "\n",
              "            <p><a href=\"http://fd9b6ea7279d:4040\">Spark UI</a></p>\n",
              "\n",
              "            <dl>\n",
              "              <dt>Version</dt>\n",
              "                <dd><code>v3.5.1</code></dd>\n",
              "              <dt>Master</dt>\n",
              "                <dd><code>local[*]</code></dd>\n",
              "              <dt>AppName</dt>\n",
              "                <dd><code>Order Delay Analysis by Region</code></dd>\n",
              "            </dl>\n",
              "        </div>\n",
              "        \n",
              "            </div>\n",
              "        "
            ]
          },
          "metadata": {},
          "execution_count": 12
        }
      ]
    },
    {
      "cell_type": "code",
      "execution_count": 13,
      "metadata": {
        "colab": {
          "base_uri": "https://localhost:8080/"
        },
        "id": "g_YPknbZY203",
        "outputId": "ea2b609e-02df-4dd0-debd-c0d72e74808d"
      },
      "outputs": [
        {
          "output_type": "stream",
          "name": "stdout",
          "text": [
            "Drive already mounted at /content/drive; to attempt to forcibly remount, call drive.mount(\"/content/drive\", force_remount=True).\n",
            "+--------+-----------+----------+-------------+\n",
            "|order_id|customer_id|order_date|delivery_date|\n",
            "+--------+-----------+----------+-------------+\n",
            "|     101|          1|2024-06-01|   2024-06-05|\n",
            "|     102|          2|2024-06-02|   2024-06-06|\n",
            "|     103|          3|2024-06-03|         NULL|\n",
            "|     104|          4|2024-06-04|   2024-06-08|\n",
            "|     105|          5|2024-06-05|         NULL|\n",
            "|     106|          6|2024-06-06|   2024-06-10|\n",
            "|     107|          7|2024-06-07|   2024-06-11|\n",
            "|     108|          8|2024-06-08|         NULL|\n",
            "|     109|          9|2024-06-09|   2024-06-13|\n",
            "|     110|         10|2024-06-10|         NULL|\n",
            "|     111|         11|2024-06-11|   2024-06-15|\n",
            "|     112|         12|2024-06-12|   2024-06-16|\n",
            "|     113|         13|2024-06-13|         NULL|\n",
            "|     114|         14|2024-06-14|   2024-06-18|\n",
            "|     115|         15|2024-06-15|   2024-06-19|\n",
            "|     116|         16|2024-06-16|         NULL|\n",
            "|     117|         17|2024-06-17|   2024-06-21|\n",
            "|     118|         18|2024-06-18|         NULL|\n",
            "|     119|         19|2024-06-19|   2024-06-23|\n",
            "|     120|         20|2024-06-20|   2024-06-24|\n",
            "+--------+-----------+----------+-------------+\n",
            "only showing top 20 rows\n",
            "\n",
            "+-----------+-------------+--------------------+------+\n",
            "|customer_id|         name|               email|region|\n",
            "+-----------+-------------+--------------------+------+\n",
            "|          1|Alice Johnson|alice.johnson@exa...| North|\n",
            "|          2|    Bob Smith|bob.smith@example...| South|\n",
            "|          3|  Carol White|carol.white@examp...|  East|\n",
            "|          4|  David Brown|david.brown@examp...|  West|\n",
            "|          5|    Eva Green|eva.green@example...| North|\n",
            "|          6|  Frank Moore|frank.moore@examp...| South|\n",
            "|          7|    Grace Lee|grace.lee@example...|  East|\n",
            "|          8|  Harry Clark|harry.clark@examp...|  West|\n",
            "|          9|     Ivy Hall|ivy.hall@example.com| North|\n",
            "|         10|    Jack King|jack.king@example...| South|\n",
            "|         11|  Kathy Young|kathy.young@examp...|  East|\n",
            "|         12|    Leo Scott|leo.scott@example...|  West|\n",
            "|         13|    Mia Adams|mia.adams@example...| North|\n",
            "|         14|Nathan Turner|nathan.turner@exa...| South|\n",
            "|         15| Olivia Baker|olivia.baker@exam...|  East|\n",
            "|         16|   Paul Evans|paul.evans@exampl...|  West|\n",
            "|         17|  Quinn Perez|quinn.perez@examp...| North|\n",
            "|         18|    Rose Hill|rose.hill@example...| South|\n",
            "|         19|   Sam Wright|sam.wright@exampl...|  East|\n",
            "|         20| Tina Collins|tina.collins@exam...|  West|\n",
            "+-----------+-------------+--------------------+------+\n",
            "only showing top 20 rows\n",
            "\n",
            "+---------+--------+---------+-------------------+\n",
            "|status_id|order_id|   status|       last_updated|\n",
            "+---------+--------+---------+-------------------+\n",
            "|      201|     101|Delivered|2024-06-05 15:30:00|\n",
            "|      202|     102|Delivered|2024-06-06 12:00:00|\n",
            "|      203|     103|  Shipped|2024-06-04 10:00:00|\n",
            "|      204|     104|Delivered|2024-06-08 18:45:00|\n",
            "|      205|     105|     NULL|2024-06-07 09:00:00|\n",
            "|      206|     106|Delivered|2024-06-10 14:30:00|\n",
            "|      207|     107|Delivered|2024-06-11 11:15:00|\n",
            "|      208|     108|  Shipped|2024-06-09 16:00:00|\n",
            "|      209|     109|Delivered|2024-06-13 17:45:00|\n",
            "|      210|     110|     NULL|2024-06-11 13:00:00|\n",
            "|      211|     111|Delivered|2024-06-15 12:30:00|\n",
            "|      212|     112|Delivered|2024-06-16 09:30:00|\n",
            "|      213|     113|  Pending|2024-06-14 10:45:00|\n",
            "|      214|     114|Delivered|2024-06-18 19:00:00|\n",
            "|      215|     115|Delivered|2024-06-19 10:15:00|\n",
            "|      216|     116|     NULL|2024-06-17 14:00:00|\n",
            "|      217|     117|  Shipped|2024-06-20 11:00:00|\n",
            "|      218|     118|  Pending|2024-06-19 08:00:00|\n",
            "|      219|     119|Delivered|2024-06-23 16:45:00|\n",
            "|      220|     120|Delivered|2024-06-24 15:30:00|\n",
            "+---------+--------+---------+-------------------+\n",
            "only showing top 20 rows\n",
            "\n"
          ]
        }
      ],
      "source": [
        "from google.colab import drive\n",
        "drive.mount('/content/drive')\n",
        "\n",
        "orders_df = spark.read.option(\"header\", True).csv(\"/content/drive/MyDrive/orders.csv\", inferSchema=True)\n",
        "customers_df = spark.read.option(\"header\", True).csv(\"/content/drive/MyDrive/customers.csv\", inferSchema=True)\n",
        "status_df = spark.read.option(\"header\", True).csv(\"/content/drive/MyDrive/delivery_status.csv\", inferSchema=True)\n",
        "\n",
        "orders_df.show()\n",
        "customers_df.show()\n",
        "status_df.show()"
      ]
    },
    {
      "cell_type": "code",
      "source": [
        "orders_joined = orders_df.join(customers_df, on=\"customer_id\", how=\"left\") \\\n",
        "    .join(status_df.select(\"order_id\", \"status\"), on=\"order_id\", how=\"left\")"
      ],
      "metadata": {
        "id": "qROuz3l5Z7nm"
      },
      "execution_count": 14,
      "outputs": []
    },
    {
      "cell_type": "code",
      "source": [
        "from pyspark.sql.functions import col, when, current_date\n",
        "\n",
        "orders_with_delay = orders_joined.withColumn(\n",
        "    \"delayed\",\n",
        "    when((col(\"status\") != \"Delivered\") & (col(\"delivery_date\").isNotNull()) & (col(\"delivery_date\") < current_date()), 1).otherwise(0)\n",
        ")\n",
        "orders_df.show()"
      ],
      "metadata": {
        "colab": {
          "base_uri": "https://localhost:8080/"
        },
        "id": "HFa_kUKeaAo6",
        "outputId": "27c129d7-b96a-4fb6-c56e-97a9cc267a97"
      },
      "execution_count": 15,
      "outputs": [
        {
          "output_type": "stream",
          "name": "stdout",
          "text": [
            "+--------+-----------+----------+-------------+\n",
            "|order_id|customer_id|order_date|delivery_date|\n",
            "+--------+-----------+----------+-------------+\n",
            "|     101|          1|2024-06-01|   2024-06-05|\n",
            "|     102|          2|2024-06-02|   2024-06-06|\n",
            "|     103|          3|2024-06-03|         NULL|\n",
            "|     104|          4|2024-06-04|   2024-06-08|\n",
            "|     105|          5|2024-06-05|         NULL|\n",
            "|     106|          6|2024-06-06|   2024-06-10|\n",
            "|     107|          7|2024-06-07|   2024-06-11|\n",
            "|     108|          8|2024-06-08|         NULL|\n",
            "|     109|          9|2024-06-09|   2024-06-13|\n",
            "|     110|         10|2024-06-10|         NULL|\n",
            "|     111|         11|2024-06-11|   2024-06-15|\n",
            "|     112|         12|2024-06-12|   2024-06-16|\n",
            "|     113|         13|2024-06-13|         NULL|\n",
            "|     114|         14|2024-06-14|   2024-06-18|\n",
            "|     115|         15|2024-06-15|   2024-06-19|\n",
            "|     116|         16|2024-06-16|         NULL|\n",
            "|     117|         17|2024-06-17|   2024-06-21|\n",
            "|     118|         18|2024-06-18|         NULL|\n",
            "|     119|         19|2024-06-19|   2024-06-23|\n",
            "|     120|         20|2024-06-20|   2024-06-24|\n",
            "+--------+-----------+----------+-------------+\n",
            "only showing top 20 rows\n",
            "\n"
          ]
        }
      ]
    },
    {
      "cell_type": "code",
      "source": [
        "from pyspark.sql.functions import sum,col\n",
        "\n",
        "delay_by_region = orders_with_delay.groupBy(\"region\").sum(\"delayed\").withColumnRenamed(\"sum(delayed)\", \"delayed_order_count\") \\\n",
        "    .orderBy(col(\"delayed_order_count\").desc())\n",
        "\n",
        "delay_by_region.show()"
      ],
      "metadata": {
        "colab": {
          "base_uri": "https://localhost:8080/"
        },
        "id": "xpALX-kAaRfK",
        "outputId": "9ba04fca-33be-40e9-964c-187d1a21eb40"
      },
      "execution_count": 16,
      "outputs": [
        {
          "output_type": "stream",
          "name": "stdout",
          "text": [
            "+------+-------------------+\n",
            "|region|delayed_order_count|\n",
            "+------+-------------------+\n",
            "|  East|                  2|\n",
            "| North|                  1|\n",
            "| South|                  0|\n",
            "|  West|                  0|\n",
            "+------+-------------------+\n",
            "\n"
          ]
        }
      ]
    },
    {
      "cell_type": "code",
      "source": [
        "delay_by_region.coalesce(1).write.mode(\"overwrite\").option(\"header\", True).csv(\"/content/drive/MyDrive/delayed_orders_by_region\")"
      ],
      "metadata": {
        "id": "G4sE7DHOcZ47"
      },
      "execution_count": 17,
      "outputs": []
    }
  ]
}